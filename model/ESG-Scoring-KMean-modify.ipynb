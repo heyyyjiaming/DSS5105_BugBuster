{
 "cells": [
  {
   "cell_type": "code",
   "execution_count": 1,
   "metadata": {},
   "outputs": [],
   "source": [
    "import pandas as pd\n",
    "import numpy as np\n",
    "from sklearn.impute import SimpleImputer\n",
    "from sklearn.preprocessing import StandardScaler\n",
    "from sklearn.cluster import KMeans\n",
    "from sklearn.linear_model import LinearRegression\n",
    "import matplotlib.pyplot as plt\n",
    "import plotly.express as px"
   ]
  },
  {
   "cell_type": "markdown",
   "metadata": {},
   "source": [
    "### Build Scoring System and Create Banckmark"
   ]
  },
  {
   "cell_type": "code",
   "execution_count": 2,
   "metadata": {},
   "outputs": [
    {
     "data": {
      "text/html": [
       "<div>\n",
       "<style scoped>\n",
       "    .dataframe tbody tr th:only-of-type {\n",
       "        vertical-align: middle;\n",
       "    }\n",
       "\n",
       "    .dataframe tbody tr th {\n",
       "        vertical-align: top;\n",
       "    }\n",
       "\n",
       "    .dataframe thead th {\n",
       "        text-align: right;\n",
       "    }\n",
       "</style>\n",
       "<table border=\"1\" class=\"dataframe\">\n",
       "  <thead>\n",
       "    <tr style=\"text-align: right;\">\n",
       "      <th></th>\n",
       "      <th>Sub-sector</th>\n",
       "      <th>Company Name</th>\n",
       "      <th>Year</th>\n",
       "      <th>GHG Emissions (Scope 1) (tCO2e)</th>\n",
       "      <th>GHG Emissions (Scope 2) (tCO2e)</th>\n",
       "      <th>GHG Emissions (Scope 3) (tCO2e)</th>\n",
       "      <th>Total Energy Consumption (MWhs)</th>\n",
       "      <th>Total Water Consumption (ML)</th>\n",
       "      <th>Total Waste Generated (t)</th>\n",
       "      <th>Current Employees by Gender (Female %)</th>\n",
       "      <th>...</th>\n",
       "      <th>Total Number of Employees</th>\n",
       "      <th>Average Training Hours per Employee</th>\n",
       "      <th>Fatalities</th>\n",
       "      <th>High-consequence injuries</th>\n",
       "      <th>Recordable injuries</th>\n",
       "      <th>Recordable work-related ill health cases</th>\n",
       "      <th>Board Independence (%)</th>\n",
       "      <th>Women on the Board (%)</th>\n",
       "      <th>Women in Management Team (%)</th>\n",
       "      <th>Anti-Corruption Training for Employees (%)</th>\n",
       "    </tr>\n",
       "  </thead>\n",
       "  <tbody>\n",
       "    <tr>\n",
       "      <th>0</th>\n",
       "      <td>Software and Services</td>\n",
       "      <td>Company_1</td>\n",
       "      <td>2020</td>\n",
       "      <td>439.330088</td>\n",
       "      <td>692.120861</td>\n",
       "      <td>934.282272</td>\n",
       "      <td>9795.219615</td>\n",
       "      <td>190.466071</td>\n",
       "      <td>10.890496</td>\n",
       "      <td>28.490657</td>\n",
       "      <td>...</td>\n",
       "      <td>649</td>\n",
       "      <td>20.900478</td>\n",
       "      <td>0</td>\n",
       "      <td>1</td>\n",
       "      <td>5</td>\n",
       "      <td>0</td>\n",
       "      <td>70.013601</td>\n",
       "      <td>14.053968</td>\n",
       "      <td>38.372039</td>\n",
       "      <td>84.106898</td>\n",
       "    </tr>\n",
       "  </tbody>\n",
       "</table>\n",
       "<p>1 rows × 23 columns</p>\n",
       "</div>"
      ],
      "text/plain": [
       "              Sub-sector Company Name  Year  GHG Emissions (Scope 1) (tCO2e)  \\\n",
       "0  Software and Services    Company_1  2020                       439.330088   \n",
       "\n",
       "   GHG Emissions (Scope 2) (tCO2e)  GHG Emissions (Scope 3) (tCO2e)  \\\n",
       "0                       692.120861                       934.282272   \n",
       "\n",
       "   Total Energy Consumption (MWhs)  Total Water Consumption (ML)  \\\n",
       "0                      9795.219615                    190.466071   \n",
       "\n",
       "   Total Waste Generated (t)  Current Employees by Gender (Female %)  ...  \\\n",
       "0                  10.890496                               28.490657  ...   \n",
       "\n",
       "   Total Number of Employees  Average Training Hours per Employee  Fatalities  \\\n",
       "0                        649                            20.900478           0   \n",
       "\n",
       "   High-consequence injuries  Recordable injuries  \\\n",
       "0                          1                    5   \n",
       "\n",
       "   Recordable work-related ill health cases  Board Independence (%)  \\\n",
       "0                                         0               70.013601   \n",
       "\n",
       "   Women on the Board (%)  Women in Management Team (%)  \\\n",
       "0               14.053968                     38.372039   \n",
       "\n",
       "   Anti-Corruption Training for Employees (%)  \n",
       "0                                   84.106898  \n",
       "\n",
       "[1 rows x 23 columns]"
      ]
     },
     "execution_count": 2,
     "metadata": {},
     "output_type": "execute_result"
    }
   ],
   "source": [
    "# Step 1: Load Data\n",
    "esg_file_path = './data/Technology Industry ESG data.csv'\n",
    "esg_data = pd.read_csv(esg_file_path)\n",
    "esg_data.head(1)"
   ]
  },
  {
   "cell_type": "code",
   "execution_count": 3,
   "metadata": {},
   "outputs": [],
   "source": [
    "# Step 2: Data Preprocessing\n",
    "# Drop non-numeric columns that are not needed for imputation\n",
    "company_info = esg_data[['Sub-sector', 'Company Name', 'Year']]\n",
    "esg_data_numeric = esg_data.drop(columns=['Sub-sector', 'Company Name', 'Year','Recordable work-related ill health cases', \n",
    "                                          'Average Training Hours per Employee', 'Total Energy Consumption (MWhs)',\n",
    "                                          'Women on the Board (%)', 'Current Employees by Gender (Female %)', \n",
    "                                          'Women in Management Team (%)', 'Fatalities', 'Board Independence (%)'])"
   ]
  },
  {
   "cell_type": "code",
   "execution_count": 4,
   "metadata": {},
   "outputs": [],
   "source": [
    "# Handle missing values\n",
    "# (Implement techniques to handle missing data and ensure fair comparisons across companies.)\n",
    "imputer = SimpleImputer(strategy='median')\n",
    "esg_data_imputed = pd.DataFrame(imputer.fit_transform(esg_data_numeric), columns=esg_data_numeric.columns)"
   ]
  },
  {
   "cell_type": "code",
   "execution_count": 5,
   "metadata": {},
   "outputs": [],
   "source": [
    "# Step 3: Standardize Data\n",
    "scaler = StandardScaler()\n",
    "esg_data_scaled = pd.DataFrame(scaler.fit_transform(esg_data_imputed), columns=esg_data_numeric.columns)"
   ]
  },
  {
   "cell_type": "code",
   "execution_count": 6,
   "metadata": {},
   "outputs": [],
   "source": [
    "# Step 4: Apply KMeans Clustering\n",
    "# Determine the optimal number of clusters using the Elbow Method\n",
    "wcss = []  # Within-cluster sum of squares\n",
    "for i in range(1, 11):\n",
    "    kmeans = KMeans(n_clusters=i, init='k-means++', max_iter=300, n_init=10, random_state=42)\n",
    "    kmeans.fit(esg_data_scaled)\n",
    "    wcss.append(kmeans.inertia_)"
   ]
  },
  {
   "cell_type": "code",
   "execution_count": 7,
   "metadata": {},
   "outputs": [
    {
     "data": {
      "image/png": "[encoded data removed]",
      "text/plain": [
       "<Figure size 1000x600 with 1 Axes>"
      ]
     },
     "metadata": {},
     "output_type": "display_data"
    }
   ],
   "source": [
    "# Plot the Elbow Method\n",
    "plt.figure(figsize=(10, 6))\n",
    "plt.plot(range(1, 11), wcss, marker='o')\n",
    "plt.title('Elbow Method for Optimal Number of Clusters')\n",
    "plt.xlabel('Number of Clusters')\n",
    "plt.ylabel('WCSS')\n",
    "plt.show()"
   ]
  },
  {
   "cell_type": "code",
   "execution_count": 8,
   "metadata": {},
   "outputs": [],
   "source": [
    "# Step 5: Train KMeans Model with Optimal Number of Clusters\n",
    "# Assuming the optimal number of clusters is 3 based on the elbow plot\n",
    "optimal_clusters = 3\n",
    "kmeans = KMeans(n_clusters=optimal_clusters, init='k-means++', max_iter=300, n_init=10, random_state=42)\n",
    "esg_data['Cluster'] = kmeans.fit_predict(esg_data_scaled)"
   ]
  },
  {
   "cell_type": "code",
   "execution_count": 9,
   "metadata": {},
   "outputs": [],
   "source": [
    "# Step 6: Create General Industry Benchmark\n",
    "# Since all companies are in the technology industry, create benchmark categories based on cluster assignments\n",
    "esg_cluster_centers = pd.DataFrame(scaler.inverse_transform(kmeans.cluster_centers_), columns=esg_data_numeric.columns)\n",
    "esg_cluster_centers['Cluster'] = range(optimal_clusters)"
   ]
  },
  {
   "cell_type": "code",
   "execution_count": 10,
   "metadata": {},
   "outputs": [
    {
     "name": "stdout",
     "output_type": "stream",
     "text": [
      "General Technology Industry Benchmark Categories:\n"
     ]
    },
    {
     "data": {
      "text/html": [
       "<div>\n",
       "<style scoped>\n",
       "    .dataframe tbody tr th:only-of-type {\n",
       "        vertical-align: middle;\n",
       "    }\n",
       "\n",
       "    .dataframe tbody tr th {\n",
       "        vertical-align: top;\n",
       "    }\n",
       "\n",
       "    .dataframe thead th {\n",
       "        text-align: right;\n",
       "    }\n",
       "</style>\n",
       "<table border=\"1\" class=\"dataframe\">\n",
       "  <thead>\n",
       "    <tr style=\"text-align: right;\">\n",
       "      <th></th>\n",
       "      <th>GHG Emissions (Scope 1) (tCO2e)</th>\n",
       "      <th>GHG Emissions (Scope 2) (tCO2e)</th>\n",
       "      <th>GHG Emissions (Scope 3) (tCO2e)</th>\n",
       "      <th>Total Water Consumption (ML)</th>\n",
       "      <th>Total Waste Generated (t)</th>\n",
       "      <th>New Hires and Turnover by Gender (Female %)</th>\n",
       "      <th>Current Employees by Age Groups (Millennials %)</th>\n",
       "      <th>Total Turnover (%)</th>\n",
       "      <th>Total Number of Employees</th>\n",
       "      <th>High-consequence injuries</th>\n",
       "      <th>Recordable injuries</th>\n",
       "      <th>Anti-Corruption Training for Employees (%)</th>\n",
       "      <th>Cluster</th>\n",
       "    </tr>\n",
       "  </thead>\n",
       "  <tbody>\n",
       "    <tr>\n",
       "      <th>0</th>\n",
       "      <td>331.554256</td>\n",
       "      <td>624.912510</td>\n",
       "      <td>1068.360822</td>\n",
       "      <td>764.908021</td>\n",
       "      <td>61.690899</td>\n",
       "      <td>26.901131</td>\n",
       "      <td>51.215970</td>\n",
       "      <td>12.746879</td>\n",
       "      <td>585.675325</td>\n",
       "      <td>2.088312</td>\n",
       "      <td>5.363636</td>\n",
       "      <td>74.965275</td>\n",
       "      <td>0</td>\n",
       "    </tr>\n",
       "    <tr>\n",
       "      <th>1</th>\n",
       "      <td>307.520794</td>\n",
       "      <td>651.746084</td>\n",
       "      <td>1232.642001</td>\n",
       "      <td>331.836794</td>\n",
       "      <td>59.971585</td>\n",
       "      <td>31.556508</td>\n",
       "      <td>46.523585</td>\n",
       "      <td>12.265103</td>\n",
       "      <td>535.952941</td>\n",
       "      <td>1.072941</td>\n",
       "      <td>5.847059</td>\n",
       "      <td>77.684197</td>\n",
       "      <td>1</td>\n",
       "    </tr>\n",
       "    <tr>\n",
       "      <th>2</th>\n",
       "      <td>186.888965</td>\n",
       "      <td>406.071342</td>\n",
       "      <td>984.727385</td>\n",
       "      <td>537.059828</td>\n",
       "      <td>43.816217</td>\n",
       "      <td>31.081134</td>\n",
       "      <td>53.001832</td>\n",
       "      <td>12.610555</td>\n",
       "      <td>502.831818</td>\n",
       "      <td>1.327273</td>\n",
       "      <td>4.061364</td>\n",
       "      <td>71.839024</td>\n",
       "      <td>2</td>\n",
       "    </tr>\n",
       "  </tbody>\n",
       "</table>\n",
       "</div>"
      ],
      "text/plain": [
       "   GHG Emissions (Scope 1) (tCO2e)  GHG Emissions (Scope 2) (tCO2e)  \\\n",
       "0                       331.554256                       624.912510   \n",
       "1                       307.520794                       651.746084   \n",
       "2                       186.888965                       406.071342   \n",
       "\n",
       "   GHG Emissions (Scope 3) (tCO2e)  Total Water Consumption (ML)  \\\n",
       "0                      1068.360822                    764.908021   \n",
       "1                      1232.642001                    331.836794   \n",
       "2                       984.727385                    537.059828   \n",
       "\n",
       "   Total Waste Generated (t)  New Hires and Turnover by Gender (Female %)  \\\n",
       "0                  61.690899                                    26.901131   \n",
       "1                  59.971585                                    31.556508   \n",
       "2                  43.816217                                    31.081134   \n",
       "\n",
       "   Current Employees by Age Groups (Millennials %)  Total Turnover (%)  \\\n",
       "0                                        51.215970           12.746879   \n",
       "1                                        46.523585           12.265103   \n",
       "2                                        53.001832           12.610555   \n",
       "\n",
       "   Total Number of Employees  High-consequence injuries  Recordable injuries  \\\n",
       "0                 585.675325                   2.088312             5.363636   \n",
       "1                 535.952941                   1.072941             5.847059   \n",
       "2                 502.831818                   1.327273             4.061364   \n",
       "\n",
       "   Anti-Corruption Training for Employees (%)  Cluster  \n",
       "0                                   74.965275        0  \n",
       "1                                   77.684197        1  \n",
       "2                                   71.839024        2  "
      ]
     },
     "execution_count": 10,
     "metadata": {},
     "output_type": "execute_result"
    }
   ],
   "source": [
    "# Categorize companies based on their cluster\n",
    "def categorize_performance(cluster):\n",
    "    if cluster == esg_cluster_centers['Cluster'].idxmax():\n",
    "        return 'Good'\n",
    "    elif cluster == esg_cluster_centers['Cluster'].idxmin():\n",
    "        return 'Poor'\n",
    "    else:\n",
    "        return 'Average'\n",
    "\n",
    "esg_data['Performance Category'] = esg_data['Cluster'].apply(categorize_performance)\n",
    "\n",
    "print(\"General Technology Industry Benchmark Categories:\")\n",
    "esg_cluster_centers\n"
   ]
  },
  {
   "cell_type": "code",
   "execution_count": 11,
   "metadata": {},
   "outputs": [
    {
     "name": "stdout",
     "output_type": "stream",
     "text": [
      "Feature Weights for ESG Performance Scoring System:\n",
      "New Hires and Turnover by Gender (Female %)        0.115291\n",
      "Current Employees by Age Groups (Millennials %)    0.043742\n",
      "Total Turnover (%)                                -0.011126\n",
      "GHG Emissions (Scope 3) (tCO2e)                   -0.050072\n",
      "Anti-Corruption Training for Employees (%)        -0.070935\n",
      "Total Number of Employees                         -0.079174\n",
      "Recordable injuries                               -0.118035\n",
      "High-consequence injuries                         -0.182032\n",
      "Total Waste Generated (t)                         -0.194137\n",
      "Total Water Consumption (ML)                      -0.241883\n",
      "GHG Emissions (Scope 2) (tCO2e)                   -0.260472\n",
      "GHG Emissions (Scope 1) (tCO2e)                   -0.340581\n",
      "dtype: float64\n",
      "Intercept (b): 1.044\n"
     ]
    }
   ],
   "source": [
    "# Step 7: Create Scoring System\n",
    "# Use a Linear Regression model to calculate an ESG performance score\n",
    "X = esg_data_scaled\n",
    "reg = LinearRegression()\n",
    "reg.fit(X, esg_data['Cluster'])\n",
    "\n",
    "# Predicted ESG performance score\n",
    "esg_data['predicted_score'] = reg.predict(X)\n",
    "\n",
    "# Get feature importance (coefficients)\n",
    "esg_feature_weights = pd.Series(reg.coef_, index=esg_data_numeric.columns).sort_values(ascending=False)\n",
    "print(\"Feature Weights for ESG Performance Scoring System:\")\n",
    "print(esg_feature_weights)\n",
    "\n",
    "# Get intercept (b)\n",
    "esg_intercept_b = reg.intercept_\n",
    "print(\"Intercept (b):\", esg_intercept_b)"
   ]
  },
  {
   "cell_type": "code",
   "execution_count": 12,
   "metadata": {},
   "outputs": [
    {
     "name": "stdout",
     "output_type": "stream",
     "text": [
      "R² Score: 0.60\n"
     ]
    }
   ],
   "source": [
    "# R²\n",
    "r2_score = reg.score(X, esg_data['Cluster'])\n",
    "print(f'R² Score: {r2_score:.2f}')"
   ]
  },
  {
   "cell_type": "code",
   "execution_count": 13,
   "metadata": {},
   "outputs": [
    {
     "data": {
      "text/html": [
       "<div>\n",
       "<style scoped>\n",
       "    .dataframe tbody tr th:only-of-type {\n",
       "        vertical-align: middle;\n",
       "    }\n",
       "\n",
       "    .dataframe tbody tr th {\n",
       "        vertical-align: top;\n",
       "    }\n",
       "\n",
       "    .dataframe thead th {\n",
       "        text-align: right;\n",
       "    }\n",
       "</style>\n",
       "<table border=\"1\" class=\"dataframe\">\n",
       "  <thead>\n",
       "    <tr style=\"text-align: right;\">\n",
       "      <th></th>\n",
       "      <th>New Hires and Turnover by Gender (Female %)</th>\n",
       "      <th>Current Employees by Age Groups (Millennials %)</th>\n",
       "      <th>Total Turnover (%)</th>\n",
       "      <th>GHG Emissions (Scope 3) (tCO2e)</th>\n",
       "      <th>Anti-Corruption Training for Employees (%)</th>\n",
       "      <th>Total Number of Employees</th>\n",
       "      <th>Recordable injuries</th>\n",
       "      <th>High-consequence injuries</th>\n",
       "      <th>Total Waste Generated (t)</th>\n",
       "      <th>Total Water Consumption (ML)</th>\n",
       "      <th>GHG Emissions (Scope 2) (tCO2e)</th>\n",
       "      <th>GHG Emissions (Scope 1) (tCO2e)</th>\n",
       "    </tr>\n",
       "  </thead>\n",
       "  <tbody>\n",
       "    <tr>\n",
       "      <th>0</th>\n",
       "      <td>0.115291</td>\n",
       "      <td>0.043742</td>\n",
       "      <td>-0.011126</td>\n",
       "      <td>-0.050072</td>\n",
       "      <td>-0.070935</td>\n",
       "      <td>-0.079174</td>\n",
       "      <td>-0.118035</td>\n",
       "      <td>-0.182032</td>\n",
       "      <td>-0.194137</td>\n",
       "      <td>-0.241883</td>\n",
       "      <td>-0.260472</td>\n",
       "      <td>-0.340581</td>\n",
       "    </tr>\n",
       "  </tbody>\n",
       "</table>\n",
       "</div>"
      ],
      "text/plain": [
       "   New Hires and Turnover by Gender (Female %)  \\\n",
       "0                                     0.115291   \n",
       "\n",
       "   Current Employees by Age Groups (Millennials %)  Total Turnover (%)  \\\n",
       "0                                         0.043742           -0.011126   \n",
       "\n",
       "   GHG Emissions (Scope 3) (tCO2e)  \\\n",
       "0                        -0.050072   \n",
       "\n",
       "   Anti-Corruption Training for Employees (%)  Total Number of Employees  \\\n",
       "0                                   -0.070935                  -0.079174   \n",
       "\n",
       "   Recordable injuries  High-consequence injuries  Total Waste Generated (t)  \\\n",
       "0            -0.118035                  -0.182032                  -0.194137   \n",
       "\n",
       "   Total Water Consumption (ML)  GHG Emissions (Scope 2) (tCO2e)  \\\n",
       "0                     -0.241883                        -0.260472   \n",
       "\n",
       "   GHG Emissions (Scope 1) (tCO2e)  \n",
       "0                        -0.340581  "
      ]
     },
     "execution_count": 13,
     "metadata": {},
     "output_type": "execute_result"
    }
   ],
   "source": [
    "esg_weights = dict(zip(esg_feature_weights.index, esg_feature_weights.values))\n",
    "weights_df = pd.DataFrame([esg_weights])\n",
    "weights_df"
   ]
  },
  {
   "cell_type": "code",
   "execution_count": 14,
   "metadata": {},
   "outputs": [],
   "source": [
    "weights_df.to_csv(\"ESG Scoring Weights.csv\", index = False)"
   ]
  },
  {
   "cell_type": "code",
   "execution_count": 15,
   "metadata": {},
   "outputs": [
    {
     "data": {
      "text/html": [
       "<div>\n",
       "<style scoped>\n",
       "    .dataframe tbody tr th:only-of-type {\n",
       "        vertical-align: middle;\n",
       "    }\n",
       "\n",
       "    .dataframe tbody tr th {\n",
       "        vertical-align: top;\n",
       "    }\n",
       "\n",
       "    .dataframe thead th {\n",
       "        text-align: right;\n",
       "    }\n",
       "</style>\n",
       "<table border=\"1\" class=\"dataframe\">\n",
       "  <thead>\n",
       "    <tr style=\"text-align: right;\">\n",
       "      <th></th>\n",
       "      <th>Sub-sector</th>\n",
       "      <th>Company Name</th>\n",
       "      <th>Year</th>\n",
       "      <th>GHG Emissions (Scope 1) (tCO2e)</th>\n",
       "      <th>GHG Emissions (Scope 2) (tCO2e)</th>\n",
       "      <th>GHG Emissions (Scope 3) (tCO2e)</th>\n",
       "      <th>Total Energy Consumption (MWhs)</th>\n",
       "      <th>Total Water Consumption (ML)</th>\n",
       "      <th>Total Waste Generated (t)</th>\n",
       "      <th>Current Employees by Gender (Female %)</th>\n",
       "      <th>...</th>\n",
       "      <th>High-consequence injuries</th>\n",
       "      <th>Recordable injuries</th>\n",
       "      <th>Recordable work-related ill health cases</th>\n",
       "      <th>Board Independence (%)</th>\n",
       "      <th>Women on the Board (%)</th>\n",
       "      <th>Women in Management Team (%)</th>\n",
       "      <th>Anti-Corruption Training for Employees (%)</th>\n",
       "      <th>Cluster</th>\n",
       "      <th>Performance Category</th>\n",
       "      <th>predicted_score</th>\n",
       "    </tr>\n",
       "  </thead>\n",
       "  <tbody>\n",
       "    <tr>\n",
       "      <th>0</th>\n",
       "      <td>Software and Services</td>\n",
       "      <td>Company_1</td>\n",
       "      <td>2020</td>\n",
       "      <td>439.330088</td>\n",
       "      <td>692.120861</td>\n",
       "      <td>934.282272</td>\n",
       "      <td>9795.219615</td>\n",
       "      <td>190.466071</td>\n",
       "      <td>10.890496</td>\n",
       "      <td>28.490657</td>\n",
       "      <td>...</td>\n",
       "      <td>1</td>\n",
       "      <td>5</td>\n",
       "      <td>0</td>\n",
       "      <td>70.013601</td>\n",
       "      <td>14.053968</td>\n",
       "      <td>38.372039</td>\n",
       "      <td>84.106898</td>\n",
       "      <td>1</td>\n",
       "      <td>Average</td>\n",
       "      <td>1.287343</td>\n",
       "    </tr>\n",
       "  </tbody>\n",
       "</table>\n",
       "<p>1 rows × 26 columns</p>\n",
       "</div>"
      ],
      "text/plain": [
       "              Sub-sector Company Name  Year  GHG Emissions (Scope 1) (tCO2e)  \\\n",
       "0  Software and Services    Company_1  2020                       439.330088   \n",
       "\n",
       "   GHG Emissions (Scope 2) (tCO2e)  GHG Emissions (Scope 3) (tCO2e)  \\\n",
       "0                       692.120861                       934.282272   \n",
       "\n",
       "   Total Energy Consumption (MWhs)  Total Water Consumption (ML)  \\\n",
       "0                      9795.219615                    190.466071   \n",
       "\n",
       "   Total Waste Generated (t)  Current Employees by Gender (Female %)  ...  \\\n",
       "0                  10.890496                               28.490657  ...   \n",
       "\n",
       "   High-consequence injuries  Recordable injuries  \\\n",
       "0                          1                    5   \n",
       "\n",
       "   Recordable work-related ill health cases  Board Independence (%)  \\\n",
       "0                                         0               70.013601   \n",
       "\n",
       "   Women on the Board (%)  Women in Management Team (%)  \\\n",
       "0               14.053968                     38.372039   \n",
       "\n",
       "   Anti-Corruption Training for Employees (%)  Cluster  Performance Category  \\\n",
       "0                                   84.106898        1               Average   \n",
       "\n",
       "   predicted_score  \n",
       "0         1.287343  \n",
       "\n",
       "[1 rows x 26 columns]"
      ]
     },
     "execution_count": 15,
     "metadata": {},
     "output_type": "execute_result"
    }
   ],
   "source": [
    "esg_data.head(1)"
   ]
  },
  {
   "cell_type": "code",
   "execution_count": 16,
   "metadata": {},
   "outputs": [],
   "source": [
    "esg_data.to_csv(\"ESG Scoring data.csv\", index = False)"
   ]
  },
  {
   "cell_type": "code",
   "execution_count": 17,
   "metadata": {},
   "outputs": [
    {
     "data": {
      "text/plain": [
       "count    1250.000000\n",
       "mean        1.044000\n",
       "std         0.629875\n",
       "min        -0.790077\n",
       "25%         0.607696\n",
       "50%         1.051628\n",
       "75%         1.497920\n",
       "max         2.644386\n",
       "Name: predicted_score, dtype: float64"
      ]
     },
     "execution_count": 17,
     "metadata": {},
     "output_type": "execute_result"
    }
   ],
   "source": [
    "esg_data[\"predicted_score\"].describe()"
   ]
  },
  {
   "cell_type": "code",
   "execution_count": 18,
   "metadata": {},
   "outputs": [],
   "source": [
    "ESG_score_trend = esg_data.groupby('Year')['predicted_score'].mean().reset_index()\n",
    "ESG_score_trend.rename(columns = {'predicted_score' : 'Industry mean'}, inplace = True)"
   ]
  },
  {
   "cell_type": "code",
   "execution_count": 19,
   "metadata": {},
   "outputs": [],
   "source": [
    "soft_serve_esg = esg_data[esg_data['Sub-sector'] == 'Software and Services'].reset_index(drop=True)\n",
    "tech_equip_esg = esg_data[esg_data['Sub-sector'] == 'Technology Hardware and Equipment'].reset_index(drop=True)\n",
    "semi_esg = esg_data[esg_data['Sub-sector'] == 'Semiconductors and Semiconductor Equipment'].reset_index(drop=True)\n",
    "info_tech_esg = esg_data[esg_data['Sub-sector'] == 'Information Technology'].reset_index(drop=True)\n",
    "engin_esg = esg_data[esg_data['Sub-sector'] == 'Engineering Services'].reset_index(drop=True)"
   ]
  },
  {
   "cell_type": "code",
   "execution_count": 20,
   "metadata": {},
   "outputs": [],
   "source": [
    "soft_serve_esg_trend = soft_serve_esg.groupby('Year')['predicted_score'].mean().reset_index()\n",
    "soft_serve_esg_trend.rename(columns = {\"predicted_score\" : \"Software and Services\"}, inplace = True)\n",
    "\n",
    "tech_equip_esg_trend = tech_equip_esg.groupby('Year')['predicted_score'].mean().reset_index()\n",
    "tech_equip_esg_trend.rename(columns = {\"predicted_score\" : \"Technology Hardware and Equipment\"}, inplace = True)\n",
    "\n",
    "semi_esg_trend = semi_esg.groupby('Year')['predicted_score'].mean().reset_index()\n",
    "semi_esg_trend.rename(columns = {\"predicted_score\" : \"Semiconductors and Semiconductor Equipment\"}, inplace = True)\n",
    "\n",
    "info_tech_esg_trend = info_tech_esg.groupby('Year')['predicted_score'].mean().reset_index()\n",
    "info_tech_esg_trend.rename(columns = {\"predicted_score\" : \"Information Technology\"}, inplace = True)\n",
    "\n",
    "engin_esg_trend = engin_esg.groupby('Year')['predicted_score'].mean().reset_index()\n",
    "engin_esg_trend.rename(columns = {\"predicted_score\" : \"Engineering Services\"}, inplace = True)"
   ]
  },
  {
   "cell_type": "code",
   "execution_count": 21,
   "metadata": {},
   "outputs": [],
   "source": [
    "sub_sectors_df = ESG_score_trend.merge(soft_serve_esg_trend, on='Year').merge(tech_equip_esg_trend, on='Year').merge(semi_esg_trend, on='Year').merge(info_tech_esg_trend, on='Year').merge(engin_esg_trend, on='Year')"
   ]
  },
  {
   "cell_type": "code",
   "execution_count": 22,
   "metadata": {},
   "outputs": [],
   "source": [
    "esg_industry_plot_data = sub_sectors_df.melt(id_vars = [\"Year\"],\n",
    "                           var_name = \"sub-sectors\", value_name = \"predicted_score\")"
   ]
  },
  {
   "cell_type": "code",
   "execution_count": 54,
   "metadata": {},
   "outputs": [
    {
     "data": {
      "application/vnd.plotly.v1+json": {
       "config": {
        "plotlyServerURL": "https://plot.ly"
       },
       "data": [
        {
         "hovertemplate": "Year: %{x} <br> ESG Score: %{y} <extra></extra>",
         "legendgroup": "Industry mean",
         "line": {
          "color": "black",
          "dash": "solid",
          "width": 4
         },
         "marker": {
          "color": "black",
          "size": 10,
          "symbol": "circle"
         },
         "mode": "lines+markers",
         "name": "Industry mean",
         "orientation": "v",
         "showlegend": true,
         "type": "scatter",
         "x": [
          2020,
          2021,
          2022,
          2023,
          2024
         ],
         "xaxis": "x",
         "y": [
          1.0228003892902735,
          1.0402903717018357,
          1.1388972202940286,
          1.001877533969493,
          1.0161344847443692
         ],
         "yaxis": "y"
        },
        {
         "hovertemplate": "Year: %{x} <br> ESG Score: %{y} <extra></extra>",
         "legendgroup": "Software and Services",
         "line": {
          "color": "#EF553B",
          "dash": "solid"
         },
         "marker": {
          "size": 8,
          "symbol": "circle"
         },
         "mode": "lines+markers",
         "name": "Software and Services",
         "orientation": "v",
         "showlegend": true,
         "type": "scatter",
         "x": [
          2020,
          2021,
          2022,
          2023,
          2024
         ],
         "xaxis": "x",
         "y": [
          0.9697578910173721,
          0.9739397824897634,
          0.9819226288787739,
          1.0766240543821441,
          1.060531077595121
         ],
         "yaxis": "y"
        },
        {
         "hovertemplate": "Year: %{x} <br> ESG Score: %{y} <extra></extra>",
         "legendgroup": "Technology Hardware and Equipment",
         "line": {
          "color": "#00cc96",
          "dash": "solid"
         },
         "marker": {
          "size": 8,
          "symbol": "circle"
         },
         "mode": "lines+markers",
         "name": "Technology Hardware and Equipment",
         "orientation": "v",
         "showlegend": true,
         "type": "scatter",
         "x": [
          2020,
          2021,
          2022,
          2023,
          2024
         ],
         "xaxis": "x",
         "y": [
          1.081577312187934,
          1.0507963367220226,
          1.176439410989504,
          1.041421827169586,
          0.9872715098781016
         ],
         "yaxis": "y"
        },
        {
         "hovertemplate": "Year: %{x} <br> ESG Score: %{y} <extra></extra>",
         "legendgroup": "Semiconductors and Semiconductor Equipment",
         "line": {
          "color": "#ab63fa",
          "dash": "solid"
         },
         "marker": {
          "size": 8,
          "symbol": "circle"
         },
         "mode": "lines+markers",
         "name": "Semiconductors and Semiconductor Equipment",
         "orientation": "v",
         "showlegend": true,
         "type": "scatter",
         "x": [
          2020,
          2021,
          2022,
          2023,
          2024
         ],
         "xaxis": "x",
         "y": [
          0.9188391168278076,
          1.1354813724356254,
          1.158691788540716,
          0.8193958608107278,
          0.9887781859551292
         ],
         "yaxis": "y"
        },
        {
         "hovertemplate": "Year: %{x} <br> ESG Score: %{y} <extra></extra>",
         "legendgroup": "Information Technology",
         "line": {
          "color": "#FFA15A",
          "dash": "solid"
         },
         "marker": {
          "size": 8,
          "symbol": "circle"
         },
         "mode": "lines+markers",
         "name": "Information Technology",
         "orientation": "v",
         "showlegend": true,
         "type": "scatter",
         "x": [
          2020,
          2021,
          2022,
          2023,
          2024
         ],
         "xaxis": "x",
         "y": [
          1.1563461304853593,
          1.001724862852267,
          1.1534661977851461,
          1.0067594948961611,
          1.0578988139389305
         ],
         "yaxis": "y"
        },
        {
         "hovertemplate": "Year: %{x} <br> ESG Score: %{y} <extra></extra>",
         "legendgroup": "Engineering Services",
         "line": {
          "color": "#19d3f3",
          "dash": "solid"
         },
         "marker": {
          "size": 8,
          "symbol": "circle"
         },
         "mode": "lines+markers",
         "name": "Engineering Services",
         "orientation": "v",
         "showlegend": true,
         "type": "scatter",
         "x": [
          2020,
          2021,
          2022,
          2023,
          2024
         ],
         "xaxis": "x",
         "y": [
          0.987481495932895,
          1.0395095040095,
          1.223966075276003,
          1.0651864325888463,
          0.9861928363545632
         ],
         "yaxis": "y"
        }
       ],
       "layout": {
        "legend": {
         "title": {
          "text": "sub-sectors"
         },
         "tracegroupgap": 0
        },
        "template": {
         "data": {
          "bar": [
           {
            "error_x": {
             "color": "#2a3f5f"
            },
            "error_y": {
             "color": "#2a3f5f"
            },
            "marker": {
             "line": {
              "color": "#E5ECF6",
              "width": 0.5
             },
             "pattern": {
              "fillmode": "overlay",
              "size": 10,
              "solidity": 0.2
             }
            },
            "type": "bar"
           }
          ],
          "barpolar": [
           {
            "marker": {
             "line": {
              "color": "#E5ECF6",
              "width": 0.5
             },
             "pattern": {
              "fillmode": "overlay",
              "size": 10,
              "solidity": 0.2
             }
            },
            "type": "barpolar"
           }
          ],
          "carpet": [
           {
            "aaxis": {
             "endlinecolor": "#2a3f5f",
             "gridcolor": "white",
             "linecolor": "white",
             "minorgridcolor": "white",
             "startlinecolor": "#2a3f5f"
            },
            "baxis": {
             "endlinecolor": "#2a3f5f",
             "gridcolor": "white",
             "linecolor": "white",
             "minorgridcolor": "white",
             "startlinecolor": "#2a3f5f"
            },
            "type": "carpet"
           }
          ],
          "choropleth": [
           {
            "colorbar": {
             "outlinewidth": 0,
             "ticks": ""
            },
            "type": "choropleth"
           }
          ],
          "contour": [
           {
            "colorbar": {
             "outlinewidth": 0,
             "ticks": ""
            },
            "colorscale": [
             [
              0,
              "#0d0887"
             ],
             [
              0.1111111111111111,
              "#46039f"
             ],
             [
              0.2222222222222222,
              "#7201a8"
             ],
             [
              0.3333333333333333,
              "#9c179e"
             ],
             [
              0.4444444444444444,
              "#bd3786"
             ],
             [
              0.5555555555555556,
              "#d8576b"
             ],
             [
              0.6666666666666666,
              "#ed7953"
             ],
             [
              0.7777777777777778,
              "#fb9f3a"
             ],
             [
              0.8888888888888888,
              "#fdca26"
             ],
             [
              1,
              "#f0f921"
             ]
            ],
            "type": "contour"
           }
          ],
          "contourcarpet": [
           {
            "colorbar": {
             "outlinewidth": 0,
             "ticks": ""
            },
            "type": "contourcarpet"
           }
          ],
          "heatmap": [
           {
            "colorbar": {
             "outlinewidth": 0,
             "ticks": ""
            },
            "colorscale": [
             [
              0,
              "#0d0887"
             ],
             [
              0.1111111111111111,
              "#46039f"
             ],
             [
              0.2222222222222222,
              "#7201a8"
             ],
             [
              0.3333333333333333,
              "#9c179e"
             ],
             [
              0.4444444444444444,
              "#bd3786"
             ],
             [
              0.5555555555555556,
              "#d8576b"
             ],
             [
              0.6666666666666666,
              "#ed7953"
             ],
             [
              0.7777777777777778,
              "#fb9f3a"
             ],
             [
              0.8888888888888888,
              "#fdca26"
             ],
             [
              1,
              "#f0f921"
             ]
            ],
            "type": "heatmap"
           }
          ],
          "heatmapgl": [
           {
            "colorbar": {
             "outlinewidth": 0,
             "ticks": ""
            },
            "colorscale": [
             [
              0,
              "#0d0887"
             ],
             [
              0.1111111111111111,
              "#46039f"
             ],
             [
              0.2222222222222222,
              "#7201a8"
             ],
             [
              0.3333333333333333,
              "#9c179e"
             ],
             [
              0.4444444444444444,
              "#bd3786"
             ],
             [
              0.5555555555555556,
              "#d8576b"
             ],
             [
              0.6666666666666666,
              "#ed7953"
             ],
             [
              0.7777777777777778,
              "#fb9f3a"
             ],
             [
              0.8888888888888888,
              "#fdca26"
             ],
             [
              1,
              "#f0f921"
             ]
            ],
            "type": "heatmapgl"
           }
          ],
          "histogram": [
           {
            "marker": {
             "pattern": {
              "fillmode": "overlay",
              "size": 10,
              "solidity": 0.2
             }
            },
            "type": "histogram"
           }
          ],
          "histogram2d": [
           {
            "colorbar": {
             "outlinewidth": 0,
             "ticks": ""
            },
            "colorscale": [
             [
              0,
              "#0d0887"
             ],
             [
              0.1111111111111111,
              "#46039f"
             ],
             [
              0.2222222222222222,
              "#7201a8"
             ],
             [
              0.3333333333333333,
              "#9c179e"
             ],
             [
              0.4444444444444444,
              "#bd3786"
             ],
             [
              0.5555555555555556,
              "#d8576b"
             ],
             [
              0.6666666666666666,
              "#ed7953"
             ],
             [
              0.7777777777777778,
              "#fb9f3a"
             ],
             [
              0.8888888888888888,
              "#fdca26"
             ],
             [
              1,
              "#f0f921"
             ]
            ],
            "type": "histogram2d"
           }
          ],
          "histogram2dcontour": [
           {
            "colorbar": {
             "outlinewidth": 0,
             "ticks": ""
            },
            "colorscale": [
             [
              0,
              "#0d0887"
             ],
             [
              0.1111111111111111,
              "#46039f"
             ],
             [
              0.2222222222222222,
              "#7201a8"
             ],
             [
              0.3333333333333333,
              "#9c179e"
             ],
             [
              0.4444444444444444,
              "#bd3786"
             ],
             [
              0.5555555555555556,
              "#d8576b"
             ],
             [
              0.6666666666666666,
              "#ed7953"
             ],
             [
              0.7777777777777778,
              "#fb9f3a"
             ],
             [
              0.8888888888888888,
              "#fdca26"
             ],
             [
              1,
              "#f0f921"
             ]
            ],
            "type": "histogram2dcontour"
           }
          ],
          "mesh3d": [
           {
            "colorbar": {
             "outlinewidth": 0,
             "ticks": ""
            },
            "type": "mesh3d"
           }
          ],
          "parcoords": [
           {
            "line": {
             "colorbar": {
              "outlinewidth": 0,
              "ticks": ""
             }
            },
            "type": "parcoords"
           }
          ],
          "pie": [
           {
            "automargin": true,
            "type": "pie"
           }
          ],
          "scatter": [
           {
            "fillpattern": {
             "fillmode": "overlay",
             "size": 10,
             "solidity": 0.2
            },
            "type": "scatter"
           }
          ],
          "scatter3d": [
           {
            "line": {
             "colorbar": {
              "outlinewidth": 0,
              "ticks": ""
             }
            },
            "marker": {
             "colorbar": {
              "outlinewidth": 0,
              "ticks": ""
             }
            },
            "type": "scatter3d"
           }
          ],
          "scattercarpet": [
           {
            "marker": {
             "colorbar": {
              "outlinewidth": 0,
              "ticks": ""
             }
            },
            "type": "scattercarpet"
           }
          ],
          "scattergeo": [
           {
            "marker": {
             "colorbar": {
              "outlinewidth": 0,
              "ticks": ""
             }
            },
            "type": "scattergeo"
           }
          ],
          "scattergl": [
           {
            "marker": {
             "colorbar": {
              "outlinewidth": 0,
              "ticks": ""
             }
            },
            "type": "scattergl"
           }
          ],
          "scattermapbox": [
           {
            "marker": {
             "colorbar": {
              "outlinewidth": 0,
              "ticks": ""
             }
            },
            "type": "scattermapbox"
           }
          ],
          "scatterpolar": [
           {
            "marker": {
             "colorbar": {
              "outlinewidth": 0,
              "ticks": ""
             }
            },
            "type": "scatterpolar"
           }
          ],
          "scatterpolargl": [
           {
            "marker": {
             "colorbar": {
              "outlinewidth": 0,
              "ticks": ""
             }
            },
            "type": "scatterpolargl"
           }
          ],
          "scatterternary": [
           {
            "marker": {
             "colorbar": {
              "outlinewidth": 0,
              "ticks": ""
             }
            },
            "type": "scatterternary"
           }
          ],
          "surface": [
           {
            "colorbar": {
             "outlinewidth": 0,
             "ticks": ""
            },
            "colorscale": [
             [
              0,
              "#0d0887"
             ],
             [
              0.1111111111111111,
              "#46039f"
             ],
             [
              0.2222222222222222,
              "#7201a8"
             ],
             [
              0.3333333333333333,
              "#9c179e"
             ],
             [
              0.4444444444444444,
              "#bd3786"
             ],
             [
              0.5555555555555556,
              "#d8576b"
             ],
             [
              0.6666666666666666,
              "#ed7953"
             ],
             [
              0.7777777777777778,
              "#fb9f3a"
             ],
             [
              0.8888888888888888,
              "#fdca26"
             ],
             [
              1,
              "#f0f921"
             ]
            ],
            "type": "surface"
           }
          ],
          "table": [
           {
            "cells": {
             "fill": {
              "color": "#EBF0F8"
             },
             "line": {
              "color": "white"
             }
            },
            "header": {
             "fill": {
              "color": "#C8D4E3"
             },
             "line": {
              "color": "white"
             }
            },
            "type": "table"
           }
          ]
         },
         "layout": {
          "annotationdefaults": {
           "arrowcolor": "#2a3f5f",
           "arrowhead": 0,
           "arrowwidth": 1
          },
          "autotypenumbers": "strict",
          "coloraxis": {
           "colorbar": {
            "outlinewidth": 0,
            "ticks": ""
           }
          },
          "colorscale": {
           "diverging": [
            [
             0,
             "#8e0152"
            ],
            [
             0.1,
             "#c51b7d"
            ],
            [
             0.2,
             "#de77ae"
            ],
            [
             0.3,
             "#f1b6da"
            ],
            [
             0.4,
             "#fde0ef"
            ],
            [
             0.5,
             "#f7f7f7"
            ],
            [
             0.6,
             "#e6f5d0"
            ],
            [
             0.7,
             "#b8e186"
            ],
            [
             0.8,
             "#7fbc41"
            ],
            [
             0.9,
             "#4d9221"
            ],
            [
             1,
             "#276419"
            ]
           ],
           "sequential": [
            [
             0,
             "#0d0887"
            ],
            [
             0.1111111111111111,
             "#46039f"
            ],
            [
             0.2222222222222222,
             "#7201a8"
            ],
            [
             0.3333333333333333,
             "#9c179e"
            ],
            [
             0.4444444444444444,
             "#bd3786"
            ],
            [
             0.5555555555555556,
             "#d8576b"
            ],
            [
             0.6666666666666666,
             "#ed7953"
            ],
            [
             0.7777777777777778,
             "#fb9f3a"
            ],
            [
             0.8888888888888888,
             "#fdca26"
            ],
            [
             1,
             "#f0f921"
            ]
           ],
           "sequentialminus": [
            [
             0,
             "#0d0887"
            ],
            [
             0.1111111111111111,
             "#46039f"
            ],
            [
             0.2222222222222222,
             "#7201a8"
            ],
            [
             0.3333333333333333,
             "#9c179e"
            ],
            [
             0.4444444444444444,
             "#bd3786"
            ],
            [
             0.5555555555555556,
             "#d8576b"
            ],
            [
             0.6666666666666666,
             "#ed7953"
            ],
            [
             0.7777777777777778,
             "#fb9f3a"
            ],
            [
             0.8888888888888888,
             "#fdca26"
            ],
            [
             1,
             "#f0f921"
            ]
           ]
          },
          "colorway": [
           "#636efa",
           "#EF553B",
           "#00cc96",
           "#ab63fa",
           "#FFA15A",
           "#19d3f3",
           "#FF6692",
           "#B6E880",
           "#FF97FF",
           "#FECB52"
          ],
          "font": {
           "color": "#2a3f5f"
          },
          "geo": {
           "bgcolor": "white",
           "lakecolor": "white",
           "landcolor": "#E5ECF6",
           "showlakes": true,
           "showland": true,
           "subunitcolor": "white"
          },
          "hoverlabel": {
           "align": "left"
          },
          "hovermode": "closest",
          "mapbox": {
           "style": "light"
          },
          "paper_bgcolor": "white",
          "plot_bgcolor": "#E5ECF6",
          "polar": {
           "angularaxis": {
            "gridcolor": "white",
            "linecolor": "white",
            "ticks": ""
           },
           "bgcolor": "#E5ECF6",
           "radialaxis": {
            "gridcolor": "white",
            "linecolor": "white",
            "ticks": ""
           }
          },
          "scene": {
           "xaxis": {
            "backgroundcolor": "#E5ECF6",
            "gridcolor": "white",
            "gridwidth": 2,
            "linecolor": "white",
            "showbackground": true,
            "ticks": "",
            "zerolinecolor": "white"
           },
           "yaxis": {
            "backgroundcolor": "#E5ECF6",
            "gridcolor": "white",
            "gridwidth": 2,
            "linecolor": "white",
            "showbackground": true,
            "ticks": "",
            "zerolinecolor": "white"
           },
           "zaxis": {
            "backgroundcolor": "#E5ECF6",
            "gridcolor": "white",
            "gridwidth": 2,
            "linecolor": "white",
            "showbackground": true,
            "ticks": "",
            "zerolinecolor": "white"
           }
          },
          "shapedefaults": {
           "line": {
            "color": "#2a3f5f"
           }
          },
          "ternary": {
           "aaxis": {
            "gridcolor": "white",
            "linecolor": "white",
            "ticks": ""
           },
           "baxis": {
            "gridcolor": "white",
            "linecolor": "white",
            "ticks": ""
           },
           "bgcolor": "#E5ECF6",
           "caxis": {
            "gridcolor": "white",
            "linecolor": "white",
            "ticks": ""
           }
          },
          "title": {
           "x": 0.05
          },
          "xaxis": {
           "automargin": true,
           "gridcolor": "white",
           "linecolor": "white",
           "ticks": "",
           "title": {
            "standoff": 15
           },
           "zerolinecolor": "white",
           "zerolinewidth": 2
          },
          "yaxis": {
           "automargin": true,
           "gridcolor": "white",
           "linecolor": "white",
           "ticks": "",
           "title": {
            "standoff": 15
           },
           "zerolinecolor": "white",
           "zerolinewidth": 2
          }
         }
        },
        "title": {
         "text": "Environment score trend of the technology industry and sub-sectors"
        },
        "xaxis": {
         "anchor": "y",
         "domain": [
          0,
          1
         ],
         "dtick": 1,
         "title": {
          "text": "Year"
         }
        },
        "yaxis": {
         "anchor": "x",
         "domain": [
          0,
          1
         ],
         "title": {
          "text": "predicted_score"
         }
        }
       }
      }
     },
     "metadata": {},
     "output_type": "display_data"
    }
   ],
   "source": [
    "fig_esg_trend = px.line(esg_industry_plot_data, x = \"Year\", y = \"predicted_score\", color = \"sub-sectors\",\n",
    "                      markers = True, \n",
    "                      title = \"Environment score trend of the technology industry and sub-sectors\")\n",
    "\n",
    "fig_esg_trend.update_xaxes(dtick = 1)\n",
    "\n",
    "fig_esg_trend.update_traces(\n",
    "    hovertemplate = 'Year: %{x} <br> ESG Score: %{y} <extra></extra>', \n",
    "    marker = dict(size = 8)\n",
    ")\n",
    "\n",
    "fig_esg_trend.update_traces(selector = dict(name = 'Industry mean'),\n",
    "                  line = dict(width = 4, color = \"black\"), \n",
    "                  marker = dict(size = 10, color = \"black\")) \n",
    "\n",
    "fig_esg_trend.show()"
   ]
  },
  {
   "cell_type": "markdown",
   "metadata": {},
   "source": [
    "### Company Scoring"
   ]
  },
  {
   "cell_type": "code",
   "execution_count": 82,
   "metadata": {},
   "outputs": [],
   "source": [
    "company_file_path = './data/Singtel_ESG_test.xlsx'\n",
    "company_data = pd.read_excel(company_file_path)\n",
    "company_data = company_data[company_data['Year'].between(2020, 2024)]\n"
   ]
  },
  {
   "cell_type": "code",
   "execution_count": null,
   "metadata": {},
   "outputs": [],
   "source": [
    "company_info = company_data[['Company Name', 'Year']]\n",
    "company_name = str(company_data.iloc[0]['Company Name'])\n",
    "\n",
    "company_numeric = company_data.drop(columns=['Company Name', 'Year','Recordable work-related ill health cases', \n",
    "                                          'Average Training Hours per Employee', 'Total Energy Consumption (MWhs)',\n",
    "                                          'Women on the Board (%)', 'Current Employees by Gender (Female %)', \n",
    "                                          'Women in Management Team (%)', 'Fatalities', 'Board Independence (%)'])\n",
    "\n",
    "# Handle missing values(Implement techniques to handle missing data and ensure fair comparisons across\n",
    "# companies.)\n",
    "imputer = SimpleImputer(strategy='median')\n",
    "company_imputed = pd.DataFrame(imputer.fit_transform(company_numeric), columns=company_numeric.columns)\n",
    "\n",
    "# Standardize Data\n",
    "scaler = StandardScaler()\n",
    "company_scaled = pd.DataFrame(scaler.fit_transform(company_imputed), columns=company_numeric.columns)"
   ]
  },
  {
   "cell_type": "code",
   "execution_count": null,
   "metadata": {},
   "outputs": [
    {
     "name": "stderr",
     "output_type": "stream",
     "text": [
      "c:\\Users\\LJM\\AppData\\Local\\Programs\\Python\\Python312\\Lib\\site-packages\\sklearn\\base.py:493: UserWarning:\n",
      "\n",
      "X does not have valid feature names, but KMeans was fitted with feature names\n",
      "\n"
     ]
    }
   ],
   "source": [
    "# Use KMeans to set Performance Category\n",
    "# Use trained KMeans on input company\n",
    "company_scaled_data = company_scaled.values  \n",
    "\n",
    "company_clusters = kmeans.predict(company_scaled_data)\n",
    "company_data['Cluster'] = company_clusters\n",
    "\n",
    "# Set Performance Category based on clusters\n",
    "def categorize_performance_by_cluster(cluster):\n",
    "    if cluster == esg_cluster_centers['Cluster'].idxmax():\n",
    "        return 'Good'\n",
    "    elif cluster == esg_cluster_centers['Cluster'].idxmin():\n",
    "        return 'Poor'\n",
    "    else:\n",
    "        return 'Average'\n",
    "\n",
    "company_data['Performance Category'] = company_data['Cluster'].apply(categorize_performance_by_cluster)\n",
    "\n",
    "# Scoring the input company\n",
    "esg_weights = np.array(esg_feature_weights)\n",
    "\n",
    "def calculate_score(features, weights, intercept):\n",
    "    return np.dot(features, weights) + intercept\n",
    "\n",
    "company_scores = company_scaled.apply(lambda row: calculate_score(row, esg_weights, esg_intercept_b), axis=1)\n",
    "company_data['Calculated Score'] = company_scores\n"
   ]
  },
  {
   "cell_type": "code",
   "execution_count": 49,
   "metadata": {},
   "outputs": [
    {
     "name": "stderr",
     "output_type": "stream",
     "text": [
      "C:\\Users\\LJM\\AppData\\Local\\Temp\\ipykernel_33192\\3991916158.py:2: SettingWithCopyWarning:\n",
      "\n",
      "\n",
      "A value is trying to be set on a copy of a slice from a DataFrame\n",
      "\n",
      "See the caveats in the documentation: https://pandas.pydata.org/pandas-docs/stable/user_guide/indexing.html#returning-a-view-versus-a-copy\n",
      "\n"
     ]
    }
   ],
   "source": [
    "company_score = company_data[['Year', 'Calculated Score']]\n",
    "company_score.rename(columns = {'Calculated Score': company_name}, inplace = True)"
   ]
  },
  {
   "cell_type": "code",
   "execution_count": 67,
   "metadata": {},
   "outputs": [],
   "source": [
    "sub_sectors = {'Software and Services':['Captii','CSE Global','V2Y Corp','SinoCloud Grp'],\n",
    "               'Technology Hardware and Equipment':['Addvalue Tech','Nanofilm','Venture'],\n",
    "               'Semiconductors and Semiconductor Equipment':['AdvancedSystems','AEM SGD','Asia Vets','ASTI','UMS'],\n",
    "               'Information Technology':['Audience'],\n",
    "               'Engineering Services':['ST Engineering','Singtel','GSS Energy']}"
   ]
  },
  {
   "cell_type": "code",
   "execution_count": 74,
   "metadata": {},
   "outputs": [],
   "source": [
    "# Loop through each company and check if target_value is in its list of industries using isin\n",
    "for sub_sector in sub_sectors:\n",
    "    if pd.Series(sub_sectors[sub_sector]).isin([company_name]).any():\n",
    "        company_sub_sector = sub_sector\n",
    "\n",
    "sub_sector_select = esg_industry_plot_data[esg_industry_plot_data[\"sub-sectors\"] == company_sub_sector]\n",
    "sub_sector_select = sub_sector_select.drop(columns = {'sub-sectors'})\n",
    "sub_sector_select.rename(columns = {'predicted_score':company_sub_sector}, inplace = True)"
   ]
  },
  {
   "cell_type": "code",
   "execution_count": 75,
   "metadata": {},
   "outputs": [],
   "source": [
    "compare_data = ESG_score_trend.merge(company_score, on = 'Year').merge(sub_sector_select, on = 'Year')\n",
    "compare_data = compare_data.melt(id_vars = [\"Year\"],\n",
    "                           var_name = \"Type\", value_name = \"predicted_score\")"
   ]
  },
  {
   "cell_type": "code",
   "execution_count": 78,
   "metadata": {},
   "outputs": [
    {
     "data": {
      "application/vnd.plotly.v1+json": {
       "config": {
        "plotlyServerURL": "https://plot.ly"
       },
       "data": [
        {
         "hovertemplate": "Year: %{x} <br> ESG Score: %{y} <extra></extra>",
         "legendgroup": "Industry mean",
         "line": {
          "color": "#636efa",
          "dash": "solid"
         },
         "marker": {
          "size": 8,
          "symbol": "circle"
         },
         "mode": "lines+markers",
         "name": "Industry mean",
         "orientation": "v",
         "showlegend": true,
         "type": "scatter",
         "x": [
          2020,
          2021,
          2022,
          2023,
          2024
         ],
         "xaxis": "x",
         "y": [
          1.0228003892902735,
          1.0402903717018357,
          1.1388972202940286,
          1.001877533969493,
          1.0161344847443692
         ],
         "yaxis": "y"
        },
        {
         "hovertemplate": "Year: %{x} <br> ESG Score: %{y} <extra></extra>",
         "legendgroup": "Singtel",
         "line": {
          "color": "#EF553B",
          "dash": "solid"
         },
         "marker": {
          "size": 8,
          "symbol": "circle"
         },
         "mode": "lines+markers",
         "name": "Singtel",
         "orientation": "v",
         "showlegend": true,
         "type": "scatter",
         "x": [
          2020,
          2021,
          2022,
          2023,
          2024
         ],
         "xaxis": "x",
         "y": [
          -1.0204327715165333,
          1.9677552135954812,
          0.6863299811939131,
          2.0322041660865033,
          1.554143410640636
         ],
         "yaxis": "y"
        },
        {
         "hovertemplate": "Year: %{x} <br> ESG Score: %{y} <extra></extra>",
         "legendgroup": "Engineering Services",
         "line": {
          "color": "#00cc96",
          "dash": "solid"
         },
         "marker": {
          "size": 8,
          "symbol": "circle"
         },
         "mode": "lines+markers",
         "name": "Engineering Services",
         "orientation": "v",
         "showlegend": true,
         "type": "scatter",
         "x": [
          2020,
          2021,
          2022,
          2023,
          2024
         ],
         "xaxis": "x",
         "y": [
          0.987481495932895,
          1.0395095040095,
          1.223966075276003,
          1.0651864325888463,
          0.9861928363545632
         ],
         "yaxis": "y"
        }
       ],
       "layout": {
        "legend": {
         "title": {
          "text": "Type"
         },
         "tracegroupgap": 0
        },
        "template": {
         "data": {
          "bar": [
           {
            "error_x": {
             "color": "#2a3f5f"
            },
            "error_y": {
             "color": "#2a3f5f"
            },
            "marker": {
             "line": {
              "color": "#E5ECF6",
              "width": 0.5
             },
             "pattern": {
              "fillmode": "overlay",
              "size": 10,
              "solidity": 0.2
             }
            },
            "type": "bar"
           }
          ],
          "barpolar": [
           {
            "marker": {
             "line": {
              "color": "#E5ECF6",
              "width": 0.5
             },
             "pattern": {
              "fillmode": "overlay",
              "size": 10,
              "solidity": 0.2
             }
            },
            "type": "barpolar"
           }
          ],
          "carpet": [
           {
            "aaxis": {
             "endlinecolor": "#2a3f5f",
             "gridcolor": "white",
             "linecolor": "white",
             "minorgridcolor": "white",
             "startlinecolor": "#2a3f5f"
            },
            "baxis": {
             "endlinecolor": "#2a3f5f",
             "gridcolor": "white",
             "linecolor": "white",
             "minorgridcolor": "white",
             "startlinecolor": "#2a3f5f"
            },
            "type": "carpet"
           }
          ],
          "choropleth": [
           {
            "colorbar": {
             "outlinewidth": 0,
             "ticks": ""
            },
            "type": "choropleth"
           }
          ],
          "contour": [
           {
            "colorbar": {
             "outlinewidth": 0,
             "ticks": ""
            },
            "colorscale": [
             [
              0,
              "#0d0887"
             ],
             [
              0.1111111111111111,
              "#46039f"
             ],
             [
              0.2222222222222222,
              "#7201a8"
             ],
             [
              0.3333333333333333,
              "#9c179e"
             ],
             [
              0.4444444444444444,
              "#bd3786"
             ],
             [
              0.5555555555555556,
              "#d8576b"
             ],
             [
              0.6666666666666666,
              "#ed7953"
             ],
             [
              0.7777777777777778,
              "#fb9f3a"
             ],
             [
              0.8888888888888888,
              "#fdca26"
             ],
             [
              1,
              "#f0f921"
             ]
            ],
            "type": "contour"
           }
          ],
          "contourcarpet": [
           {
            "colorbar": {
             "outlinewidth": 0,
             "ticks": ""
            },
            "type": "contourcarpet"
           }
          ],
          "heatmap": [
           {
            "colorbar": {
             "outlinewidth": 0,
             "ticks": ""
            },
            "colorscale": [
             [
              0,
              "#0d0887"
             ],
             [
              0.1111111111111111,
              "#46039f"
             ],
             [
              0.2222222222222222,
              "#7201a8"
             ],
             [
              0.3333333333333333,
              "#9c179e"
             ],
             [
              0.4444444444444444,
              "#bd3786"
             ],
             [
              0.5555555555555556,
              "#d8576b"
             ],
             [
              0.6666666666666666,
              "#ed7953"
             ],
             [
              0.7777777777777778,
              "#fb9f3a"
             ],
             [
              0.8888888888888888,
              "#fdca26"
             ],
             [
              1,
              "#f0f921"
             ]
            ],
            "type": "heatmap"
           }
          ],
          "heatmapgl": [
           {
            "colorbar": {
             "outlinewidth": 0,
             "ticks": ""
            },
            "colorscale": [
             [
              0,
              "#0d0887"
             ],
             [
              0.1111111111111111,
              "#46039f"
             ],
             [
              0.2222222222222222,
              "#7201a8"
             ],
             [
              0.3333333333333333,
              "#9c179e"
             ],
             [
              0.4444444444444444,
              "#bd3786"
             ],
             [
              0.5555555555555556,
              "#d8576b"
             ],
             [
              0.6666666666666666,
              "#ed7953"
             ],
             [
              0.7777777777777778,
              "#fb9f3a"
             ],
             [
              0.8888888888888888,
              "#fdca26"
             ],
             [
              1,
              "#f0f921"
             ]
            ],
            "type": "heatmapgl"
           }
          ],
          "histogram": [
           {
            "marker": {
             "pattern": {
              "fillmode": "overlay",
              "size": 10,
              "solidity": 0.2
             }
            },
            "type": "histogram"
           }
          ],
          "histogram2d": [
           {
            "colorbar": {
             "outlinewidth": 0,
             "ticks": ""
            },
            "colorscale": [
             [
              0,
              "#0d0887"
             ],
             [
              0.1111111111111111,
              "#46039f"
             ],
             [
              0.2222222222222222,
              "#7201a8"
             ],
             [
              0.3333333333333333,
              "#9c179e"
             ],
             [
              0.4444444444444444,
              "#bd3786"
             ],
             [
              0.5555555555555556,
              "#d8576b"
             ],
             [
              0.6666666666666666,
              "#ed7953"
             ],
             [
              0.7777777777777778,
              "#fb9f3a"
             ],
             [
              0.8888888888888888,
              "#fdca26"
             ],
             [
              1,
              "#f0f921"
             ]
            ],
            "type": "histogram2d"
           }
          ],
          "histogram2dcontour": [
           {
            "colorbar": {
             "outlinewidth": 0,
             "ticks": ""
            },
            "colorscale": [
             [
              0,
              "#0d0887"
             ],
             [
              0.1111111111111111,
              "#46039f"
             ],
             [
              0.2222222222222222,
              "#7201a8"
             ],
             [
              0.3333333333333333,
              "#9c179e"
             ],
             [
              0.4444444444444444,
              "#bd3786"
             ],
             [
              0.5555555555555556,
              "#d8576b"
             ],
             [
              0.6666666666666666,
              "#ed7953"
             ],
             [
              0.7777777777777778,
              "#fb9f3a"
             ],
             [
              0.8888888888888888,
              "#fdca26"
             ],
             [
              1,
              "#f0f921"
             ]
            ],
            "type": "histogram2dcontour"
           }
          ],
          "mesh3d": [
           {
            "colorbar": {
             "outlinewidth": 0,
             "ticks": ""
            },
            "type": "mesh3d"
           }
          ],
          "parcoords": [
           {
            "line": {
             "colorbar": {
              "outlinewidth": 0,
              "ticks": ""
             }
            },
            "type": "parcoords"
           }
          ],
          "pie": [
           {
            "automargin": true,
            "type": "pie"
           }
          ],
          "scatter": [
           {
            "fillpattern": {
             "fillmode": "overlay",
             "size": 10,
             "solidity": 0.2
            },
            "type": "scatter"
           }
          ],
          "scatter3d": [
           {
            "line": {
             "colorbar": {
              "outlinewidth": 0,
              "ticks": ""
             }
            },
            "marker": {
             "colorbar": {
              "outlinewidth": 0,
              "ticks": ""
             }
            },
            "type": "scatter3d"
           }
          ],
          "scattercarpet": [
           {
            "marker": {
             "colorbar": {
              "outlinewidth": 0,
              "ticks": ""
             }
            },
            "type": "scattercarpet"
           }
          ],
          "scattergeo": [
           {
            "marker": {
             "colorbar": {
              "outlinewidth": 0,
              "ticks": ""
             }
            },
            "type": "scattergeo"
           }
          ],
          "scattergl": [
           {
            "marker": {
             "colorbar": {
              "outlinewidth": 0,
              "ticks": ""
             }
            },
            "type": "scattergl"
           }
          ],
          "scattermapbox": [
           {
            "marker": {
             "colorbar": {
              "outlinewidth": 0,
              "ticks": ""
             }
            },
            "type": "scattermapbox"
           }
          ],
          "scatterpolar": [
           {
            "marker": {
             "colorbar": {
              "outlinewidth": 0,
              "ticks": ""
             }
            },
            "type": "scatterpolar"
           }
          ],
          "scatterpolargl": [
           {
            "marker": {
             "colorbar": {
              "outlinewidth": 0,
              "ticks": ""
             }
            },
            "type": "scatterpolargl"
           }
          ],
          "scatterternary": [
           {
            "marker": {
             "colorbar": {
              "outlinewidth": 0,
              "ticks": ""
             }
            },
            "type": "scatterternary"
           }
          ],
          "surface": [
           {
            "colorbar": {
             "outlinewidth": 0,
             "ticks": ""
            },
            "colorscale": [
             [
              0,
              "#0d0887"
             ],
             [
              0.1111111111111111,
              "#46039f"
             ],
             [
              0.2222222222222222,
              "#7201a8"
             ],
             [
              0.3333333333333333,
              "#9c179e"
             ],
             [
              0.4444444444444444,
              "#bd3786"
             ],
             [
              0.5555555555555556,
              "#d8576b"
             ],
             [
              0.6666666666666666,
              "#ed7953"
             ],
             [
              0.7777777777777778,
              "#fb9f3a"
             ],
             [
              0.8888888888888888,
              "#fdca26"
             ],
             [
              1,
              "#f0f921"
             ]
            ],
            "type": "surface"
           }
          ],
          "table": [
           {
            "cells": {
             "fill": {
              "color": "#EBF0F8"
             },
             "line": {
              "color": "white"
             }
            },
            "header": {
             "fill": {
              "color": "#C8D4E3"
             },
             "line": {
              "color": "white"
             }
            },
            "type": "table"
           }
          ]
         },
         "layout": {
          "annotationdefaults": {
           "arrowcolor": "#2a3f5f",
           "arrowhead": 0,
           "arrowwidth": 1
          },
          "autotypenumbers": "strict",
          "coloraxis": {
           "colorbar": {
            "outlinewidth": 0,
            "ticks": ""
           }
          },
          "colorscale": {
           "diverging": [
            [
             0,
             "#8e0152"
            ],
            [
             0.1,
             "#c51b7d"
            ],
            [
             0.2,
             "#de77ae"
            ],
            [
             0.3,
             "#f1b6da"
            ],
            [
             0.4,
             "#fde0ef"
            ],
            [
             0.5,
             "#f7f7f7"
            ],
            [
             0.6,
             "#e6f5d0"
            ],
            [
             0.7,
             "#b8e186"
            ],
            [
             0.8,
             "#7fbc41"
            ],
            [
             0.9,
             "#4d9221"
            ],
            [
             1,
             "#276419"
            ]
           ],
           "sequential": [
            [
             0,
             "#0d0887"
            ],
            [
             0.1111111111111111,
             "#46039f"
            ],
            [
             0.2222222222222222,
             "#7201a8"
            ],
            [
             0.3333333333333333,
             "#9c179e"
            ],
            [
             0.4444444444444444,
             "#bd3786"
            ],
            [
             0.5555555555555556,
             "#d8576b"
            ],
            [
             0.6666666666666666,
             "#ed7953"
            ],
            [
             0.7777777777777778,
             "#fb9f3a"
            ],
            [
             0.8888888888888888,
             "#fdca26"
            ],
            [
             1,
             "#f0f921"
            ]
           ],
           "sequentialminus": [
            [
             0,
             "#0d0887"
            ],
            [
             0.1111111111111111,
             "#46039f"
            ],
            [
             0.2222222222222222,
             "#7201a8"
            ],
            [
             0.3333333333333333,
             "#9c179e"
            ],
            [
             0.4444444444444444,
             "#bd3786"
            ],
            [
             0.5555555555555556,
             "#d8576b"
            ],
            [
             0.6666666666666666,
             "#ed7953"
            ],
            [
             0.7777777777777778,
             "#fb9f3a"
            ],
            [
             0.8888888888888888,
             "#fdca26"
            ],
            [
             1,
             "#f0f921"
            ]
           ]
          },
          "colorway": [
           "#636efa",
           "#EF553B",
           "#00cc96",
           "#ab63fa",
           "#FFA15A",
           "#19d3f3",
           "#FF6692",
           "#B6E880",
           "#FF97FF",
           "#FECB52"
          ],
          "font": {
           "color": "#2a3f5f"
          },
          "geo": {
           "bgcolor": "white",
           "lakecolor": "white",
           "landcolor": "#E5ECF6",
           "showlakes": true,
           "showland": true,
           "subunitcolor": "white"
          },
          "hoverlabel": {
           "align": "left"
          },
          "hovermode": "closest",
          "mapbox": {
           "style": "light"
          },
          "paper_bgcolor": "white",
          "plot_bgcolor": "#E5ECF6",
          "polar": {
           "angularaxis": {
            "gridcolor": "white",
            "linecolor": "white",
            "ticks": ""
           },
           "bgcolor": "#E5ECF6",
           "radialaxis": {
            "gridcolor": "white",
            "linecolor": "white",
            "ticks": ""
           }
          },
          "scene": {
           "xaxis": {
            "backgroundcolor": "#E5ECF6",
            "gridcolor": "white",
            "gridwidth": 2,
            "linecolor": "white",
            "showbackground": true,
            "ticks": "",
            "zerolinecolor": "white"
           },
           "yaxis": {
            "backgroundcolor": "#E5ECF6",
            "gridcolor": "white",
            "gridwidth": 2,
            "linecolor": "white",
            "showbackground": true,
            "ticks": "",
            "zerolinecolor": "white"
           },
           "zaxis": {
            "backgroundcolor": "#E5ECF6",
            "gridcolor": "white",
            "gridwidth": 2,
            "linecolor": "white",
            "showbackground": true,
            "ticks": "",
            "zerolinecolor": "white"
           }
          },
          "shapedefaults": {
           "line": {
            "color": "#2a3f5f"
           }
          },
          "ternary": {
           "aaxis": {
            "gridcolor": "white",
            "linecolor": "white",
            "ticks": ""
           },
           "baxis": {
            "gridcolor": "white",
            "linecolor": "white",
            "ticks": ""
           },
           "bgcolor": "#E5ECF6",
           "caxis": {
            "gridcolor": "white",
            "linecolor": "white",
            "ticks": ""
           }
          },
          "title": {
           "x": 0.05
          },
          "xaxis": {
           "automargin": true,
           "gridcolor": "white",
           "linecolor": "white",
           "ticks": "",
           "title": {
            "standoff": 15
           },
           "zerolinecolor": "white",
           "zerolinewidth": 2
          },
          "yaxis": {
           "automargin": true,
           "gridcolor": "white",
           "linecolor": "white",
           "ticks": "",
           "title": {
            "standoff": 15
           },
           "zerolinecolor": "white",
           "zerolinewidth": 2
          }
         }
        },
        "title": {
         "text": "Comparison on ESG score trend"
        },
        "xaxis": {
         "anchor": "y",
         "domain": [
          0,
          1
         ],
         "title": {
          "text": "Year"
         }
        },
        "yaxis": {
         "anchor": "x",
         "domain": [
          0,
          1
         ],
         "title": {
          "text": "predicted_score"
         }
        }
       }
      }
     },
     "metadata": {},
     "output_type": "display_data"
    }
   ],
   "source": [
    "fig_compare = px.line(compare_data, x = \"Year\", y = \"predicted_score\", color = \"Type\",\n",
    "                      markers = True, \n",
    "                      title = \"Comparison on ESG score trend\")\n",
    "\n",
    "fig_compare.update_traces(\n",
    "    hovertemplate = 'Year: %{x} <br> ESG Score: %{y} <extra></extra>', \n",
    "    marker = dict(size = 8)\n",
    ")\n",
    "\n",
    "fig_compare.show()"
   ]
  }
 ],
 "metadata": {
  "kernelspec": {
   "display_name": "Python 3",
   "language": "python",
   "name": "python3"
  },
  "language_info": {
   "codemirror_mode": {
    "name": "ipython",
    "version": 3
   },
   "file_extension": ".py",
   "mimetype": "text/x-python",
   "name": "python",
   "nbconvert_exporter": "python",
   "pygments_lexer": "ipython3",
   "version": "3.12.6"
  }
 },
 "nbformat": 4,
 "nbformat_minor": 2
}
