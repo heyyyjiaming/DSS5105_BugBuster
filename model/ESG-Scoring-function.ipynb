{
 "cells": [
  {
   "cell_type": "code",
   "execution_count": 2,
   "metadata": {},
   "outputs": [],
   "source": [
    "import pandas as pd\n",
    "import numpy as np\n",
    "from sklearn.impute import SimpleImputer\n",
    "from sklearn.preprocessing import StandardScaler\n",
    "from sklearn.cluster import KMeans\n",
    "from sklearn.linear_model import LinearRegression\n",
    "import plotly.express as px"
   ]
  },
  {
   "cell_type": "markdown",
   "metadata": {},
   "source": [
    "### Build Scoring System and Create Banckmark"
   ]
  },
  {
   "cell_type": "code",
   "execution_count": 30,
   "metadata": {},
   "outputs": [],
   "source": [
    "# Step 1: Load Data\n",
    "esg_file_path = './data/Technology Industry ESG data.csv'\n",
    "esg_data = pd.read_csv(esg_file_path)"
   ]
  },
  {
   "cell_type": "code",
   "execution_count": 31,
   "metadata": {},
   "outputs": [
    {
     "data": {
      "text/plain": [
       "(1250, 23)"
      ]
     },
     "execution_count": 31,
     "metadata": {},
     "output_type": "execute_result"
    }
   ],
   "source": [
    "esg_data.shape"
   ]
  },
  {
   "cell_type": "code",
   "execution_count": null,
   "metadata": {},
   "outputs": [],
   "source": [
    "def ESG_scoring(esg_data):\n",
    "    company_info = esg_data[['Sub-sector', 'Company Name', 'Year']]\n",
    "    esg_data_numeric = esg_data.drop(columns=['Sub-sector', 'Company Name', 'Year', 'GHG Emissions (Total) (tCO2e)',\n",
    "                                              'Recordable work-related ill health cases', \n",
    "                                              'Average Training Hours per Employee', 'Total Energy Consumption (MWhs)',\n",
    "                                              'Women on the Board (%)', 'Current Employees by Gender (Female %)', \n",
    "                                              'Women in Management Team (%)', 'Fatalities', 'Board Independence (%)'])\n",
    "    \n",
    "    imputer = SimpleImputer(strategy='median')\n",
    "    esg_data_imputed = pd.DataFrame(imputer.fit_transform(esg_data_numeric), columns=esg_data_numeric.columns)\n",
    "    \n",
    "    scaler = StandardScaler()\n",
    "    esg_data_scaled = pd.DataFrame(scaler.fit_transform(esg_data_imputed), columns=esg_data_numeric.columns)\n",
    "    \n",
    "    wcss = []  # Within-cluster sum of squares\n",
    "    for i in range(1, 11):\n",
    "        kmeans = KMeans(n_clusters=i, init='k-means++', max_iter=300, n_init=10, random_state=42)\n",
    "        kmeans.fit(esg_data_scaled)\n",
    "        wcss.append(kmeans.inertia_)\n",
    "        \n",
    "    optimal_clusters = 3\n",
    "    kmeans = KMeans(n_clusters=optimal_clusters, init='k-means++', max_iter=300, n_init=10, random_state=42)\n",
    "    esg_data['Cluster'] = kmeans.fit_predict(esg_data_scaled)\n",
    "    \n",
    "    esg_cluster_centers = pd.DataFrame(scaler.inverse_transform(kmeans.cluster_centers_), columns=esg_data_numeric.columns)\n",
    "    esg_cluster_centers['Cluster'] = range(optimal_clusters)\n",
    "    \n",
    "    def categorize_performance(cluster):\n",
    "        if cluster == esg_cluster_centers['Cluster'].idxmax():\n",
    "            return 'Good'\n",
    "        elif cluster == esg_cluster_centers['Cluster'].idxmin():\n",
    "            return 'Poor'\n",
    "        else:\n",
    "            return 'Average'\n",
    "\n",
    "    esg_data['Performance Category'] = esg_data['Cluster'].apply(categorize_performance)\n",
    "    \n",
    "    X = esg_data_scaled\n",
    "    print(X.columns)\n",
    "    reg = LinearRegression()\n",
    "    reg.fit(X, esg_data['Cluster'])\n",
    "    \n",
    "    esg_data['predicted_score'] = reg.predict(X)\n",
    "    \n",
    "    esg_feature_weights = pd.Series(reg.coef_, index=esg_data_numeric.columns).sort_values(ascending=False)\n",
    "    \n",
    "    esg_intercept_b = reg.intercept_\n",
    "    \n",
    "    \n",
    "    return esg_data, kmeans, esg_cluster_centers, esg_feature_weights, esg_intercept_b\n",
    "    "
   ]
  },
  {
   "cell_type": "code",
   "execution_count": 28,
   "metadata": {},
   "outputs": [
    {
     "name": "stdout",
     "output_type": "stream",
     "text": [
      "Index(['GHG Emissions (Scope 1) (tCO2e)', 'GHG Emissions (Scope 2) (tCO2e)',\n",
      "       'GHG Emissions (Scope 3) (tCO2e)', 'Total Water Consumption (ML)',\n",
      "       'Total Waste Generated (t)',\n",
      "       'New Hires and Turnover by Gender (Female %)',\n",
      "       'Current Employees by Age Groups (Millennials %)', 'Total Turnover (%)',\n",
      "       'Total Number of Employees', 'High-consequence injuries',\n",
      "       'Recordable injuries', 'Anti-Corruption Training for Employees (%)'],\n",
      "      dtype='object')\n"
     ]
    }
   ],
   "source": [
    "esg_data_scored, kmeans, esg_cluster_centers, esg_feature_weights, esg_intercept_b = ESG_scoring(esg_data)"
   ]
  },
  {
   "cell_type": "code",
   "execution_count": 9,
   "metadata": {},
   "outputs": [
    {
     "data": {
      "text/html": [
       "<div>\n",
       "<style scoped>\n",
       "    .dataframe tbody tr th:only-of-type {\n",
       "        vertical-align: middle;\n",
       "    }\n",
       "\n",
       "    .dataframe tbody tr th {\n",
       "        vertical-align: top;\n",
       "    }\n",
       "\n",
       "    .dataframe thead th {\n",
       "        text-align: right;\n",
       "    }\n",
       "</style>\n",
       "<table border=\"1\" class=\"dataframe\">\n",
       "  <thead>\n",
       "    <tr style=\"text-align: right;\">\n",
       "      <th></th>\n",
       "      <th>Sub-sector</th>\n",
       "      <th>Company Name</th>\n",
       "      <th>Year</th>\n",
       "      <th>GHG Emissions (Scope 1) (tCO2e)</th>\n",
       "      <th>GHG Emissions (Scope 2) (tCO2e)</th>\n",
       "      <th>GHG Emissions (Scope 3) (tCO2e)</th>\n",
       "      <th>Total Energy Consumption (MWhs)</th>\n",
       "      <th>Total Water Consumption (ML)</th>\n",
       "      <th>Total Waste Generated (t)</th>\n",
       "      <th>Current Employees by Gender (Female %)</th>\n",
       "      <th>...</th>\n",
       "      <th>High-consequence injuries</th>\n",
       "      <th>Recordable injuries</th>\n",
       "      <th>Recordable work-related ill health cases</th>\n",
       "      <th>Board Independence (%)</th>\n",
       "      <th>Women on the Board (%)</th>\n",
       "      <th>Women in Management Team (%)</th>\n",
       "      <th>Anti-Corruption Training for Employees (%)</th>\n",
       "      <th>Cluster</th>\n",
       "      <th>Performance Category</th>\n",
       "      <th>predicted_score</th>\n",
       "    </tr>\n",
       "  </thead>\n",
       "  <tbody>\n",
       "    <tr>\n",
       "      <th>0</th>\n",
       "      <td>Software and Services</td>\n",
       "      <td>Company_1</td>\n",
       "      <td>2020</td>\n",
       "      <td>439.330088</td>\n",
       "      <td>692.120861</td>\n",
       "      <td>934.282272</td>\n",
       "      <td>9795.219615</td>\n",
       "      <td>190.466071</td>\n",
       "      <td>10.890496</td>\n",
       "      <td>28.490657</td>\n",
       "      <td>...</td>\n",
       "      <td>1</td>\n",
       "      <td>5</td>\n",
       "      <td>0</td>\n",
       "      <td>70.013601</td>\n",
       "      <td>14.053968</td>\n",
       "      <td>38.372039</td>\n",
       "      <td>84.106898</td>\n",
       "      <td>1</td>\n",
       "      <td>Average</td>\n",
       "      <td>1.287343</td>\n",
       "    </tr>\n",
       "    <tr>\n",
       "      <th>1</th>\n",
       "      <td>Software and Services</td>\n",
       "      <td>Company_1</td>\n",
       "      <td>2021</td>\n",
       "      <td>378.090962</td>\n",
       "      <td>980.739585</td>\n",
       "      <td>715.153231</td>\n",
       "      <td>18050.236590</td>\n",
       "      <td>458.761923</td>\n",
       "      <td>25.159481</td>\n",
       "      <td>26.762862</td>\n",
       "      <td>...</td>\n",
       "      <td>0</td>\n",
       "      <td>5</td>\n",
       "      <td>2</td>\n",
       "      <td>57.922977</td>\n",
       "      <td>30.047620</td>\n",
       "      <td>13.504147</td>\n",
       "      <td>79.688451</td>\n",
       "      <td>1</td>\n",
       "      <td>Average</td>\n",
       "      <td>1.113681</td>\n",
       "    </tr>\n",
       "    <tr>\n",
       "      <th>2</th>\n",
       "      <td>Software and Services</td>\n",
       "      <td>Company_1</td>\n",
       "      <td>2022</td>\n",
       "      <td>399.235518</td>\n",
       "      <td>287.726900</td>\n",
       "      <td>1519.212044</td>\n",
       "      <td>48655.677070</td>\n",
       "      <td>963.649338</td>\n",
       "      <td>39.016966</td>\n",
       "      <td>24.904117</td>\n",
       "      <td>...</td>\n",
       "      <td>2</td>\n",
       "      <td>3</td>\n",
       "      <td>1</td>\n",
       "      <td>76.934140</td>\n",
       "      <td>32.222135</td>\n",
       "      <td>36.897553</td>\n",
       "      <td>68.053200</td>\n",
       "      <td>0</td>\n",
       "      <td>Poor</td>\n",
       "      <td>0.888878</td>\n",
       "    </tr>\n",
       "    <tr>\n",
       "      <th>3</th>\n",
       "      <td>Software and Services</td>\n",
       "      <td>Company_1</td>\n",
       "      <td>2023</td>\n",
       "      <td>104.208569</td>\n",
       "      <td>845.016119</td>\n",
       "      <td>1373.225502</td>\n",
       "      <td>19265.752670</td>\n",
       "      <td>815.201098</td>\n",
       "      <td>36.155657</td>\n",
       "      <td>22.467246</td>\n",
       "      <td>...</td>\n",
       "      <td>0</td>\n",
       "      <td>7</td>\n",
       "      <td>2</td>\n",
       "      <td>87.083579</td>\n",
       "      <td>28.552195</td>\n",
       "      <td>36.052544</td>\n",
       "      <td>75.196871</td>\n",
       "      <td>1</td>\n",
       "      <td>Average</td>\n",
       "      <td>1.032026</td>\n",
       "    </tr>\n",
       "    <tr>\n",
       "      <th>4</th>\n",
       "      <td>Software and Services</td>\n",
       "      <td>Company_1</td>\n",
       "      <td>2024</td>\n",
       "      <td>309.991397</td>\n",
       "      <td>483.561409</td>\n",
       "      <td>999.316148</td>\n",
       "      <td>7567.449918</td>\n",
       "      <td>228.246568</td>\n",
       "      <td>35.196124</td>\n",
       "      <td>28.689775</td>\n",
       "      <td>...</td>\n",
       "      <td>0</td>\n",
       "      <td>7</td>\n",
       "      <td>1</td>\n",
       "      <td>59.730267</td>\n",
       "      <td>27.132033</td>\n",
       "      <td>11.988359</td>\n",
       "      <td>66.669347</td>\n",
       "      <td>1</td>\n",
       "      <td>Average</td>\n",
       "      <td>1.521602</td>\n",
       "    </tr>\n",
       "    <tr>\n",
       "      <th>...</th>\n",
       "      <td>...</td>\n",
       "      <td>...</td>\n",
       "      <td>...</td>\n",
       "      <td>...</td>\n",
       "      <td>...</td>\n",
       "      <td>...</td>\n",
       "      <td>...</td>\n",
       "      <td>...</td>\n",
       "      <td>...</td>\n",
       "      <td>...</td>\n",
       "      <td>...</td>\n",
       "      <td>...</td>\n",
       "      <td>...</td>\n",
       "      <td>...</td>\n",
       "      <td>...</td>\n",
       "      <td>...</td>\n",
       "      <td>...</td>\n",
       "      <td>...</td>\n",
       "      <td>...</td>\n",
       "      <td>...</td>\n",
       "      <td>...</td>\n",
       "    </tr>\n",
       "    <tr>\n",
       "      <th>1245</th>\n",
       "      <td>Engineering Services</td>\n",
       "      <td>Company_50</td>\n",
       "      <td>2020</td>\n",
       "      <td>186.537926</td>\n",
       "      <td>828.858112</td>\n",
       "      <td>438.343618</td>\n",
       "      <td>20422.508250</td>\n",
       "      <td>558.859469</td>\n",
       "      <td>65.763378</td>\n",
       "      <td>40.047658</td>\n",
       "      <td>...</td>\n",
       "      <td>0</td>\n",
       "      <td>7</td>\n",
       "      <td>4</td>\n",
       "      <td>97.086754</td>\n",
       "      <td>24.967339</td>\n",
       "      <td>24.462984</td>\n",
       "      <td>79.575658</td>\n",
       "      <td>1</td>\n",
       "      <td>Average</td>\n",
       "      <td>0.889140</td>\n",
       "    </tr>\n",
       "    <tr>\n",
       "      <th>1246</th>\n",
       "      <td>Engineering Services</td>\n",
       "      <td>Company_50</td>\n",
       "      <td>2021</td>\n",
       "      <td>123.727518</td>\n",
       "      <td>401.307286</td>\n",
       "      <td>358.203579</td>\n",
       "      <td>40465.950530</td>\n",
       "      <td>429.302159</td>\n",
       "      <td>72.145962</td>\n",
       "      <td>35.766343</td>\n",
       "      <td>...</td>\n",
       "      <td>0</td>\n",
       "      <td>5</td>\n",
       "      <td>3</td>\n",
       "      <td>96.307085</td>\n",
       "      <td>30.545766</td>\n",
       "      <td>21.846929</td>\n",
       "      <td>93.350050</td>\n",
       "      <td>2</td>\n",
       "      <td>Good</td>\n",
       "      <td>1.576278</td>\n",
       "    </tr>\n",
       "    <tr>\n",
       "      <th>1247</th>\n",
       "      <td>Engineering Services</td>\n",
       "      <td>Company_50</td>\n",
       "      <td>2022</td>\n",
       "      <td>93.612265</td>\n",
       "      <td>841.584214</td>\n",
       "      <td>1743.159319</td>\n",
       "      <td>14315.390990</td>\n",
       "      <td>431.663571</td>\n",
       "      <td>51.365446</td>\n",
       "      <td>47.129219</td>\n",
       "      <td>...</td>\n",
       "      <td>0</td>\n",
       "      <td>10</td>\n",
       "      <td>3</td>\n",
       "      <td>88.293865</td>\n",
       "      <td>42.920380</td>\n",
       "      <td>19.228261</td>\n",
       "      <td>51.609238</td>\n",
       "      <td>1</td>\n",
       "      <td>Average</td>\n",
       "      <td>1.384389</td>\n",
       "    </tr>\n",
       "    <tr>\n",
       "      <th>1248</th>\n",
       "      <td>Engineering Services</td>\n",
       "      <td>Company_50</td>\n",
       "      <td>2023</td>\n",
       "      <td>156.467997</td>\n",
       "      <td>115.054571</td>\n",
       "      <td>1391.104798</td>\n",
       "      <td>17642.003990</td>\n",
       "      <td>144.745709</td>\n",
       "      <td>98.688071</td>\n",
       "      <td>31.141008</td>\n",
       "      <td>...</td>\n",
       "      <td>1</td>\n",
       "      <td>3</td>\n",
       "      <td>1</td>\n",
       "      <td>92.154256</td>\n",
       "      <td>26.656797</td>\n",
       "      <td>39.887140</td>\n",
       "      <td>90.081546</td>\n",
       "      <td>1</td>\n",
       "      <td>Average</td>\n",
       "      <td>1.832074</td>\n",
       "    </tr>\n",
       "    <tr>\n",
       "      <th>1249</th>\n",
       "      <td>Engineering Services</td>\n",
       "      <td>Company_50</td>\n",
       "      <td>2024</td>\n",
       "      <td>218.972084</td>\n",
       "      <td>874.349761</td>\n",
       "      <td>1652.613564</td>\n",
       "      <td>17321.125800</td>\n",
       "      <td>905.591060</td>\n",
       "      <td>73.045091</td>\n",
       "      <td>48.251435</td>\n",
       "      <td>...</td>\n",
       "      <td>3</td>\n",
       "      <td>0</td>\n",
       "      <td>5</td>\n",
       "      <td>70.120100</td>\n",
       "      <td>48.830537</td>\n",
       "      <td>34.500734</td>\n",
       "      <td>77.233500</td>\n",
       "      <td>0</td>\n",
       "      <td>Poor</td>\n",
       "      <td>0.118598</td>\n",
       "    </tr>\n",
       "  </tbody>\n",
       "</table>\n",
       "<p>1250 rows × 26 columns</p>\n",
       "</div>"
      ],
      "text/plain": [
       "                 Sub-sector Company Name  Year  \\\n",
       "0     Software and Services    Company_1  2020   \n",
       "1     Software and Services    Company_1  2021   \n",
       "2     Software and Services    Company_1  2022   \n",
       "3     Software and Services    Company_1  2023   \n",
       "4     Software and Services    Company_1  2024   \n",
       "...                     ...          ...   ...   \n",
       "1245   Engineering Services   Company_50  2020   \n",
       "1246   Engineering Services   Company_50  2021   \n",
       "1247   Engineering Services   Company_50  2022   \n",
       "1248   Engineering Services   Company_50  2023   \n",
       "1249   Engineering Services   Company_50  2024   \n",
       "\n",
       "      GHG Emissions (Scope 1) (tCO2e)  GHG Emissions (Scope 2) (tCO2e)  \\\n",
       "0                          439.330088                       692.120861   \n",
       "1                          378.090962                       980.739585   \n",
       "2                          399.235518                       287.726900   \n",
       "3                          104.208569                       845.016119   \n",
       "4                          309.991397                       483.561409   \n",
       "...                               ...                              ...   \n",
       "1245                       186.537926                       828.858112   \n",
       "1246                       123.727518                       401.307286   \n",
       "1247                        93.612265                       841.584214   \n",
       "1248                       156.467997                       115.054571   \n",
       "1249                       218.972084                       874.349761   \n",
       "\n",
       "      GHG Emissions (Scope 3) (tCO2e)  Total Energy Consumption (MWhs)  \\\n",
       "0                          934.282272                      9795.219615   \n",
       "1                          715.153231                     18050.236590   \n",
       "2                         1519.212044                     48655.677070   \n",
       "3                         1373.225502                     19265.752670   \n",
       "4                          999.316148                      7567.449918   \n",
       "...                               ...                              ...   \n",
       "1245                       438.343618                     20422.508250   \n",
       "1246                       358.203579                     40465.950530   \n",
       "1247                      1743.159319                     14315.390990   \n",
       "1248                      1391.104798                     17642.003990   \n",
       "1249                      1652.613564                     17321.125800   \n",
       "\n",
       "      Total Water Consumption (ML)  Total Waste Generated (t)  \\\n",
       "0                       190.466071                  10.890496   \n",
       "1                       458.761923                  25.159481   \n",
       "2                       963.649338                  39.016966   \n",
       "3                       815.201098                  36.155657   \n",
       "4                       228.246568                  35.196124   \n",
       "...                            ...                        ...   \n",
       "1245                    558.859469                  65.763378   \n",
       "1246                    429.302159                  72.145962   \n",
       "1247                    431.663571                  51.365446   \n",
       "1248                    144.745709                  98.688071   \n",
       "1249                    905.591060                  73.045091   \n",
       "\n",
       "      Current Employees by Gender (Female %)  ...  High-consequence injuries  \\\n",
       "0                                  28.490657  ...                          1   \n",
       "1                                  26.762862  ...                          0   \n",
       "2                                  24.904117  ...                          2   \n",
       "3                                  22.467246  ...                          0   \n",
       "4                                  28.689775  ...                          0   \n",
       "...                                      ...  ...                        ...   \n",
       "1245                               40.047658  ...                          0   \n",
       "1246                               35.766343  ...                          0   \n",
       "1247                               47.129219  ...                          0   \n",
       "1248                               31.141008  ...                          1   \n",
       "1249                               48.251435  ...                          3   \n",
       "\n",
       "      Recordable injuries  Recordable work-related ill health cases  \\\n",
       "0                       5                                         0   \n",
       "1                       5                                         2   \n",
       "2                       3                                         1   \n",
       "3                       7                                         2   \n",
       "4                       7                                         1   \n",
       "...                   ...                                       ...   \n",
       "1245                    7                                         4   \n",
       "1246                    5                                         3   \n",
       "1247                   10                                         3   \n",
       "1248                    3                                         1   \n",
       "1249                    0                                         5   \n",
       "\n",
       "      Board Independence (%)  Women on the Board (%)  \\\n",
       "0                  70.013601               14.053968   \n",
       "1                  57.922977               30.047620   \n",
       "2                  76.934140               32.222135   \n",
       "3                  87.083579               28.552195   \n",
       "4                  59.730267               27.132033   \n",
       "...                      ...                     ...   \n",
       "1245               97.086754               24.967339   \n",
       "1246               96.307085               30.545766   \n",
       "1247               88.293865               42.920380   \n",
       "1248               92.154256               26.656797   \n",
       "1249               70.120100               48.830537   \n",
       "\n",
       "      Women in Management Team (%)  \\\n",
       "0                        38.372039   \n",
       "1                        13.504147   \n",
       "2                        36.897553   \n",
       "3                        36.052544   \n",
       "4                        11.988359   \n",
       "...                            ...   \n",
       "1245                     24.462984   \n",
       "1246                     21.846929   \n",
       "1247                     19.228261   \n",
       "1248                     39.887140   \n",
       "1249                     34.500734   \n",
       "\n",
       "      Anti-Corruption Training for Employees (%)  Cluster  \\\n",
       "0                                      84.106898        1   \n",
       "1                                      79.688451        1   \n",
       "2                                      68.053200        0   \n",
       "3                                      75.196871        1   \n",
       "4                                      66.669347        1   \n",
       "...                                          ...      ...   \n",
       "1245                                   79.575658        1   \n",
       "1246                                   93.350050        2   \n",
       "1247                                   51.609238        1   \n",
       "1248                                   90.081546        1   \n",
       "1249                                   77.233500        0   \n",
       "\n",
       "      Performance Category  predicted_score  \n",
       "0                  Average         1.287343  \n",
       "1                  Average         1.113681  \n",
       "2                     Poor         0.888878  \n",
       "3                  Average         1.032026  \n",
       "4                  Average         1.521602  \n",
       "...                    ...              ...  \n",
       "1245               Average         0.889140  \n",
       "1246                  Good         1.576278  \n",
       "1247               Average         1.384389  \n",
       "1248               Average         1.832074  \n",
       "1249                  Poor         0.118598  \n",
       "\n",
       "[1250 rows x 26 columns]"
      ]
     },
     "execution_count": 9,
     "metadata": {},
     "output_type": "execute_result"
    }
   ],
   "source": [
    "esg_data"
   ]
  },
  {
   "cell_type": "code",
   "execution_count": 59,
   "metadata": {},
   "outputs": [
    {
     "data": {
      "text/html": [
       "<div>\n",
       "<style scoped>\n",
       "    .dataframe tbody tr th:only-of-type {\n",
       "        vertical-align: middle;\n",
       "    }\n",
       "\n",
       "    .dataframe tbody tr th {\n",
       "        vertical-align: top;\n",
       "    }\n",
       "\n",
       "    .dataframe thead th {\n",
       "        text-align: right;\n",
       "    }\n",
       "</style>\n",
       "<table border=\"1\" class=\"dataframe\">\n",
       "  <thead>\n",
       "    <tr style=\"text-align: right;\">\n",
       "      <th></th>\n",
       "      <th>New Hires and Turnover by Gender (Female %)</th>\n",
       "      <th>Current Employees by Age Groups (Millennials %)</th>\n",
       "      <th>Total Turnover (%)</th>\n",
       "      <th>GHG Emissions (Scope 3) (tCO2e)</th>\n",
       "      <th>Anti-Corruption Training for Employees (%)</th>\n",
       "      <th>Total Number of Employees</th>\n",
       "      <th>Recordable injuries</th>\n",
       "      <th>High-consequence injuries</th>\n",
       "      <th>Total Waste Generated (t)</th>\n",
       "      <th>Total Water Consumption (ML)</th>\n",
       "      <th>GHG Emissions (Scope 2) (tCO2e)</th>\n",
       "      <th>GHG Emissions (Scope 1) (tCO2e)</th>\n",
       "    </tr>\n",
       "  </thead>\n",
       "  <tbody>\n",
       "    <tr>\n",
       "      <th>0</th>\n",
       "      <td>0.115291</td>\n",
       "      <td>0.043742</td>\n",
       "      <td>-0.011126</td>\n",
       "      <td>-0.050072</td>\n",
       "      <td>-0.070935</td>\n",
       "      <td>-0.079174</td>\n",
       "      <td>-0.118035</td>\n",
       "      <td>-0.182032</td>\n",
       "      <td>-0.194137</td>\n",
       "      <td>-0.241883</td>\n",
       "      <td>-0.260472</td>\n",
       "      <td>-0.340581</td>\n",
       "    </tr>\n",
       "  </tbody>\n",
       "</table>\n",
       "</div>"
      ],
      "text/plain": [
       "   New Hires and Turnover by Gender (Female %)  \\\n",
       "0                                     0.115291   \n",
       "\n",
       "   Current Employees by Age Groups (Millennials %)  Total Turnover (%)  \\\n",
       "0                                         0.043742           -0.011126   \n",
       "\n",
       "   GHG Emissions (Scope 3) (tCO2e)  \\\n",
       "0                        -0.050072   \n",
       "\n",
       "   Anti-Corruption Training for Employees (%)  Total Number of Employees  \\\n",
       "0                                   -0.070935                  -0.079174   \n",
       "\n",
       "   Recordable injuries  High-consequence injuries  Total Waste Generated (t)  \\\n",
       "0            -0.118035                  -0.182032                  -0.194137   \n",
       "\n",
       "   Total Water Consumption (ML)  GHG Emissions (Scope 2) (tCO2e)  \\\n",
       "0                     -0.241883                        -0.260472   \n",
       "\n",
       "   GHG Emissions (Scope 1) (tCO2e)  \n",
       "0                        -0.340581  "
      ]
     },
     "execution_count": 59,
     "metadata": {},
     "output_type": "execute_result"
    }
   ],
   "source": [
    "esg_weights = dict(zip(esg_feature_weights.index, esg_feature_weights.values))\n",
    "weights_df = pd.DataFrame([esg_weights])\n",
    "weights_df"
   ]
  },
  {
   "cell_type": "code",
   "execution_count": 60,
   "metadata": {},
   "outputs": [],
   "source": [
    "# weights_df.to_csv(\"ESG Scoring Weights.csv\", index = False)"
   ]
  },
  {
   "cell_type": "code",
   "execution_count": 61,
   "metadata": {},
   "outputs": [],
   "source": [
    "# esg_data.to_csv(\"ESG Scoring data.csv\", index = False)"
   ]
  },
  {
   "cell_type": "code",
   "execution_count": 62,
   "metadata": {},
   "outputs": [
    {
     "data": {
      "text/plain": [
       "count    1250.000000\n",
       "mean        1.044000\n",
       "std         0.629875\n",
       "min        -0.790077\n",
       "25%         0.607696\n",
       "50%         1.051628\n",
       "75%         1.497920\n",
       "max         2.644386\n",
       "Name: predicted_score, dtype: float64"
      ]
     },
     "execution_count": 62,
     "metadata": {},
     "output_type": "execute_result"
    }
   ],
   "source": [
    "esg_data_scored[\"predicted_score\"].describe()"
   ]
  },
  {
   "cell_type": "code",
   "execution_count": 63,
   "metadata": {},
   "outputs": [],
   "source": [
    "def ESG_trend(esg_data):\n",
    "    ESG_score_trend = esg_data.groupby('Year')['predicted_score'].mean().reset_index()\n",
    "    ESG_score_trend.rename(columns = {'predicted_score' : 'Industry mean'}, inplace = True)\n",
    "    \n",
    "    soft_serve_esg = esg_data[esg_data['Sub-sector'] == 'Software and Services'].reset_index(drop=True)\n",
    "    tech_equip_esg = esg_data[esg_data['Sub-sector'] == 'Technology Hardware and Equipment'].reset_index(drop=True)\n",
    "    semi_esg = esg_data[esg_data['Sub-sector'] == 'Semiconductors and Semiconductor Equipment'].reset_index(drop=True)\n",
    "    info_tech_esg = esg_data[esg_data['Sub-sector'] == 'Information Technology'].reset_index(drop=True)\n",
    "    engin_esg = esg_data[esg_data['Sub-sector'] == 'Engineering Services'].reset_index(drop=True)\n",
    "    \n",
    "    soft_serve_esg_trend = soft_serve_esg.groupby('Year')['predicted_score'].mean().reset_index()\n",
    "    soft_serve_esg_trend.rename(columns = {\"predicted_score\" : \"Software and Services\"}, inplace = True)\n",
    "\n",
    "    tech_equip_esg_trend = tech_equip_esg.groupby('Year')['predicted_score'].mean().reset_index()\n",
    "    tech_equip_esg_trend.rename(columns = {\"predicted_score\" : \"Technology Hardware and Equipment\"}, inplace = True)\n",
    "\n",
    "    semi_esg_trend = semi_esg.groupby('Year')['predicted_score'].mean().reset_index()\n",
    "    semi_esg_trend.rename(columns = {\"predicted_score\" : \"Semiconductors and Semiconductor Equipment\"}, inplace = True)\n",
    "\n",
    "    info_tech_esg_trend = info_tech_esg.groupby('Year')['predicted_score'].mean().reset_index()\n",
    "    info_tech_esg_trend.rename(columns = {\"predicted_score\" : \"Information Technology\"}, inplace = True)\n",
    "\n",
    "    engin_esg_trend = engin_esg.groupby('Year')['predicted_score'].mean().reset_index()\n",
    "    engin_esg_trend.rename(columns = {\"predicted_score\" : \"Engineering Services\"}, inplace = True)\n",
    "    \n",
    "    sub_sectors_df = ESG_score_trend.merge(soft_serve_esg_trend, on='Year').merge(tech_equip_esg_trend, on='Year').merge(semi_esg_trend, on='Year').merge(info_tech_esg_trend, on='Year').merge(engin_esg_trend, on='Year')\n",
    "    \n",
    "    esg_industry_plot_data = sub_sectors_df.melt(id_vars = [\"Year\"],\n",
    "                                                 var_name = \"sub-sectors\", value_name = \"predicted_score\")\n",
    "    \n",
    "    return ESG_score_trend, esg_industry_plot_data"
   ]
  },
  {
   "cell_type": "code",
   "execution_count": 64,
   "metadata": {},
   "outputs": [],
   "source": [
    "ESG_score_trend, esg_industry_plot_data = ESG_trend(esg_data_scored)"
   ]
  },
  {
   "cell_type": "code",
   "execution_count": 65,
   "metadata": {},
   "outputs": [],
   "source": [
    "def ESG_trend_plot(esg_industry_plot_data):\n",
    "    fig_esg_trend = px.line(esg_industry_plot_data, x = \"Year\", y = \"predicted_score\", color = \"sub-sectors\",\n",
    "                            markers = True, \n",
    "                            title = \"Environment score trend of the technology industry and sub-sectors\")\n",
    "    \n",
    "    fig_esg_trend.update_xaxes(dtick = 1)\n",
    "    \n",
    "    fig_esg_trend.update_traces(\n",
    "        hovertemplate = 'Year: %{x} <br> ESG Score: %{y} <extra></extra>', \n",
    "        marker = dict(size = 8)\n",
    "        )\n",
    "    \n",
    "    fig_esg_trend.update_traces(selector = dict(name = 'Industry mean'),\n",
    "                                line = dict(width = 4, color = \"black\"), \n",
    "                                marker = dict(size = 10, color = \"black\")) \n",
    "    \n",
    "    return fig_esg_trend"
   ]
  },
  {
   "cell_type": "code",
   "execution_count": 66,
   "metadata": {},
   "outputs": [
    {
     "data": {
      "application/vnd.plotly.v1+json": {
       "config": {
        "plotlyServerURL": "https://plot.ly"
       },
       "data": [
        {
         "hovertemplate": "Year: %{x} <br> ESG Score: %{y} <extra></extra>",
         "legendgroup": "Industry mean",
         "line": {
          "color": "black",
          "dash": "solid",
          "width": 4
         },
         "marker": {
          "color": "black",
          "size": 10,
          "symbol": "circle"
         },
         "mode": "lines+markers",
         "name": "Industry mean",
         "orientation": "v",
         "showlegend": true,
         "type": "scatter",
         "x": [
          2020,
          2021,
          2022,
          2023,
          2024
         ],
         "xaxis": "x",
         "y": [
          1.0228003892902735,
          1.0402903717018357,
          1.1388972202940286,
          1.001877533969493,
          1.0161344847443692
         ],
         "yaxis": "y"
        },
        {
         "hovertemplate": "Year: %{x} <br> ESG Score: %{y} <extra></extra>",
         "legendgroup": "Software and Services",
         "line": {
          "color": "#EF553B",
          "dash": "solid"
         },
         "marker": {
          "size": 8,
          "symbol": "circle"
         },
         "mode": "lines+markers",
         "name": "Software and Services",
         "orientation": "v",
         "showlegend": true,
         "type": "scatter",
         "x": [
          2020,
          2021,
          2022,
          2023,
          2024
         ],
         "xaxis": "x",
         "y": [
          0.9697578910173721,
          0.9739397824897634,
          0.9819226288787739,
          1.0766240543821441,
          1.060531077595121
         ],
         "yaxis": "y"
        },
        {
         "hovertemplate": "Year: %{x} <br> ESG Score: %{y} <extra></extra>",
         "legendgroup": "Technology Hardware and Equipment",
         "line": {
          "color": "#00cc96",
          "dash": "solid"
         },
         "marker": {
          "size": 8,
          "symbol": "circle"
         },
         "mode": "lines+markers",
         "name": "Technology Hardware and Equipment",
         "orientation": "v",
         "showlegend": true,
         "type": "scatter",
         "x": [
          2020,
          2021,
          2022,
          2023,
          2024
         ],
         "xaxis": "x",
         "y": [
          1.081577312187934,
          1.0507963367220226,
          1.176439410989504,
          1.041421827169586,
          0.9872715098781016
         ],
         "yaxis": "y"
        },
        {
         "hovertemplate": "Year: %{x} <br> ESG Score: %{y} <extra></extra>",
         "legendgroup": "Semiconductors and Semiconductor Equipment",
         "line": {
          "color": "#ab63fa",
          "dash": "solid"
         },
         "marker": {
          "size": 8,
          "symbol": "circle"
         },
         "mode": "lines+markers",
         "name": "Semiconductors and Semiconductor Equipment",
         "orientation": "v",
         "showlegend": true,
         "type": "scatter",
         "x": [
          2020,
          2021,
          2022,
          2023,
          2024
         ],
         "xaxis": "x",
         "y": [
          0.9188391168278076,
          1.1354813724356254,
          1.158691788540716,
          0.8193958608107278,
          0.9887781859551292
         ],
         "yaxis": "y"
        },
        {
         "hovertemplate": "Year: %{x} <br> ESG Score: %{y} <extra></extra>",
         "legendgroup": "Information Technology",
         "line": {
          "color": "#FFA15A",
          "dash": "solid"
         },
         "marker": {
          "size": 8,
          "symbol": "circle"
         },
         "mode": "lines+markers",
         "name": "Information Technology",
         "orientation": "v",
         "showlegend": true,
         "type": "scatter",
         "x": [
          2020,
          2021,
          2022,
          2023,
          2024
         ],
         "xaxis": "x",
         "y": [
          1.1563461304853593,
          1.001724862852267,
          1.1534661977851461,
          1.0067594948961611,
          1.0578988139389305
         ],
         "yaxis": "y"
        },
        {
         "hovertemplate": "Year: %{x} <br> ESG Score: %{y} <extra></extra>",
         "legendgroup": "Engineering Services",
         "line": {
          "color": "#19d3f3",
          "dash": "solid"
         },
         "marker": {
          "size": 8,
          "symbol": "circle"
         },
         "mode": "lines+markers",
         "name": "Engineering Services",
         "orientation": "v",
         "showlegend": true,
         "type": "scatter",
         "x": [
          2020,
          2021,
          2022,
          2023,
          2024
         ],
         "xaxis": "x",
         "y": [
          0.987481495932895,
          1.0395095040095,
          1.223966075276003,
          1.0651864325888463,
          0.9861928363545632
         ],
         "yaxis": "y"
        }
       ],
       "layout": {
        "legend": {
         "title": {
          "text": "sub-sectors"
         },
         "tracegroupgap": 0
        },
        "template": {
         "data": {
          "bar": [
           {
            "error_x": {
             "color": "#2a3f5f"
            },
            "error_y": {
             "color": "#2a3f5f"
            },
            "marker": {
             "line": {
              "color": "#E5ECF6",
              "width": 0.5
             },
             "pattern": {
              "fillmode": "overlay",
              "size": 10,
              "solidity": 0.2
             }
            },
            "type": "bar"
           }
          ],
          "barpolar": [
           {
            "marker": {
             "line": {
              "color": "#E5ECF6",
              "width": 0.5
             },
             "pattern": {
              "fillmode": "overlay",
              "size": 10,
              "solidity": 0.2
             }
            },
            "type": "barpolar"
           }
          ],
          "carpet": [
           {
            "aaxis": {
             "endlinecolor": "#2a3f5f",
             "gridcolor": "white",
             "linecolor": "white",
             "minorgridcolor": "white",
             "startlinecolor": "#2a3f5f"
            },
            "baxis": {
             "endlinecolor": "#2a3f5f",
             "gridcolor": "white",
             "linecolor": "white",
             "minorgridcolor": "white",
             "startlinecolor": "#2a3f5f"
            },
            "type": "carpet"
           }
          ],
          "choropleth": [
           {
            "colorbar": {
             "outlinewidth": 0,
             "ticks": ""
            },
            "type": "choropleth"
           }
          ],
          "contour": [
           {
            "colorbar": {
             "outlinewidth": 0,
             "ticks": ""
            },
            "colorscale": [
             [
              0,
              "#0d0887"
             ],
             [
              0.1111111111111111,
              "#46039f"
             ],
             [
              0.2222222222222222,
              "#7201a8"
             ],
             [
              0.3333333333333333,
              "#9c179e"
             ],
             [
              0.4444444444444444,
              "#bd3786"
             ],
             [
              0.5555555555555556,
              "#d8576b"
             ],
             [
              0.6666666666666666,
              "#ed7953"
             ],
             [
              0.7777777777777778,
              "#fb9f3a"
             ],
             [
              0.8888888888888888,
              "#fdca26"
             ],
             [
              1,
              "#f0f921"
             ]
            ],
            "type": "contour"
           }
          ],
          "contourcarpet": [
           {
            "colorbar": {
             "outlinewidth": 0,
             "ticks": ""
            },
            "type": "contourcarpet"
           }
          ],
          "heatmap": [
           {
            "colorbar": {
             "outlinewidth": 0,
             "ticks": ""
            },
            "colorscale": [
             [
              0,
              "#0d0887"
             ],
             [
              0.1111111111111111,
              "#46039f"
             ],
             [
              0.2222222222222222,
              "#7201a8"
             ],
             [
              0.3333333333333333,
              "#9c179e"
             ],
             [
              0.4444444444444444,
              "#bd3786"
             ],
             [
              0.5555555555555556,
              "#d8576b"
             ],
             [
              0.6666666666666666,
              "#ed7953"
             ],
             [
              0.7777777777777778,
              "#fb9f3a"
             ],
             [
              0.8888888888888888,
              "#fdca26"
             ],
             [
              1,
              "#f0f921"
             ]
            ],
            "type": "heatmap"
           }
          ],
          "heatmapgl": [
           {
            "colorbar": {
             "outlinewidth": 0,
             "ticks": ""
            },
            "colorscale": [
             [
              0,
              "#0d0887"
             ],
             [
              0.1111111111111111,
              "#46039f"
             ],
             [
              0.2222222222222222,
              "#7201a8"
             ],
             [
              0.3333333333333333,
              "#9c179e"
             ],
             [
              0.4444444444444444,
              "#bd3786"
             ],
             [
              0.5555555555555556,
              "#d8576b"
             ],
             [
              0.6666666666666666,
              "#ed7953"
             ],
             [
              0.7777777777777778,
              "#fb9f3a"
             ],
             [
              0.8888888888888888,
              "#fdca26"
             ],
             [
              1,
              "#f0f921"
             ]
            ],
            "type": "heatmapgl"
           }
          ],
          "histogram": [
           {
            "marker": {
             "pattern": {
              "fillmode": "overlay",
              "size": 10,
              "solidity": 0.2
             }
            },
            "type": "histogram"
           }
          ],
          "histogram2d": [
           {
            "colorbar": {
             "outlinewidth": 0,
             "ticks": ""
            },
            "colorscale": [
             [
              0,
              "#0d0887"
             ],
             [
              0.1111111111111111,
              "#46039f"
             ],
             [
              0.2222222222222222,
              "#7201a8"
             ],
             [
              0.3333333333333333,
              "#9c179e"
             ],
             [
              0.4444444444444444,
              "#bd3786"
             ],
             [
              0.5555555555555556,
              "#d8576b"
             ],
             [
              0.6666666666666666,
              "#ed7953"
             ],
             [
              0.7777777777777778,
              "#fb9f3a"
             ],
             [
              0.8888888888888888,
              "#fdca26"
             ],
             [
              1,
              "#f0f921"
             ]
            ],
            "type": "histogram2d"
           }
          ],
          "histogram2dcontour": [
           {
            "colorbar": {
             "outlinewidth": 0,
             "ticks": ""
            },
            "colorscale": [
             [
              0,
              "#0d0887"
             ],
             [
              0.1111111111111111,
              "#46039f"
             ],
             [
              0.2222222222222222,
              "#7201a8"
             ],
             [
              0.3333333333333333,
              "#9c179e"
             ],
             [
              0.4444444444444444,
              "#bd3786"
             ],
             [
              0.5555555555555556,
              "#d8576b"
             ],
             [
              0.6666666666666666,
              "#ed7953"
             ],
             [
              0.7777777777777778,
              "#fb9f3a"
             ],
             [
              0.8888888888888888,
              "#fdca26"
             ],
             [
              1,
              "#f0f921"
             ]
            ],
            "type": "histogram2dcontour"
           }
          ],
          "mesh3d": [
           {
            "colorbar": {
             "outlinewidth": 0,
             "ticks": ""
            },
            "type": "mesh3d"
           }
          ],
          "parcoords": [
           {
            "line": {
             "colorbar": {
              "outlinewidth": 0,
              "ticks": ""
             }
            },
            "type": "parcoords"
           }
          ],
          "pie": [
           {
            "automargin": true,
            "type": "pie"
           }
          ],
          "scatter": [
           {
            "fillpattern": {
             "fillmode": "overlay",
             "size": 10,
             "solidity": 0.2
            },
            "type": "scatter"
           }
          ],
          "scatter3d": [
           {
            "line": {
             "colorbar": {
              "outlinewidth": 0,
              "ticks": ""
             }
            },
            "marker": {
             "colorbar": {
              "outlinewidth": 0,
              "ticks": ""
             }
            },
            "type": "scatter3d"
           }
          ],
          "scattercarpet": [
           {
            "marker": {
             "colorbar": {
              "outlinewidth": 0,
              "ticks": ""
             }
            },
            "type": "scattercarpet"
           }
          ],
          "scattergeo": [
           {
            "marker": {
             "colorbar": {
              "outlinewidth": 0,
              "ticks": ""
             }
            },
            "type": "scattergeo"
           }
          ],
          "scattergl": [
           {
            "marker": {
             "colorbar": {
              "outlinewidth": 0,
              "ticks": ""
             }
            },
            "type": "scattergl"
           }
          ],
          "scattermapbox": [
           {
            "marker": {
             "colorbar": {
              "outlinewidth": 0,
              "ticks": ""
             }
            },
            "type": "scattermapbox"
           }
          ],
          "scatterpolar": [
           {
            "marker": {
             "colorbar": {
              "outlinewidth": 0,
              "ticks": ""
             }
            },
            "type": "scatterpolar"
           }
          ],
          "scatterpolargl": [
           {
            "marker": {
             "colorbar": {
              "outlinewidth": 0,
              "ticks": ""
             }
            },
            "type": "scatterpolargl"
           }
          ],
          "scatterternary": [
           {
            "marker": {
             "colorbar": {
              "outlinewidth": 0,
              "ticks": ""
             }
            },
            "type": "scatterternary"
           }
          ],
          "surface": [
           {
            "colorbar": {
             "outlinewidth": 0,
             "ticks": ""
            },
            "colorscale": [
             [
              0,
              "#0d0887"
             ],
             [
              0.1111111111111111,
              "#46039f"
             ],
             [
              0.2222222222222222,
              "#7201a8"
             ],
             [
              0.3333333333333333,
              "#9c179e"
             ],
             [
              0.4444444444444444,
              "#bd3786"
             ],
             [
              0.5555555555555556,
              "#d8576b"
             ],
             [
              0.6666666666666666,
              "#ed7953"
             ],
             [
              0.7777777777777778,
              "#fb9f3a"
             ],
             [
              0.8888888888888888,
              "#fdca26"
             ],
             [
              1,
              "#f0f921"
             ]
            ],
            "type": "surface"
           }
          ],
          "table": [
           {
            "cells": {
             "fill": {
              "color": "#EBF0F8"
             },
             "line": {
              "color": "white"
             }
            },
            "header": {
             "fill": {
              "color": "#C8D4E3"
             },
             "line": {
              "color": "white"
             }
            },
            "type": "table"
           }
          ]
         },
         "layout": {
          "annotationdefaults": {
           "arrowcolor": "#2a3f5f",
           "arrowhead": 0,
           "arrowwidth": 1
          },
          "autotypenumbers": "strict",
          "coloraxis": {
           "colorbar": {
            "outlinewidth": 0,
            "ticks": ""
           }
          },
          "colorscale": {
           "diverging": [
            [
             0,
             "#8e0152"
            ],
            [
             0.1,
             "#c51b7d"
            ],
            [
             0.2,
             "#de77ae"
            ],
            [
             0.3,
             "#f1b6da"
            ],
            [
             0.4,
             "#fde0ef"
            ],
            [
             0.5,
             "#f7f7f7"
            ],
            [
             0.6,
             "#e6f5d0"
            ],
            [
             0.7,
             "#b8e186"
            ],
            [
             0.8,
             "#7fbc41"
            ],
            [
             0.9,
             "#4d9221"
            ],
            [
             1,
             "#276419"
            ]
           ],
           "sequential": [
            [
             0,
             "#0d0887"
            ],
            [
             0.1111111111111111,
             "#46039f"
            ],
            [
             0.2222222222222222,
             "#7201a8"
            ],
            [
             0.3333333333333333,
             "#9c179e"
            ],
            [
             0.4444444444444444,
             "#bd3786"
            ],
            [
             0.5555555555555556,
             "#d8576b"
            ],
            [
             0.6666666666666666,
             "#ed7953"
            ],
            [
             0.7777777777777778,
             "#fb9f3a"
            ],
            [
             0.8888888888888888,
             "#fdca26"
            ],
            [
             1,
             "#f0f921"
            ]
           ],
           "sequentialminus": [
            [
             0,
             "#0d0887"
            ],
            [
             0.1111111111111111,
             "#46039f"
            ],
            [
             0.2222222222222222,
             "#7201a8"
            ],
            [
             0.3333333333333333,
             "#9c179e"
            ],
            [
             0.4444444444444444,
             "#bd3786"
            ],
            [
             0.5555555555555556,
             "#d8576b"
            ],
            [
             0.6666666666666666,
             "#ed7953"
            ],
            [
             0.7777777777777778,
             "#fb9f3a"
            ],
            [
             0.8888888888888888,
             "#fdca26"
            ],
            [
             1,
             "#f0f921"
            ]
           ]
          },
          "colorway": [
           "#636efa",
           "#EF553B",
           "#00cc96",
           "#ab63fa",
           "#FFA15A",
           "#19d3f3",
           "#FF6692",
           "#B6E880",
           "#FF97FF",
           "#FECB52"
          ],
          "font": {
           "color": "#2a3f5f"
          },
          "geo": {
           "bgcolor": "white",
           "lakecolor": "white",
           "landcolor": "#E5ECF6",
           "showlakes": true,
           "showland": true,
           "subunitcolor": "white"
          },
          "hoverlabel": {
           "align": "left"
          },
          "hovermode": "closest",
          "mapbox": {
           "style": "light"
          },
          "paper_bgcolor": "white",
          "plot_bgcolor": "#E5ECF6",
          "polar": {
           "angularaxis": {
            "gridcolor": "white",
            "linecolor": "white",
            "ticks": ""
           },
           "bgcolor": "#E5ECF6",
           "radialaxis": {
            "gridcolor": "white",
            "linecolor": "white",
            "ticks": ""
           }
          },
          "scene": {
           "xaxis": {
            "backgroundcolor": "#E5ECF6",
            "gridcolor": "white",
            "gridwidth": 2,
            "linecolor": "white",
            "showbackground": true,
            "ticks": "",
            "zerolinecolor": "white"
           },
           "yaxis": {
            "backgroundcolor": "#E5ECF6",
            "gridcolor": "white",
            "gridwidth": 2,
            "linecolor": "white",
            "showbackground": true,
            "ticks": "",
            "zerolinecolor": "white"
           },
           "zaxis": {
            "backgroundcolor": "#E5ECF6",
            "gridcolor": "white",
            "gridwidth": 2,
            "linecolor": "white",
            "showbackground": true,
            "ticks": "",
            "zerolinecolor": "white"
           }
          },
          "shapedefaults": {
           "line": {
            "color": "#2a3f5f"
           }
          },
          "ternary": {
           "aaxis": {
            "gridcolor": "white",
            "linecolor": "white",
            "ticks": ""
           },
           "baxis": {
            "gridcolor": "white",
            "linecolor": "white",
            "ticks": ""
           },
           "bgcolor": "#E5ECF6",
           "caxis": {
            "gridcolor": "white",
            "linecolor": "white",
            "ticks": ""
           }
          },
          "title": {
           "x": 0.05
          },
          "xaxis": {
           "automargin": true,
           "gridcolor": "white",
           "linecolor": "white",
           "ticks": "",
           "title": {
            "standoff": 15
           },
           "zerolinecolor": "white",
           "zerolinewidth": 2
          },
          "yaxis": {
           "automargin": true,
           "gridcolor": "white",
           "linecolor": "white",
           "ticks": "",
           "title": {
            "standoff": 15
           },
           "zerolinecolor": "white",
           "zerolinewidth": 2
          }
         }
        },
        "title": {
         "text": "Environment score trend of the technology industry and sub-sectors"
        },
        "xaxis": {
         "anchor": "y",
         "domain": [
          0,
          1
         ],
         "dtick": 1,
         "title": {
          "text": "Year"
         }
        },
        "yaxis": {
         "anchor": "x",
         "domain": [
          0,
          1
         ],
         "title": {
          "text": "predicted_score"
         }
        }
       }
      }
     },
     "metadata": {},
     "output_type": "display_data"
    }
   ],
   "source": [
    "fig_esg_trend = ESG_trend_plot(esg_industry_plot_data)\n",
    "fig_esg_trend.show()"
   ]
  },
  {
   "cell_type": "markdown",
   "metadata": {},
   "source": [
    "### Company Scoring"
   ]
  },
  {
   "cell_type": "code",
   "execution_count": 11,
   "metadata": {},
   "outputs": [],
   "source": [
    "company_file_path = '../data/Singtel_ESG_test.xlsx'\n",
    "company_data = pd.read_excel(company_file_path)"
   ]
  },
  {
   "cell_type": "code",
   "execution_count": 12,
   "metadata": {},
   "outputs": [
    {
     "data": {
      "text/html": [
       "<div>\n",
       "<style scoped>\n",
       "    .dataframe tbody tr th:only-of-type {\n",
       "        vertical-align: middle;\n",
       "    }\n",
       "\n",
       "    .dataframe tbody tr th {\n",
       "        vertical-align: top;\n",
       "    }\n",
       "\n",
       "    .dataframe thead th {\n",
       "        text-align: right;\n",
       "    }\n",
       "</style>\n",
       "<table border=\"1\" class=\"dataframe\">\n",
       "  <thead>\n",
       "    <tr style=\"text-align: right;\">\n",
       "      <th></th>\n",
       "      <th>Company Name</th>\n",
       "      <th>Year</th>\n",
       "      <th>GHG Emissions (Scope 1) (tCO2e)</th>\n",
       "      <th>GHG Emissions (Scope 2) (tCO2e)</th>\n",
       "      <th>GHG Emissions (Scope 3) (tCO2e)</th>\n",
       "      <th>GHG Emissions (Total) (tCO2e)</th>\n",
       "      <th>Total Energy Consumption (MWhs)</th>\n",
       "      <th>Total Water Consumption (ML)</th>\n",
       "      <th>Total Waste Generated (t)</th>\n",
       "      <th>Current Employees by Gender (Female %)</th>\n",
       "      <th>...</th>\n",
       "      <th>Total Number of Employees</th>\n",
       "      <th>Average Training Hours per Employee</th>\n",
       "      <th>Fatalities</th>\n",
       "      <th>High-consequence injuries</th>\n",
       "      <th>Recordable injuries</th>\n",
       "      <th>Recordable work-related ill health cases</th>\n",
       "      <th>Board Independence (%)</th>\n",
       "      <th>Women on the Board (%)</th>\n",
       "      <th>Women in Management Team (%)</th>\n",
       "      <th>Anti-Corruption Training for Employees (%)</th>\n",
       "    </tr>\n",
       "  </thead>\n",
       "  <tbody>\n",
       "    <tr>\n",
       "      <th>0</th>\n",
       "      <td>Singtel</td>\n",
       "      <td>2017</td>\n",
       "      <td>NaN</td>\n",
       "      <td>NaN</td>\n",
       "      <td>NaN</td>\n",
       "      <td>NaN</td>\n",
       "      <td>NaN</td>\n",
       "      <td>NaN</td>\n",
       "      <td>NaN</td>\n",
       "      <td>37.11</td>\n",
       "      <td>...</td>\n",
       "      <td>NaN</td>\n",
       "      <td>30.5</td>\n",
       "      <td>NaN</td>\n",
       "      <td>NaN</td>\n",
       "      <td>NaN</td>\n",
       "      <td>NaN</td>\n",
       "      <td>NaN</td>\n",
       "      <td>NaN</td>\n",
       "      <td>NaN</td>\n",
       "      <td>NaN</td>\n",
       "    </tr>\n",
       "    <tr>\n",
       "      <th>1</th>\n",
       "      <td>Singtel</td>\n",
       "      <td>2018</td>\n",
       "      <td>4085.0</td>\n",
       "      <td>164470.0</td>\n",
       "      <td>6554.00</td>\n",
       "      <td>164629.0</td>\n",
       "      <td>3.875281e+05</td>\n",
       "      <td>752.207</td>\n",
       "      <td>7538.0</td>\n",
       "      <td>42.00</td>\n",
       "      <td>...</td>\n",
       "      <td>13095.0</td>\n",
       "      <td>67.0</td>\n",
       "      <td>NaN</td>\n",
       "      <td>NaN</td>\n",
       "      <td>NaN</td>\n",
       "      <td>NaN</td>\n",
       "      <td>NaN</td>\n",
       "      <td>NaN</td>\n",
       "      <td>NaN</td>\n",
       "      <td>NaN</td>\n",
       "    </tr>\n",
       "    <tr>\n",
       "      <th>2</th>\n",
       "      <td>Singtel</td>\n",
       "      <td>2019</td>\n",
       "      <td>8000.0</td>\n",
       "      <td>154152.0</td>\n",
       "      <td>6392.00</td>\n",
       "      <td>164629.0</td>\n",
       "      <td>1.347094e+06</td>\n",
       "      <td>7532.385</td>\n",
       "      <td>7658.0</td>\n",
       "      <td>45.00</td>\n",
       "      <td>...</td>\n",
       "      <td>12589.0</td>\n",
       "      <td>68.0</td>\n",
       "      <td>0.0</td>\n",
       "      <td>NaN</td>\n",
       "      <td>NaN</td>\n",
       "      <td>2.0</td>\n",
       "      <td>70.0</td>\n",
       "      <td>NaN</td>\n",
       "      <td>30.0</td>\n",
       "      <td>NaN</td>\n",
       "    </tr>\n",
       "    <tr>\n",
       "      <th>3</th>\n",
       "      <td>Singtel</td>\n",
       "      <td>2020</td>\n",
       "      <td>95574.0</td>\n",
       "      <td>343383.0</td>\n",
       "      <td>3568343.00</td>\n",
       "      <td>165331.0</td>\n",
       "      <td>1.466802e+06</td>\n",
       "      <td>30000.000</td>\n",
       "      <td>7658.0</td>\n",
       "      <td>45.00</td>\n",
       "      <td>...</td>\n",
       "      <td>24000.0</td>\n",
       "      <td>75.0</td>\n",
       "      <td>5.0</td>\n",
       "      <td>12.00</td>\n",
       "      <td>50.0</td>\n",
       "      <td>15.0</td>\n",
       "      <td>85.0</td>\n",
       "      <td>35.0</td>\n",
       "      <td>35.0</td>\n",
       "      <td>1000.0</td>\n",
       "    </tr>\n",
       "    <tr>\n",
       "      <th>4</th>\n",
       "      <td>Singtel</td>\n",
       "      <td>2021</td>\n",
       "      <td>10500.0</td>\n",
       "      <td>540699.0</td>\n",
       "      <td>9050538.00</td>\n",
       "      <td>9586782.0</td>\n",
       "      <td>1.602698e+06</td>\n",
       "      <td>3000.000</td>\n",
       "      <td>4150.0</td>\n",
       "      <td>45.00</td>\n",
       "      <td>...</td>\n",
       "      <td>12391.0</td>\n",
       "      <td>48.3</td>\n",
       "      <td>0.0</td>\n",
       "      <td>0.04</td>\n",
       "      <td>15.0</td>\n",
       "      <td>2.0</td>\n",
       "      <td>75.0</td>\n",
       "      <td>30.0</td>\n",
       "      <td>40.0</td>\n",
       "      <td>NaN</td>\n",
       "    </tr>\n",
       "    <tr>\n",
       "      <th>5</th>\n",
       "      <td>Singtel</td>\n",
       "      <td>2022</td>\n",
       "      <td>12000.0</td>\n",
       "      <td>534233.0</td>\n",
       "      <td>8146316.00</td>\n",
       "      <td>8641260.0</td>\n",
       "      <td>8.200154e+05</td>\n",
       "      <td>15000.000</td>\n",
       "      <td>5000.0</td>\n",
       "      <td>45.00</td>\n",
       "      <td>...</td>\n",
       "      <td>19464.0</td>\n",
       "      <td>56.3</td>\n",
       "      <td>0.0</td>\n",
       "      <td>0.00</td>\n",
       "      <td>50.0</td>\n",
       "      <td>2.0</td>\n",
       "      <td>50.0</td>\n",
       "      <td>30.0</td>\n",
       "      <td>35.0</td>\n",
       "      <td>NaN</td>\n",
       "    </tr>\n",
       "    <tr>\n",
       "      <th>6</th>\n",
       "      <td>Singtel</td>\n",
       "      <td>2023</td>\n",
       "      <td>500000.0</td>\n",
       "      <td>700000.0</td>\n",
       "      <td>3836769.22</td>\n",
       "      <td>4277369.0</td>\n",
       "      <td>8.088090e+05</td>\n",
       "      <td>10000.000</td>\n",
       "      <td>5000.0</td>\n",
       "      <td>45.00</td>\n",
       "      <td>...</td>\n",
       "      <td>20532.0</td>\n",
       "      <td>26100000.0</td>\n",
       "      <td>1.0</td>\n",
       "      <td>3.00</td>\n",
       "      <td>15.0</td>\n",
       "      <td>3.0</td>\n",
       "      <td>75.0</td>\n",
       "      <td>46.0</td>\n",
       "      <td>45.0</td>\n",
       "      <td>0.0</td>\n",
       "    </tr>\n",
       "    <tr>\n",
       "      <th>7</th>\n",
       "      <td>Singtel</td>\n",
       "      <td>2024</td>\n",
       "      <td>409120.0</td>\n",
       "      <td>2962121.0</td>\n",
       "      <td>2553001.37</td>\n",
       "      <td>2962121.0</td>\n",
       "      <td>8.203112e+05</td>\n",
       "      <td>698.819</td>\n",
       "      <td>12692.0</td>\n",
       "      <td>33.37</td>\n",
       "      <td>...</td>\n",
       "      <td>19944.0</td>\n",
       "      <td>51.2</td>\n",
       "      <td>0.0</td>\n",
       "      <td>NaN</td>\n",
       "      <td>NaN</td>\n",
       "      <td>NaN</td>\n",
       "      <td>NaN</td>\n",
       "      <td>NaN</td>\n",
       "      <td>31.0</td>\n",
       "      <td>NaN</td>\n",
       "    </tr>\n",
       "    <tr>\n",
       "      <th>8</th>\n",
       "      <td>Singtel</td>\n",
       "      <td>2025</td>\n",
       "      <td>NaN</td>\n",
       "      <td>NaN</td>\n",
       "      <td>NaN</td>\n",
       "      <td>NaN</td>\n",
       "      <td>NaN</td>\n",
       "      <td>49.500</td>\n",
       "      <td>NaN</td>\n",
       "      <td>NaN</td>\n",
       "      <td>...</td>\n",
       "      <td>NaN</td>\n",
       "      <td>NaN</td>\n",
       "      <td>NaN</td>\n",
       "      <td>NaN</td>\n",
       "      <td>NaN</td>\n",
       "      <td>NaN</td>\n",
       "      <td>NaN</td>\n",
       "      <td>NaN</td>\n",
       "      <td>NaN</td>\n",
       "      <td>NaN</td>\n",
       "    </tr>\n",
       "  </tbody>\n",
       "</table>\n",
       "<p>9 rows × 22 columns</p>\n",
       "</div>"
      ],
      "text/plain": [
       "  Company Name  Year  GHG Emissions (Scope 1) (tCO2e)  \\\n",
       "0      Singtel  2017                              NaN   \n",
       "1      Singtel  2018                           4085.0   \n",
       "2      Singtel  2019                           8000.0   \n",
       "3      Singtel  2020                          95574.0   \n",
       "4      Singtel  2021                          10500.0   \n",
       "5      Singtel  2022                          12000.0   \n",
       "6      Singtel  2023                         500000.0   \n",
       "7      Singtel  2024                         409120.0   \n",
       "8      Singtel  2025                              NaN   \n",
       "\n",
       "   GHG Emissions (Scope 2) (tCO2e)  GHG Emissions (Scope 3) (tCO2e)  \\\n",
       "0                              NaN                              NaN   \n",
       "1                         164470.0                          6554.00   \n",
       "2                         154152.0                          6392.00   \n",
       "3                         343383.0                       3568343.00   \n",
       "4                         540699.0                       9050538.00   \n",
       "5                         534233.0                       8146316.00   \n",
       "6                         700000.0                       3836769.22   \n",
       "7                        2962121.0                       2553001.37   \n",
       "8                              NaN                              NaN   \n",
       "\n",
       "   GHG Emissions (Total) (tCO2e)  Total Energy Consumption (MWhs)  \\\n",
       "0                            NaN                              NaN   \n",
       "1                       164629.0                     3.875281e+05   \n",
       "2                       164629.0                     1.347094e+06   \n",
       "3                       165331.0                     1.466802e+06   \n",
       "4                      9586782.0                     1.602698e+06   \n",
       "5                      8641260.0                     8.200154e+05   \n",
       "6                      4277369.0                     8.088090e+05   \n",
       "7                      2962121.0                     8.203112e+05   \n",
       "8                            NaN                              NaN   \n",
       "\n",
       "   Total Water Consumption (ML)  Total Waste Generated (t)  \\\n",
       "0                           NaN                        NaN   \n",
       "1                       752.207                     7538.0   \n",
       "2                      7532.385                     7658.0   \n",
       "3                     30000.000                     7658.0   \n",
       "4                      3000.000                     4150.0   \n",
       "5                     15000.000                     5000.0   \n",
       "6                     10000.000                     5000.0   \n",
       "7                       698.819                    12692.0   \n",
       "8                        49.500                        NaN   \n",
       "\n",
       "   Current Employees by Gender (Female %)  ...  Total Number of Employees  \\\n",
       "0                                   37.11  ...                        NaN   \n",
       "1                                   42.00  ...                    13095.0   \n",
       "2                                   45.00  ...                    12589.0   \n",
       "3                                   45.00  ...                    24000.0   \n",
       "4                                   45.00  ...                    12391.0   \n",
       "5                                   45.00  ...                    19464.0   \n",
       "6                                   45.00  ...                    20532.0   \n",
       "7                                   33.37  ...                    19944.0   \n",
       "8                                     NaN  ...                        NaN   \n",
       "\n",
       "   Average Training Hours per Employee  Fatalities  High-consequence injuries  \\\n",
       "0                                 30.5         NaN                        NaN   \n",
       "1                                 67.0         NaN                        NaN   \n",
       "2                                 68.0         0.0                        NaN   \n",
       "3                                 75.0         5.0                      12.00   \n",
       "4                                 48.3         0.0                       0.04   \n",
       "5                                 56.3         0.0                       0.00   \n",
       "6                           26100000.0         1.0                       3.00   \n",
       "7                                 51.2         0.0                        NaN   \n",
       "8                                  NaN         NaN                        NaN   \n",
       "\n",
       "   Recordable injuries  Recordable work-related ill health cases  \\\n",
       "0                  NaN                                       NaN   \n",
       "1                  NaN                                       NaN   \n",
       "2                  NaN                                       2.0   \n",
       "3                 50.0                                      15.0   \n",
       "4                 15.0                                       2.0   \n",
       "5                 50.0                                       2.0   \n",
       "6                 15.0                                       3.0   \n",
       "7                  NaN                                       NaN   \n",
       "8                  NaN                                       NaN   \n",
       "\n",
       "   Board Independence (%)  Women on the Board (%)  \\\n",
       "0                     NaN                     NaN   \n",
       "1                     NaN                     NaN   \n",
       "2                    70.0                     NaN   \n",
       "3                    85.0                    35.0   \n",
       "4                    75.0                    30.0   \n",
       "5                    50.0                    30.0   \n",
       "6                    75.0                    46.0   \n",
       "7                     NaN                     NaN   \n",
       "8                     NaN                     NaN   \n",
       "\n",
       "   Women in Management Team (%)  Anti-Corruption Training for Employees (%)  \n",
       "0                           NaN                                         NaN  \n",
       "1                           NaN                                         NaN  \n",
       "2                          30.0                                         NaN  \n",
       "3                          35.0                                      1000.0  \n",
       "4                          40.0                                         NaN  \n",
       "5                          35.0                                         NaN  \n",
       "6                          45.0                                         0.0  \n",
       "7                          31.0                                         NaN  \n",
       "8                           NaN                                         NaN  \n",
       "\n",
       "[9 rows x 22 columns]"
      ]
     },
     "execution_count": 12,
     "metadata": {},
     "output_type": "execute_result"
    }
   ],
   "source": [
    "company_data"
   ]
  },
  {
   "cell_type": "code",
   "execution_count": 17,
   "metadata": {},
   "outputs": [
    {
     "data": {
      "text/html": [
       "<div>\n",
       "<style scoped>\n",
       "    .dataframe tbody tr th:only-of-type {\n",
       "        vertical-align: middle;\n",
       "    }\n",
       "\n",
       "    .dataframe tbody tr th {\n",
       "        vertical-align: top;\n",
       "    }\n",
       "\n",
       "    .dataframe thead th {\n",
       "        text-align: right;\n",
       "    }\n",
       "</style>\n",
       "<table border=\"1\" class=\"dataframe\">\n",
       "  <thead>\n",
       "    <tr style=\"text-align: right;\">\n",
       "      <th></th>\n",
       "      <th>GHG Emissions (Scope 1) (tCO2e)</th>\n",
       "      <th>GHG Emissions (Scope 2) (tCO2e)</th>\n",
       "      <th>GHG Emissions (Scope 3) (tCO2e)</th>\n",
       "      <th>GHG Emissions (Total) (tCO2e)</th>\n",
       "      <th>Total Energy Consumption (MWhs)</th>\n",
       "      <th>Total Water Consumption (ML)</th>\n",
       "      <th>Total Waste Generated (t)</th>\n",
       "      <th>Current Employees by Gender (Female %)</th>\n",
       "      <th>New Hires and Turnover by Gender (Female %)</th>\n",
       "      <th>Total Turnover (%)</th>\n",
       "      <th>Total Number of Employees</th>\n",
       "      <th>Average Training Hours per Employee</th>\n",
       "      <th>Fatalities</th>\n",
       "      <th>High-consequence injuries</th>\n",
       "      <th>Recordable injuries</th>\n",
       "      <th>Recordable work-related ill health cases</th>\n",
       "      <th>Board Independence (%)</th>\n",
       "      <th>Women on the Board (%)</th>\n",
       "      <th>Women in Management Team (%)</th>\n",
       "      <th>Anti-Corruption Training for Employees (%)</th>\n",
       "    </tr>\n",
       "  </thead>\n",
       "  <tbody>\n",
       "    <tr>\n",
       "      <th>0</th>\n",
       "      <td>NaN</td>\n",
       "      <td>NaN</td>\n",
       "      <td>NaN</td>\n",
       "      <td>NaN</td>\n",
       "      <td>NaN</td>\n",
       "      <td>NaN</td>\n",
       "      <td>NaN</td>\n",
       "      <td>37.11</td>\n",
       "      <td>NaN</td>\n",
       "      <td>16.4</td>\n",
       "      <td>NaN</td>\n",
       "      <td>30.5</td>\n",
       "      <td>NaN</td>\n",
       "      <td>NaN</td>\n",
       "      <td>NaN</td>\n",
       "      <td>NaN</td>\n",
       "      <td>NaN</td>\n",
       "      <td>NaN</td>\n",
       "      <td>NaN</td>\n",
       "      <td>NaN</td>\n",
       "    </tr>\n",
       "    <tr>\n",
       "      <th>1</th>\n",
       "      <td>4085.0</td>\n",
       "      <td>164470.0</td>\n",
       "      <td>6554.00</td>\n",
       "      <td>164629.0</td>\n",
       "      <td>3.875281e+05</td>\n",
       "      <td>752.207</td>\n",
       "      <td>7538.0</td>\n",
       "      <td>42.00</td>\n",
       "      <td>NaN</td>\n",
       "      <td>17.1</td>\n",
       "      <td>13095.0</td>\n",
       "      <td>67.0</td>\n",
       "      <td>NaN</td>\n",
       "      <td>NaN</td>\n",
       "      <td>NaN</td>\n",
       "      <td>NaN</td>\n",
       "      <td>NaN</td>\n",
       "      <td>NaN</td>\n",
       "      <td>NaN</td>\n",
       "      <td>NaN</td>\n",
       "    </tr>\n",
       "    <tr>\n",
       "      <th>2</th>\n",
       "      <td>8000.0</td>\n",
       "      <td>154152.0</td>\n",
       "      <td>6392.00</td>\n",
       "      <td>164629.0</td>\n",
       "      <td>1.347094e+06</td>\n",
       "      <td>7532.385</td>\n",
       "      <td>7658.0</td>\n",
       "      <td>45.00</td>\n",
       "      <td>5.9</td>\n",
       "      <td>22.0</td>\n",
       "      <td>12589.0</td>\n",
       "      <td>68.0</td>\n",
       "      <td>0.0</td>\n",
       "      <td>NaN</td>\n",
       "      <td>NaN</td>\n",
       "      <td>2.0</td>\n",
       "      <td>70.0</td>\n",
       "      <td>NaN</td>\n",
       "      <td>30.0</td>\n",
       "      <td>NaN</td>\n",
       "    </tr>\n",
       "    <tr>\n",
       "      <th>3</th>\n",
       "      <td>95574.0</td>\n",
       "      <td>343383.0</td>\n",
       "      <td>3568343.00</td>\n",
       "      <td>165331.0</td>\n",
       "      <td>1.466802e+06</td>\n",
       "      <td>30000.000</td>\n",
       "      <td>7658.0</td>\n",
       "      <td>45.00</td>\n",
       "      <td>782.0</td>\n",
       "      <td>20.0</td>\n",
       "      <td>24000.0</td>\n",
       "      <td>75.0</td>\n",
       "      <td>5.0</td>\n",
       "      <td>12.00</td>\n",
       "      <td>50.0</td>\n",
       "      <td>15.0</td>\n",
       "      <td>85.0</td>\n",
       "      <td>35.0</td>\n",
       "      <td>35.0</td>\n",
       "      <td>1000.0</td>\n",
       "    </tr>\n",
       "    <tr>\n",
       "      <th>4</th>\n",
       "      <td>10500.0</td>\n",
       "      <td>540699.0</td>\n",
       "      <td>9050538.00</td>\n",
       "      <td>9586782.0</td>\n",
       "      <td>1.602698e+06</td>\n",
       "      <td>3000.000</td>\n",
       "      <td>4150.0</td>\n",
       "      <td>45.00</td>\n",
       "      <td>439.0</td>\n",
       "      <td>13.2</td>\n",
       "      <td>12391.0</td>\n",
       "      <td>48.3</td>\n",
       "      <td>0.0</td>\n",
       "      <td>0.04</td>\n",
       "      <td>15.0</td>\n",
       "      <td>2.0</td>\n",
       "      <td>75.0</td>\n",
       "      <td>30.0</td>\n",
       "      <td>40.0</td>\n",
       "      <td>NaN</td>\n",
       "    </tr>\n",
       "    <tr>\n",
       "      <th>5</th>\n",
       "      <td>12000.0</td>\n",
       "      <td>534233.0</td>\n",
       "      <td>8146316.00</td>\n",
       "      <td>8641260.0</td>\n",
       "      <td>8.200154e+05</td>\n",
       "      <td>15000.000</td>\n",
       "      <td>5000.0</td>\n",
       "      <td>45.00</td>\n",
       "      <td>6.7</td>\n",
       "      <td>19.9</td>\n",
       "      <td>19464.0</td>\n",
       "      <td>56.3</td>\n",
       "      <td>0.0</td>\n",
       "      <td>0.00</td>\n",
       "      <td>50.0</td>\n",
       "      <td>2.0</td>\n",
       "      <td>50.0</td>\n",
       "      <td>30.0</td>\n",
       "      <td>35.0</td>\n",
       "      <td>NaN</td>\n",
       "    </tr>\n",
       "    <tr>\n",
       "      <th>6</th>\n",
       "      <td>500000.0</td>\n",
       "      <td>700000.0</td>\n",
       "      <td>3836769.22</td>\n",
       "      <td>4277369.0</td>\n",
       "      <td>8.088090e+05</td>\n",
       "      <td>10000.000</td>\n",
       "      <td>5000.0</td>\n",
       "      <td>45.00</td>\n",
       "      <td>7.7</td>\n",
       "      <td>19.1</td>\n",
       "      <td>20532.0</td>\n",
       "      <td>26100000.0</td>\n",
       "      <td>1.0</td>\n",
       "      <td>3.00</td>\n",
       "      <td>15.0</td>\n",
       "      <td>3.0</td>\n",
       "      <td>75.0</td>\n",
       "      <td>46.0</td>\n",
       "      <td>45.0</td>\n",
       "      <td>0.0</td>\n",
       "    </tr>\n",
       "    <tr>\n",
       "      <th>7</th>\n",
       "      <td>409120.0</td>\n",
       "      <td>2962121.0</td>\n",
       "      <td>2553001.37</td>\n",
       "      <td>2962121.0</td>\n",
       "      <td>8.203112e+05</td>\n",
       "      <td>698.819</td>\n",
       "      <td>12692.0</td>\n",
       "      <td>33.37</td>\n",
       "      <td>5.1</td>\n",
       "      <td>14.3</td>\n",
       "      <td>19944.0</td>\n",
       "      <td>51.2</td>\n",
       "      <td>0.0</td>\n",
       "      <td>NaN</td>\n",
       "      <td>NaN</td>\n",
       "      <td>NaN</td>\n",
       "      <td>NaN</td>\n",
       "      <td>NaN</td>\n",
       "      <td>31.0</td>\n",
       "      <td>NaN</td>\n",
       "    </tr>\n",
       "    <tr>\n",
       "      <th>8</th>\n",
       "      <td>NaN</td>\n",
       "      <td>NaN</td>\n",
       "      <td>NaN</td>\n",
       "      <td>NaN</td>\n",
       "      <td>NaN</td>\n",
       "      <td>49.500</td>\n",
       "      <td>NaN</td>\n",
       "      <td>NaN</td>\n",
       "      <td>NaN</td>\n",
       "      <td>NaN</td>\n",
       "      <td>NaN</td>\n",
       "      <td>NaN</td>\n",
       "      <td>NaN</td>\n",
       "      <td>NaN</td>\n",
       "      <td>NaN</td>\n",
       "      <td>NaN</td>\n",
       "      <td>NaN</td>\n",
       "      <td>NaN</td>\n",
       "      <td>NaN</td>\n",
       "      <td>NaN</td>\n",
       "    </tr>\n",
       "  </tbody>\n",
       "</table>\n",
       "</div>"
      ],
      "text/plain": [
       "   GHG Emissions (Scope 1) (tCO2e)  GHG Emissions (Scope 2) (tCO2e)  \\\n",
       "0                              NaN                              NaN   \n",
       "1                           4085.0                         164470.0   \n",
       "2                           8000.0                         154152.0   \n",
       "3                          95574.0                         343383.0   \n",
       "4                          10500.0                         540699.0   \n",
       "5                          12000.0                         534233.0   \n",
       "6                         500000.0                         700000.0   \n",
       "7                         409120.0                        2962121.0   \n",
       "8                              NaN                              NaN   \n",
       "\n",
       "   GHG Emissions (Scope 3) (tCO2e)  GHG Emissions (Total) (tCO2e)  \\\n",
       "0                              NaN                            NaN   \n",
       "1                          6554.00                       164629.0   \n",
       "2                          6392.00                       164629.0   \n",
       "3                       3568343.00                       165331.0   \n",
       "4                       9050538.00                      9586782.0   \n",
       "5                       8146316.00                      8641260.0   \n",
       "6                       3836769.22                      4277369.0   \n",
       "7                       2553001.37                      2962121.0   \n",
       "8                              NaN                            NaN   \n",
       "\n",
       "   Total Energy Consumption (MWhs)  Total Water Consumption (ML)  \\\n",
       "0                              NaN                           NaN   \n",
       "1                     3.875281e+05                       752.207   \n",
       "2                     1.347094e+06                      7532.385   \n",
       "3                     1.466802e+06                     30000.000   \n",
       "4                     1.602698e+06                      3000.000   \n",
       "5                     8.200154e+05                     15000.000   \n",
       "6                     8.088090e+05                     10000.000   \n",
       "7                     8.203112e+05                       698.819   \n",
       "8                              NaN                        49.500   \n",
       "\n",
       "   Total Waste Generated (t)  Current Employees by Gender (Female %)  \\\n",
       "0                        NaN                                   37.11   \n",
       "1                     7538.0                                   42.00   \n",
       "2                     7658.0                                   45.00   \n",
       "3                     7658.0                                   45.00   \n",
       "4                     4150.0                                   45.00   \n",
       "5                     5000.0                                   45.00   \n",
       "6                     5000.0                                   45.00   \n",
       "7                    12692.0                                   33.37   \n",
       "8                        NaN                                     NaN   \n",
       "\n",
       "   New Hires and Turnover by Gender (Female %)  Total Turnover (%)  \\\n",
       "0                                          NaN                16.4   \n",
       "1                                          NaN                17.1   \n",
       "2                                          5.9                22.0   \n",
       "3                                        782.0                20.0   \n",
       "4                                        439.0                13.2   \n",
       "5                                          6.7                19.9   \n",
       "6                                          7.7                19.1   \n",
       "7                                          5.1                14.3   \n",
       "8                                          NaN                 NaN   \n",
       "\n",
       "   Total Number of Employees  Average Training Hours per Employee  Fatalities  \\\n",
       "0                        NaN                                 30.5         NaN   \n",
       "1                    13095.0                                 67.0         NaN   \n",
       "2                    12589.0                                 68.0         0.0   \n",
       "3                    24000.0                                 75.0         5.0   \n",
       "4                    12391.0                                 48.3         0.0   \n",
       "5                    19464.0                                 56.3         0.0   \n",
       "6                    20532.0                           26100000.0         1.0   \n",
       "7                    19944.0                                 51.2         0.0   \n",
       "8                        NaN                                  NaN         NaN   \n",
       "\n",
       "   High-consequence injuries  Recordable injuries  \\\n",
       "0                        NaN                  NaN   \n",
       "1                        NaN                  NaN   \n",
       "2                        NaN                  NaN   \n",
       "3                      12.00                 50.0   \n",
       "4                       0.04                 15.0   \n",
       "5                       0.00                 50.0   \n",
       "6                       3.00                 15.0   \n",
       "7                        NaN                  NaN   \n",
       "8                        NaN                  NaN   \n",
       "\n",
       "   Recordable work-related ill health cases  Board Independence (%)  \\\n",
       "0                                       NaN                     NaN   \n",
       "1                                       NaN                     NaN   \n",
       "2                                       2.0                    70.0   \n",
       "3                                      15.0                    85.0   \n",
       "4                                       2.0                    75.0   \n",
       "5                                       2.0                    50.0   \n",
       "6                                       3.0                    75.0   \n",
       "7                                       NaN                     NaN   \n",
       "8                                       NaN                     NaN   \n",
       "\n",
       "   Women on the Board (%)  Women in Management Team (%)  \\\n",
       "0                     NaN                           NaN   \n",
       "1                     NaN                           NaN   \n",
       "2                     NaN                          30.0   \n",
       "3                    35.0                          35.0   \n",
       "4                    30.0                          40.0   \n",
       "5                    30.0                          35.0   \n",
       "6                    46.0                          45.0   \n",
       "7                     NaN                          31.0   \n",
       "8                     NaN                           NaN   \n",
       "\n",
       "   Anti-Corruption Training for Employees (%)  \n",
       "0                                         NaN  \n",
       "1                                         NaN  \n",
       "2                                         NaN  \n",
       "3                                      1000.0  \n",
       "4                                         NaN  \n",
       "5                                         NaN  \n",
       "6                                         0.0  \n",
       "7                                         NaN  \n",
       "8                                         NaN  "
      ]
     },
     "execution_count": 17,
     "metadata": {},
     "output_type": "execute_result"
    }
   ],
   "source": [
    "company_data.iloc[:,2:]"
   ]
  },
  {
   "cell_type": "code",
   "execution_count": 68,
   "metadata": {},
   "outputs": [],
   "source": [
    "sub_sectors = {'Software and Services':['Captii','CSE Global','V2Y Corp','SinoCloud Grp'],\n",
    "               'Technology Hardware and Equipment':['Addvalue Tech','Nanofilm','Venture'],\n",
    "               'Semiconductors and Semiconductor Equipment':['AdvancedSystems','AEM SGD','Asia Vets','ASTI','UMS'],\n",
    "               'Information Technology':['Audience'],\n",
    "               'Engineering Services':['ST Engineering','Singtel','GSS Energy']}"
   ]
  },
  {
   "cell_type": "code",
   "execution_count": null,
   "metadata": {},
   "outputs": [],
   "source": [
    "def company_scoring(company_data, kmeans, esg_cluster_centers, esg_feature_weights, esg_intercept_b, sub_sectors, esg_industry_plot_data, ESG_score_trend):\n",
    "    company_data = company_data[company_data['Year'].between(2020, 2024)]\n",
    "    company_info = company_data[['Company Name', 'Year']]\n",
    "    company_name = str(company_data.iloc[0]['Company Name'])\n",
    "    company_numeric = company_data.drop(columns=['Company Name', 'Year','Recordable work-related ill health cases', \n",
    "                                                 'Average Training Hours per Employee', 'Total Energy Consumption (MWhs)',\n",
    "                                                 'Women on the Board (%)', 'Current Employees by Gender (Female %)', \n",
    "                                                 'Women in Management Team (%)', 'Fatalities', 'Board Independence (%)'])\n",
    "    \n",
    "    # Handle missing values(Implement techniques to handle missing data and ensure fair comparisons across companies.)\n",
    "    imputer = SimpleImputer(strategy='median')\n",
    "    company_data = pd.DataFrame(imputer.fit_transform(company_numeric), columns=company_numeric.columns)\n",
    "    \n",
    "    # Standardize Data\n",
    "    scaler = StandardScaler()\n",
    "    company_scaled = pd.DataFrame(scaler.fit_transform(company_data), columns=company_numeric.columns)\n",
    "    \n",
    "    # Use KMeans to set Performance Category\n",
    "    # Use trained KMeans on input company\n",
    "    company_scaled_data = company_scaled.values  \n",
    "    \n",
    "    company_clusters = kmeans.predict(company_scaled_data)\n",
    "    company_data['Cluster'] = company_clusters\n",
    "    \n",
    "    # Set Performance Category based on clusters\n",
    "    def categorize_performance_by_cluster(cluster):\n",
    "        if cluster == esg_cluster_centers['Cluster'].idxmax():\n",
    "            return 'Good'\n",
    "        elif cluster == esg_cluster_centers['Cluster'].idxmin():\n",
    "            return 'Poor'\n",
    "        else:\n",
    "            return 'Average'\n",
    "    \n",
    "    company_data['Performance Category'] = company_data['Cluster'].apply(categorize_performance_by_cluster)\n",
    "    \n",
    "    esg_weights = np.array(esg_feature_weights)\n",
    "    \n",
    "    def calculate_score(features, weights, intercept):\n",
    "        return np.dot(features, weights) + intercept\n",
    "    \n",
    "    company_scores = company_scaled.apply(lambda row: calculate_score(row, esg_weights, esg_intercept_b), axis=1)\n",
    "    company_data['Calculated Score'] = company_scores\n",
    "    company_data = pd.concat([company_info.reset_index(drop=True), company_data], axis=1)\n",
    "    \n",
    "    company_score = company_data[['Year', 'Calculated Score']]\n",
    "    company_score.rename(columns = {'Calculated Score': company_name}, inplace = True)\n",
    "    \n",
    "    # Loop through each company and check if target_value is in its list of industries using isin\n",
    "    for sub_sector in sub_sectors:\n",
    "        if pd.Series(sub_sectors[sub_sector]).isin([company_name]).any():\n",
    "            company_sub_sector = sub_sector\n",
    "    \n",
    "    sub_sector_select = esg_industry_plot_data[esg_industry_plot_data[\"sub-sectors\"] == company_sub_sector]\n",
    "    sub_sector_select = sub_sector_select.drop(columns = {'sub-sectors'})\n",
    "    sub_sector_select.rename(columns = {'predicted_score':company_sub_sector}, inplace = True)\n",
    "    \n",
    "    compare_data = ESG_score_trend.merge(company_score, on = 'Year').merge(sub_sector_select, on = 'Year')\n",
    "    compare_data = compare_data.melt(id_vars = [\"Year\"],\n",
    "                                     var_name = \"Type\", value_name = \"predicted_score\")\n",
    "    \n",
    "    fig_compare = px.line(compare_data, x = \"Year\", y = \"predicted_score\", color = \"Type\",\n",
    "                          markers = True, title = \"Comparison on ESG score trend\")\n",
    "    \n",
    "    fig_compare.update_traces(\n",
    "        hovertemplate = 'Year: %{x} <br> ESG Score: %{y} <extra></extra>', \n",
    "        marker = dict(size = 8)\n",
    "        )\n",
    "  \n",
    "    return fig_compare\n",
    "    "
   ]
  },
  {
   "cell_type": "code",
   "execution_count": 70,
   "metadata": {},
   "outputs": [
    {
     "name": "stderr",
     "output_type": "stream",
     "text": [
      "c:\\Users\\LJM\\AppData\\Local\\Programs\\Python\\Python312\\Lib\\site-packages\\sklearn\\base.py:493: UserWarning:\n",
      "\n",
      "X does not have valid feature names, but KMeans was fitted with feature names\n",
      "\n",
      "C:\\Users\\LJM\\AppData\\Local\\Temp\\ipykernel_26932\\583398745.py:46: SettingWithCopyWarning:\n",
      "\n",
      "\n",
      "A value is trying to be set on a copy of a slice from a DataFrame\n",
      "\n",
      "See the caveats in the documentation: https://pandas.pydata.org/pandas-docs/stable/user_guide/indexing.html#returning-a-view-versus-a-copy\n",
      "\n"
     ]
    },
    {
     "data": {
      "application/vnd.plotly.v1+json": {
       "config": {
        "plotlyServerURL": "https://plot.ly"
       },
       "data": [
        {
         "hovertemplate": "Year: %{x} <br> ESG Score: %{y} <extra></extra>",
         "legendgroup": "Industry mean",
         "line": {
          "color": "#636efa",
          "dash": "solid"
         },
         "marker": {
          "size": 8,
          "symbol": "circle"
         },
         "mode": "lines+markers",
         "name": "Industry mean",
         "orientation": "v",
         "showlegend": true,
         "type": "scatter",
         "x": [
          2020,
          2021,
          2022,
          2023,
          2024
         ],
         "xaxis": "x",
         "y": [
          1.0228003892902735,
          1.0402903717018357,
          1.1388972202940286,
          1.001877533969493,
          1.0161344847443692
         ],
         "yaxis": "y"
        },
        {
         "hovertemplate": "Year: %{x} <br> ESG Score: %{y} <extra></extra>",
         "legendgroup": "Singtel",
         "line": {
          "color": "#EF553B",
          "dash": "solid"
         },
         "marker": {
          "size": 8,
          "symbol": "circle"
         },
         "mode": "lines+markers",
         "name": "Singtel",
         "orientation": "v",
         "showlegend": true,
         "type": "scatter",
         "x": [
          2020,
          2021,
          2022,
          2023,
          2024
         ],
         "xaxis": "x",
         "y": [
          -1.0204327715165333,
          1.9677552135954812,
          0.6863299811939131,
          2.0322041660865033,
          1.554143410640636
         ],
         "yaxis": "y"
        },
        {
         "hovertemplate": "Year: %{x} <br> ESG Score: %{y} <extra></extra>",
         "legendgroup": "Engineering Services",
         "line": {
          "color": "#00cc96",
          "dash": "solid"
         },
         "marker": {
          "size": 8,
          "symbol": "circle"
         },
         "mode": "lines+markers",
         "name": "Engineering Services",
         "orientation": "v",
         "showlegend": true,
         "type": "scatter",
         "x": [
          2020,
          2021,
          2022,
          2023,
          2024
         ],
         "xaxis": "x",
         "y": [
          0.987481495932895,
          1.0395095040095,
          1.223966075276003,
          1.0651864325888463,
          0.9861928363545632
         ],
         "yaxis": "y"
        }
       ],
       "layout": {
        "legend": {
         "title": {
          "text": "Type"
         },
         "tracegroupgap": 0
        },
        "template": {
         "data": {
          "bar": [
           {
            "error_x": {
             "color": "#2a3f5f"
            },
            "error_y": {
             "color": "#2a3f5f"
            },
            "marker": {
             "line": {
              "color": "#E5ECF6",
              "width": 0.5
             },
             "pattern": {
              "fillmode": "overlay",
              "size": 10,
              "solidity": 0.2
             }
            },
            "type": "bar"
           }
          ],
          "barpolar": [
           {
            "marker": {
             "line": {
              "color": "#E5ECF6",
              "width": 0.5
             },
             "pattern": {
              "fillmode": "overlay",
              "size": 10,
              "solidity": 0.2
             }
            },
            "type": "barpolar"
           }
          ],
          "carpet": [
           {
            "aaxis": {
             "endlinecolor": "#2a3f5f",
             "gridcolor": "white",
             "linecolor": "white",
             "minorgridcolor": "white",
             "startlinecolor": "#2a3f5f"
            },
            "baxis": {
             "endlinecolor": "#2a3f5f",
             "gridcolor": "white",
             "linecolor": "white",
             "minorgridcolor": "white",
             "startlinecolor": "#2a3f5f"
            },
            "type": "carpet"
           }
          ],
          "choropleth": [
           {
            "colorbar": {
             "outlinewidth": 0,
             "ticks": ""
            },
            "type": "choropleth"
           }
          ],
          "contour": [
           {
            "colorbar": {
             "outlinewidth": 0,
             "ticks": ""
            },
            "colorscale": [
             [
              0,
              "#0d0887"
             ],
             [
              0.1111111111111111,
              "#46039f"
             ],
             [
              0.2222222222222222,
              "#7201a8"
             ],
             [
              0.3333333333333333,
              "#9c179e"
             ],
             [
              0.4444444444444444,
              "#bd3786"
             ],
             [
              0.5555555555555556,
              "#d8576b"
             ],
             [
              0.6666666666666666,
              "#ed7953"
             ],
             [
              0.7777777777777778,
              "#fb9f3a"
             ],
             [
              0.8888888888888888,
              "#fdca26"
             ],
             [
              1,
              "#f0f921"
             ]
            ],
            "type": "contour"
           }
          ],
          "contourcarpet": [
           {
            "colorbar": {
             "outlinewidth": 0,
             "ticks": ""
            },
            "type": "contourcarpet"
           }
          ],
          "heatmap": [
           {
            "colorbar": {
             "outlinewidth": 0,
             "ticks": ""
            },
            "colorscale": [
             [
              0,
              "#0d0887"
             ],
             [
              0.1111111111111111,
              "#46039f"
             ],
             [
              0.2222222222222222,
              "#7201a8"
             ],
             [
              0.3333333333333333,
              "#9c179e"
             ],
             [
              0.4444444444444444,
              "#bd3786"
             ],
             [
              0.5555555555555556,
              "#d8576b"
             ],
             [
              0.6666666666666666,
              "#ed7953"
             ],
             [
              0.7777777777777778,
              "#fb9f3a"
             ],
             [
              0.8888888888888888,
              "#fdca26"
             ],
             [
              1,
              "#f0f921"
             ]
            ],
            "type": "heatmap"
           }
          ],
          "heatmapgl": [
           {
            "colorbar": {
             "outlinewidth": 0,
             "ticks": ""
            },
            "colorscale": [
             [
              0,
              "#0d0887"
             ],
             [
              0.1111111111111111,
              "#46039f"
             ],
             [
              0.2222222222222222,
              "#7201a8"
             ],
             [
              0.3333333333333333,
              "#9c179e"
             ],
             [
              0.4444444444444444,
              "#bd3786"
             ],
             [
              0.5555555555555556,
              "#d8576b"
             ],
             [
              0.6666666666666666,
              "#ed7953"
             ],
             [
              0.7777777777777778,
              "#fb9f3a"
             ],
             [
              0.8888888888888888,
              "#fdca26"
             ],
             [
              1,
              "#f0f921"
             ]
            ],
            "type": "heatmapgl"
           }
          ],
          "histogram": [
           {
            "marker": {
             "pattern": {
              "fillmode": "overlay",
              "size": 10,
              "solidity": 0.2
             }
            },
            "type": "histogram"
           }
          ],
          "histogram2d": [
           {
            "colorbar": {
             "outlinewidth": 0,
             "ticks": ""
            },
            "colorscale": [
             [
              0,
              "#0d0887"
             ],
             [
              0.1111111111111111,
              "#46039f"
             ],
             [
              0.2222222222222222,
              "#7201a8"
             ],
             [
              0.3333333333333333,
              "#9c179e"
             ],
             [
              0.4444444444444444,
              "#bd3786"
             ],
             [
              0.5555555555555556,
              "#d8576b"
             ],
             [
              0.6666666666666666,
              "#ed7953"
             ],
             [
              0.7777777777777778,
              "#fb9f3a"
             ],
             [
              0.8888888888888888,
              "#fdca26"
             ],
             [
              1,
              "#f0f921"
             ]
            ],
            "type": "histogram2d"
           }
          ],
          "histogram2dcontour": [
           {
            "colorbar": {
             "outlinewidth": 0,
             "ticks": ""
            },
            "colorscale": [
             [
              0,
              "#0d0887"
             ],
             [
              0.1111111111111111,
              "#46039f"
             ],
             [
              0.2222222222222222,
              "#7201a8"
             ],
             [
              0.3333333333333333,
              "#9c179e"
             ],
             [
              0.4444444444444444,
              "#bd3786"
             ],
             [
              0.5555555555555556,
              "#d8576b"
             ],
             [
              0.6666666666666666,
              "#ed7953"
             ],
             [
              0.7777777777777778,
              "#fb9f3a"
             ],
             [
              0.8888888888888888,
              "#fdca26"
             ],
             [
              1,
              "#f0f921"
             ]
            ],
            "type": "histogram2dcontour"
           }
          ],
          "mesh3d": [
           {
            "colorbar": {
             "outlinewidth": 0,
             "ticks": ""
            },
            "type": "mesh3d"
           }
          ],
          "parcoords": [
           {
            "line": {
             "colorbar": {
              "outlinewidth": 0,
              "ticks": ""
             }
            },
            "type": "parcoords"
           }
          ],
          "pie": [
           {
            "automargin": true,
            "type": "pie"
           }
          ],
          "scatter": [
           {
            "fillpattern": {
             "fillmode": "overlay",
             "size": 10,
             "solidity": 0.2
            },
            "type": "scatter"
           }
          ],
          "scatter3d": [
           {
            "line": {
             "colorbar": {
              "outlinewidth": 0,
              "ticks": ""
             }
            },
            "marker": {
             "colorbar": {
              "outlinewidth": 0,
              "ticks": ""
             }
            },
            "type": "scatter3d"
           }
          ],
          "scattercarpet": [
           {
            "marker": {
             "colorbar": {
              "outlinewidth": 0,
              "ticks": ""
             }
            },
            "type": "scattercarpet"
           }
          ],
          "scattergeo": [
           {
            "marker": {
             "colorbar": {
              "outlinewidth": 0,
              "ticks": ""
             }
            },
            "type": "scattergeo"
           }
          ],
          "scattergl": [
           {
            "marker": {
             "colorbar": {
              "outlinewidth": 0,
              "ticks": ""
             }
            },
            "type": "scattergl"
           }
          ],
          "scattermapbox": [
           {
            "marker": {
             "colorbar": {
              "outlinewidth": 0,
              "ticks": ""
             }
            },
            "type": "scattermapbox"
           }
          ],
          "scatterpolar": [
           {
            "marker": {
             "colorbar": {
              "outlinewidth": 0,
              "ticks": ""
             }
            },
            "type": "scatterpolar"
           }
          ],
          "scatterpolargl": [
           {
            "marker": {
             "colorbar": {
              "outlinewidth": 0,
              "ticks": ""
             }
            },
            "type": "scatterpolargl"
           }
          ],
          "scatterternary": [
           {
            "marker": {
             "colorbar": {
              "outlinewidth": 0,
              "ticks": ""
             }
            },
            "type": "scatterternary"
           }
          ],
          "surface": [
           {
            "colorbar": {
             "outlinewidth": 0,
             "ticks": ""
            },
            "colorscale": [
             [
              0,
              "#0d0887"
             ],
             [
              0.1111111111111111,
              "#46039f"
             ],
             [
              0.2222222222222222,
              "#7201a8"
             ],
             [
              0.3333333333333333,
              "#9c179e"
             ],
             [
              0.4444444444444444,
              "#bd3786"
             ],
             [
              0.5555555555555556,
              "#d8576b"
             ],
             [
              0.6666666666666666,
              "#ed7953"
             ],
             [
              0.7777777777777778,
              "#fb9f3a"
             ],
             [
              0.8888888888888888,
              "#fdca26"
             ],
             [
              1,
              "#f0f921"
             ]
            ],
            "type": "surface"
           }
          ],
          "table": [
           {
            "cells": {
             "fill": {
              "color": "#EBF0F8"
             },
             "line": {
              "color": "white"
             }
            },
            "header": {
             "fill": {
              "color": "#C8D4E3"
             },
             "line": {
              "color": "white"
             }
            },
            "type": "table"
           }
          ]
         },
         "layout": {
          "annotationdefaults": {
           "arrowcolor": "#2a3f5f",
           "arrowhead": 0,
           "arrowwidth": 1
          },
          "autotypenumbers": "strict",
          "coloraxis": {
           "colorbar": {
            "outlinewidth": 0,
            "ticks": ""
           }
          },
          "colorscale": {
           "diverging": [
            [
             0,
             "#8e0152"
            ],
            [
             0.1,
             "#c51b7d"
            ],
            [
             0.2,
             "#de77ae"
            ],
            [
             0.3,
             "#f1b6da"
            ],
            [
             0.4,
             "#fde0ef"
            ],
            [
             0.5,
             "#f7f7f7"
            ],
            [
             0.6,
             "#e6f5d0"
            ],
            [
             0.7,
             "#b8e186"
            ],
            [
             0.8,
             "#7fbc41"
            ],
            [
             0.9,
             "#4d9221"
            ],
            [
             1,
             "#276419"
            ]
           ],
           "sequential": [
            [
             0,
             "#0d0887"
            ],
            [
             0.1111111111111111,
             "#46039f"
            ],
            [
             0.2222222222222222,
             "#7201a8"
            ],
            [
             0.3333333333333333,
             "#9c179e"
            ],
            [
             0.4444444444444444,
             "#bd3786"
            ],
            [
             0.5555555555555556,
             "#d8576b"
            ],
            [
             0.6666666666666666,
             "#ed7953"
            ],
            [
             0.7777777777777778,
             "#fb9f3a"
            ],
            [
             0.8888888888888888,
             "#fdca26"
            ],
            [
             1,
             "#f0f921"
            ]
           ],
           "sequentialminus": [
            [
             0,
             "#0d0887"
            ],
            [
             0.1111111111111111,
             "#46039f"
            ],
            [
             0.2222222222222222,
             "#7201a8"
            ],
            [
             0.3333333333333333,
             "#9c179e"
            ],
            [
             0.4444444444444444,
             "#bd3786"
            ],
            [
             0.5555555555555556,
             "#d8576b"
            ],
            [
             0.6666666666666666,
             "#ed7953"
            ],
            [
             0.7777777777777778,
             "#fb9f3a"
            ],
            [
             0.8888888888888888,
             "#fdca26"
            ],
            [
             1,
             "#f0f921"
            ]
           ]
          },
          "colorway": [
           "#636efa",
           "#EF553B",
           "#00cc96",
           "#ab63fa",
           "#FFA15A",
           "#19d3f3",
           "#FF6692",
           "#B6E880",
           "#FF97FF",
           "#FECB52"
          ],
          "font": {
           "color": "#2a3f5f"
          },
          "geo": {
           "bgcolor": "white",
           "lakecolor": "white",
           "landcolor": "#E5ECF6",
           "showlakes": true,
           "showland": true,
           "subunitcolor": "white"
          },
          "hoverlabel": {
           "align": "left"
          },
          "hovermode": "closest",
          "mapbox": {
           "style": "light"
          },
          "paper_bgcolor": "white",
          "plot_bgcolor": "#E5ECF6",
          "polar": {
           "angularaxis": {
            "gridcolor": "white",
            "linecolor": "white",
            "ticks": ""
           },
           "bgcolor": "#E5ECF6",
           "radialaxis": {
            "gridcolor": "white",
            "linecolor": "white",
            "ticks": ""
           }
          },
          "scene": {
           "xaxis": {
            "backgroundcolor": "#E5ECF6",
            "gridcolor": "white",
            "gridwidth": 2,
            "linecolor": "white",
            "showbackground": true,
            "ticks": "",
            "zerolinecolor": "white"
           },
           "yaxis": {
            "backgroundcolor": "#E5ECF6",
            "gridcolor": "white",
            "gridwidth": 2,
            "linecolor": "white",
            "showbackground": true,
            "ticks": "",
            "zerolinecolor": "white"
           },
           "zaxis": {
            "backgroundcolor": "#E5ECF6",
            "gridcolor": "white",
            "gridwidth": 2,
            "linecolor": "white",
            "showbackground": true,
            "ticks": "",
            "zerolinecolor": "white"
           }
          },
          "shapedefaults": {
           "line": {
            "color": "#2a3f5f"
           }
          },
          "ternary": {
           "aaxis": {
            "gridcolor": "white",
            "linecolor": "white",
            "ticks": ""
           },
           "baxis": {
            "gridcolor": "white",
            "linecolor": "white",
            "ticks": ""
           },
           "bgcolor": "#E5ECF6",
           "caxis": {
            "gridcolor": "white",
            "linecolor": "white",
            "ticks": ""
           }
          },
          "title": {
           "x": 0.05
          },
          "xaxis": {
           "automargin": true,
           "gridcolor": "white",
           "linecolor": "white",
           "ticks": "",
           "title": {
            "standoff": 15
           },
           "zerolinecolor": "white",
           "zerolinewidth": 2
          },
          "yaxis": {
           "automargin": true,
           "gridcolor": "white",
           "linecolor": "white",
           "ticks": "",
           "title": {
            "standoff": 15
           },
           "zerolinecolor": "white",
           "zerolinewidth": 2
          }
         }
        },
        "title": {
         "text": "Comparison on ESG score trend"
        },
        "xaxis": {
         "anchor": "y",
         "domain": [
          0,
          1
         ],
         "title": {
          "text": "Year"
         }
        },
        "yaxis": {
         "anchor": "x",
         "domain": [
          0,
          1
         ],
         "title": {
          "text": "predicted_score"
         }
        }
       }
      }
     },
     "metadata": {},
     "output_type": "display_data"
    }
   ],
   "source": [
    "fig_compare = company_scoring(company_data, kmeans, esg_cluster_centers, esg_feature_weights, \n",
    "                               esg_intercept_b, sub_sectors, esg_industry_plot_data, ESG_score_trend)\n",
    "fig_compare.show()"
   ]
  }
 ],
 "metadata": {
  "kernelspec": {
   "display_name": "DSS5105_env",
   "language": "python",
   "name": "python3"
  },
  "language_info": {
   "codemirror_mode": {
    "name": "ipython",
    "version": 3
   },
   "file_extension": ".py",
   "mimetype": "text/x-python",
   "name": "python",
   "nbconvert_exporter": "python",
   "pygments_lexer": "ipython3",
   "version": "3.12.4"
  }
 },
 "nbformat": 4,
 "nbformat_minor": 2
}
