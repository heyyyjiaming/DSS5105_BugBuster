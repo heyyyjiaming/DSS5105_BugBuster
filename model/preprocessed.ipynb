{
 "cells": [
  {
   "cell_type": "code",
   "execution_count": 1,
   "metadata": {},
   "outputs": [],
   "source": [
    "import pandas as pd\n",
    "import numpy as np\n",
    "from sklearn.impute import SimpleImputer\n",
    "from sklearn.preprocessing import StandardScaler\n",
    "from sklearn.cluster import KMeans\n",
    "from sklearn.linear_model import LinearRegression\n",
    "import matplotlib.pyplot as plt\n",
    "import plotly.express as px"
   ]
  },
  {
   "cell_type": "code",
   "execution_count": 9,
   "metadata": {},
   "outputs": [],
   "source": [
    "esg_file_path = './data/Technology Industry ESG data.csv'\n",
    "esg_data = pd.read_csv(esg_file_path)\n",
    "\n",
    "esg_data_numeric = esg_data.drop(columns=['Sub-sector', 'Company Name', 'Year','Recordable work-related ill health cases', \n",
    "                                           'Current Employees by Age Groups (Millennials %)', \n",
    "                                            'Average Training Hours per Employee', 'Total Energy Consumption (MWhs)',\n",
    "                                            'Women on the Board (%)', 'Current Employees by Gender (Female %)', \n",
    "                                            'Women in Management Team (%)', 'Fatalities', 'Board Independence (%)'])\n",
    "\n",
    "imputer = SimpleImputer(strategy='median')\n",
    "esg_data_imputed = pd.DataFrame(imputer.fit_transform(esg_data_numeric), columns=esg_data_numeric.columns)\n",
    "\n",
    "scaler = StandardScaler()\n",
    "esg_data_scaled = pd.DataFrame(scaler.fit_transform(esg_data_imputed), columns=esg_data_numeric.columns)\n",
    "# esg_data_scaled.to_csv('./data/technology_esg_data_scaled.csv', index=False)\n",
    "\n",
    "# wcss = []  # Within-cluster sum of squares\n",
    "# for i in range(1, 11):\n",
    "#     kmeans = KMeans(n_clusters=i, init='k-means++', max_iter=300, n_init=10, random_state=42)\n",
    "#     kmeans.fit(esg_data_scaled)\n",
    "#     wcss.append(kmeans.inertia_)\n",
    "        \n",
    "        \n",
    "scored_esg_data = esg_data.copy()\n",
    "optimal_clusters = 3\n",
    "kmeans = KMeans(n_clusters=optimal_clusters, init='k-means++', max_iter=300, n_init=10, random_state=42)\n",
    "scored_esg_data['Cluster'] = kmeans.fit_predict(esg_data_scaled)\n",
    "\n",
    "esg_cluster_centers = pd.DataFrame(scaler.inverse_transform(kmeans.cluster_centers_), columns=esg_data_numeric.columns)\n",
    "esg_cluster_centers['Cluster'] = range(optimal_clusters)\n",
    "\n",
    "def categorize_performance(cluster):\n",
    "    if cluster == esg_cluster_centers['Cluster'].idxmax():\n",
    "        return 'Good'\n",
    "    elif cluster == esg_cluster_centers['Cluster'].idxmin():\n",
    "        return 'Poor'\n",
    "    else:\n",
    "        return 'Average'\n",
    "\n",
    "scored_esg_data['Performance Category'] = scored_esg_data['Cluster'].apply(categorize_performance)\n",
    "\n",
    "X = esg_data_scaled\n",
    "reg = LinearRegression()\n",
    "reg.fit(X, scored_esg_data['Cluster'])\n",
    "\n",
    "scored_esg_data['predicted_score'] = reg.predict(X)\n",
    "\n",
    "# esg_feature_weights = pd.Series(reg.coef_, index=esg_data_numeric.columns).sort_values(ascending=False)\n",
    "\n",
    "# esg_intercept_b = reg.intercept_\n",
    "\n"
   ]
  },
  {
   "cell_type": "code",
   "execution_count": 11,
   "metadata": {},
   "outputs": [
    {
     "data": {
      "text/plain": [
       "array([ 0.07523737,  0.24805192,  0.15405089, -0.23695093,  0.34414953,\n",
       "       -0.00201837,  0.00939058, -0.01146471, -0.10783211,  0.19902809,\n",
       "        0.20018062])"
      ]
     },
     "execution_count": 11,
     "metadata": {},
     "output_type": "execute_result"
    }
   ],
   "source": [
    "reg.coef_"
   ]
  },
  {
   "cell_type": "code",
   "execution_count": 10,
   "metadata": {},
   "outputs": [],
   "source": [
    "import pickle\n",
    "\n",
    "# save\n",
    "with open('scoring_model.pkl','wb') as f:\n",
    "    pickle.dump(reg,f)\n",
    "    \n",
    "with open('cluster_model.pkl','wb') as f:\n",
    "    pickle.dump(kmeans,f)"
   ]
  },
  {
   "cell_type": "code",
   "execution_count": 5,
   "metadata": {},
   "outputs": [],
   "source": [
    "scored_esg_data.to_csv('./data/scored_tech_industry_esg_data.csv', index=False)"
   ]
  },
  {
   "cell_type": "code",
   "execution_count": 6,
   "metadata": {},
   "outputs": [],
   "source": [
    "esg_cluster_centers.to_csv('./data/tech_esg_cluster_centers.csv', index=False)"
   ]
  }
 ],
 "metadata": {
  "kernelspec": {
   "display_name": "DSS5105_env",
   "language": "python",
   "name": "python3"
  },
  "language_info": {
   "codemirror_mode": {
    "name": "ipython",
    "version": 3
   },
   "file_extension": ".py",
   "mimetype": "text/x-python",
   "name": "python",
   "nbconvert_exporter": "python",
   "pygments_lexer": "ipython3",
   "version": "3.12.4"
  }
 },
 "nbformat": 4,
 "nbformat_minor": 2
}
