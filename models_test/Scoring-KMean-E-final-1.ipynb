{
 "cells": [
  {
   "cell_type": "code",
   "execution_count": 23,
   "metadata": {},
   "outputs": [],
   "source": [
    "import pandas as pd\n",
    "import numpy as np\n",
    "from sklearn.impute import SimpleImputer\n",
    "from sklearn.preprocessing import StandardScaler\n",
    "from sklearn.cluster import KMeans\n",
    "from sklearn.linear_model import LinearRegression\n",
    "import matplotlib.pyplot as plt\n",
    "import plotly.express as px"
   ]
  },
  {
   "cell_type": "code",
   "execution_count": 24,
   "metadata": {},
   "outputs": [
    {
     "name": "stdout",
     "output_type": "stream",
     "text": [
      "Feature Weights for ESG Performance Scoring System:\n",
      "Total Water Consumption     0.175373\n",
      "Total Waste Generated       0.079954\n",
      "Total Energy Consumption   -0.030653\n",
      "GHG Emissions (Scope 2)    -0.128821\n",
      "GHG Emissions (Scope 3)    -0.132487\n",
      "GHG Emissions (Scope 1)    -0.605261\n",
      "dtype: float64\n",
      "Intercept (b): 1.0466666666666664\n"
     ]
    }
   ],
   "source": [
    "# Step 1: Load Data\n",
    "e_file_path = '../ChatGPT-simulate data/Simulate-E-data-9 years.xlsx'\n",
    "e_data = pd.read_excel(e_file_path)\n",
    "\n",
    "# Step 2: Data Preprocessing\n",
    "# Drop non-numeric columns that are not needed for imputation\n",
    "e_company_names = e_data['Company Name']  # Assuming the first column is 'Company Name'\n",
    "e_data_numeric = e_data.drop(columns=['Company Name', 'Year', 'GHG Emissions (Total)'])\n",
    "\n",
    "# Handle missing values(Implement techniques to handle missing data and ensure fair comparisons across\n",
    "# companies.)\n",
    "imputer = SimpleImputer(strategy='median')\n",
    "e_data_imputed = pd.DataFrame(imputer.fit_transform(e_data_numeric), columns=e_data_numeric.columns)\n",
    "\n",
    "# Step 3: Standardize Data\n",
    "scaler = StandardScaler()\n",
    "e_data_scaled = pd.DataFrame(scaler.fit_transform(e_data_imputed), columns=e_data_numeric.columns)\n",
    "\n",
    "# Step 4: Apply KMeans Clustering\n",
    "# Determine the optimal number of clusters using the Elbow Method\n",
    "wcss = []  # Within-cluster sum of squares\n",
    "for i in range(1, 11):\n",
    "    kmeans = KMeans(n_clusters=i, init='k-means++', max_iter=300, n_init=10, random_state=42)\n",
    "    kmeans.fit(e_data_scaled)\n",
    "    wcss.append(kmeans.inertia_)\n",
    "\n",
    "# Step 5: Train KMeans Model with Optimal Number of Clusters\n",
    "# Assuming the optimal number of clusters is 3 based on the elbow plot\n",
    "optimal_clusters = 3\n",
    "kmeans = KMeans(n_clusters=optimal_clusters, init='k-means++', max_iter=300, n_init=10, random_state=42)\n",
    "e_data['Cluster'] = kmeans.fit_predict(e_data_scaled)\n",
    "\n",
    "# Step 6: Create General Industry Benchmark\n",
    "# Since all companies are in the technology industry, create benchmark categories based on cluster assignments\n",
    "e_cluster_centers = pd.DataFrame(scaler.inverse_transform(kmeans.cluster_centers_), columns=e_data_numeric.columns)\n",
    "e_cluster_centers['Cluster'] = range(optimal_clusters)\n",
    "\n",
    "# Categorize companies based on their cluster\n",
    "def categorize_performance(cluster):\n",
    "    if cluster == e_cluster_centers['Cluster'].idxmax():\n",
    "        return 'Good'\n",
    "    elif cluster == e_cluster_centers['Cluster'].idxmin():\n",
    "        return 'Poor'\n",
    "    else:\n",
    "        return 'Average'\n",
    "\n",
    "e_data['Performance Category'] = e_data['Cluster'].apply(categorize_performance)\n",
    "\n",
    "# Step 7: Create Scoring System\n",
    "# Use a Linear Regression model to calculate an ESG performance score\n",
    "X = e_data_scaled\n",
    "reg = LinearRegression()\n",
    "reg.fit(X, e_data['Cluster'])\n",
    "\n",
    "# Predicted ESG performance score\n",
    "e_data['predicted_score'] = reg.predict(X)\n",
    "\n",
    "# Get feature importance (coefficients)\n",
    "e_feature_weights = pd.Series(reg.coef_, index=e_data_numeric.columns).sort_values(ascending=False)\n",
    "print(\"Feature Weights for ESG Performance Scoring System:\")\n",
    "print(e_feature_weights)\n",
    "\n",
    "# Get intercept (b)\n",
    "e_intercept_b = reg.intercept_\n",
    "print(\"Intercept (b):\", e_intercept_b)\n",
    "\n",
    "# Step 9: Save Results\n",
    "e_data['Company Name'] = e_company_names  # Add company names back to the dataset\n",
    "\n",
    "# Save the results to a CSV file\n",
    "# e_data.to_csv('esg_scoring_results_E_part.csv', index=False)  \n",
    "\n",
    "# Optional: Display some sample results\n",
    "# e_data[['Company Name', 'Year', 'Cluster', 'Performance Category', 'predicted_score']].head()\n",
    "\n",
    "# Step 10: Generate Automated ESG Performance Summaries and Recommendations\n",
    "# Function to generate summaries and recommendations for new companies\n",
    "def generate_summary(company_data):\n",
    "    # Preprocess the new company's data\n",
    "    company_imputed = pd.DataFrame(imputer.transform(company_data), columns=e_data_numeric.columns)\n",
    "    company_scaled = pd.DataFrame(scaler.transform(company_imputed), columns=e_data_numeric.columns)\n",
    "\n",
    "    # Predict cluster and performance score\n",
    "    cluster = kmeans.predict(company_scaled)[0]\n",
    "    predicted_score = reg.predict(company_scaled)[0]\n",
    "    performance_category = categorize_performance(cluster)\n",
    "\n",
    "    # Generate summary\n",
    "    summary = f\"The company belongs to the '{performance_category}' performance category with an ESG score of {predicted_score:.2f}.\"\n",
    "\n",
    "    # Generate recommendations based on performance\n",
    "    if performance_category == 'Good':\n",
    "        recommendation = \"Maintain current practices and look for areas to further innovate.\"\n",
    "    elif performance_category == 'Average':\n",
    "        recommendation = \"Focus on improving key ESG metrics to move into the 'Good' category. Consider areas such as energy efficiency and waste reduction.\"\n",
    "    else:\n",
    "        recommendation = \"Significant improvements are needed in ESG practices. Start by addressing major contributors to emissions and inefficiencies.\"\n",
    "\n",
    "    return summary, recommendation"
   ]
  },
  {
   "cell_type": "markdown",
   "metadata": {},
   "source": [
    "Scoring Functon"
   ]
  },
  {
   "cell_type": "code",
   "execution_count": 25,
   "metadata": {},
   "outputs": [],
   "source": [
    "e_company_file_path = '../ChatGPT-simulate data/Simulate-E-data-9 years.xlsx'\n",
    "e_company_data = pd.read_excel(e_company_file_path)"
   ]
  },
  {
   "cell_type": "code",
   "execution_count": null,
   "metadata": {},
   "outputs": [],
   "source": [
    "company_name = 'Company_1'\n",
    "######### replace with extracted info\n",
    "company_e_data = e_company_data[e_company_data[\"Company Name\"] == company_name].reset_index(drop=True)\n",
    "\n",
    "e_company_info = company_e_data[['Company Name', 'Year']]\n",
    "e_company_numeric = company_e_data.drop(columns=['Company Name', 'Year', 'GHG Emissions (Total)'])\n",
    "\n",
    "# Handle missing values(Implement techniques to handle missing data and ensure fair comparisons across\n",
    "# companies.)\n",
    "imputer = SimpleImputer(strategy='median')\n",
    "e_company_imputed = pd.DataFrame(imputer.fit_transform(e_company_numeric), columns=e_company_numeric.columns)\n",
    "\n",
    "# Step 3: Standardize Data\n",
    "scaler = StandardScaler()\n",
    "e_company_scaled = pd.DataFrame(scaler.fit_transform(e_company_imputed), columns=e_company_numeric.columns)\n",
    "\n",
    "# Add back company name and year columns\n",
    "# e_company_scaled_data = pd.concat([e_company_info.reset_index(drop=True), e_company_scaled], axis=1)\n"
   ]
  },
  {
   "cell_type": "code",
   "execution_count": 27,
   "metadata": {},
   "outputs": [
    {
     "name": "stderr",
     "output_type": "stream",
     "text": [
      "c:\\Users\\LJM\\AppData\\Local\\Programs\\Python\\Python312\\Lib\\site-packages\\sklearn\\base.py:493: UserWarning:\n",
      "\n",
      "X does not have valid feature names, but KMeans was fitted with feature names\n",
      "\n"
     ]
    },
    {
     "data": {
      "text/html": [
       "<div>\n",
       "<style scoped>\n",
       "    .dataframe tbody tr th:only-of-type {\n",
       "        vertical-align: middle;\n",
       "    }\n",
       "\n",
       "    .dataframe tbody tr th {\n",
       "        vertical-align: top;\n",
       "    }\n",
       "\n",
       "    .dataframe thead th {\n",
       "        text-align: right;\n",
       "    }\n",
       "</style>\n",
       "<table border=\"1\" class=\"dataframe\">\n",
       "  <thead>\n",
       "    <tr style=\"text-align: right;\">\n",
       "      <th></th>\n",
       "      <th>Company Name</th>\n",
       "      <th>Year</th>\n",
       "      <th>GHG Emissions (Scope 1)</th>\n",
       "      <th>GHG Emissions (Scope 2)</th>\n",
       "      <th>GHG Emissions (Scope 3)</th>\n",
       "      <th>GHG Emissions (Total)</th>\n",
       "      <th>Total Energy Consumption</th>\n",
       "      <th>Total Water Consumption</th>\n",
       "      <th>Total Waste Generated</th>\n",
       "      <th>Cluster</th>\n",
       "      <th>Performance Category</th>\n",
       "      <th>Calculated Score</th>\n",
       "    </tr>\n",
       "  </thead>\n",
       "  <tbody>\n",
       "    <tr>\n",
       "      <th>0</th>\n",
       "      <td>Company_1</td>\n",
       "      <td>2015</td>\n",
       "      <td>170.104680</td>\n",
       "      <td>25.818188</td>\n",
       "      <td>364.565239</td>\n",
       "      <td>560.488106</td>\n",
       "      <td>4362.711869</td>\n",
       "      <td>3893.196444</td>\n",
       "      <td>797.507302</td>\n",
       "      <td>2</td>\n",
       "      <td>Good</td>\n",
       "      <td>1.907366</td>\n",
       "    </tr>\n",
       "    <tr>\n",
       "      <th>1</th>\n",
       "      <td>Company_1</td>\n",
       "      <td>2016</td>\n",
       "      <td>468.277567</td>\n",
       "      <td>113.632928</td>\n",
       "      <td>294.223826</td>\n",
       "      <td>876.134322</td>\n",
       "      <td>7198.907644</td>\n",
       "      <td>1591.129253</td>\n",
       "      <td>59.128381</td>\n",
       "      <td>0</td>\n",
       "      <td>Poor</td>\n",
       "      <td>-0.509667</td>\n",
       "    </tr>\n",
       "    <tr>\n",
       "      <th>2</th>\n",
       "      <td>Company_1</td>\n",
       "      <td>2017</td>\n",
       "      <td>127.600875</td>\n",
       "      <td>122.083167</td>\n",
       "      <td>242.773468</td>\n",
       "      <td>492.457510</td>\n",
       "      <td>7038.959150</td>\n",
       "      <td>2860.495934</td>\n",
       "      <td>856.537777</td>\n",
       "      <td>2</td>\n",
       "      <td>Good</td>\n",
       "      <td>1.724461</td>\n",
       "    </tr>\n",
       "    <tr>\n",
       "      <th>3</th>\n",
       "      <td>Company_1</td>\n",
       "      <td>2018</td>\n",
       "      <td>310.834606</td>\n",
       "      <td>121.007206</td>\n",
       "      <td>381.414399</td>\n",
       "      <td>813.256211</td>\n",
       "      <td>2441.767719</td>\n",
       "      <td>4908.816197</td>\n",
       "      <td>661.580852</td>\n",
       "      <td>1</td>\n",
       "      <td>Average</td>\n",
       "      <td>0.988428</td>\n",
       "    </tr>\n",
       "    <tr>\n",
       "      <th>4</th>\n",
       "      <td>Company_1</td>\n",
       "      <td>2019</td>\n",
       "      <td>299.986281</td>\n",
       "      <td>105.553473</td>\n",
       "      <td>195.324121</td>\n",
       "      <td>600.863875</td>\n",
       "      <td>1070.055732</td>\n",
       "      <td>4495.813645</td>\n",
       "      <td>440.079027</td>\n",
       "      <td>1</td>\n",
       "      <td>Average</td>\n",
       "      <td>1.092987</td>\n",
       "    </tr>\n",
       "    <tr>\n",
       "      <th>5</th>\n",
       "      <td>Company_1</td>\n",
       "      <td>2020</td>\n",
       "      <td>382.829758</td>\n",
       "      <td>162.308534</td>\n",
       "      <td>116.781928</td>\n",
       "      <td>661.920220</td>\n",
       "      <td>7776.834556</td>\n",
       "      <td>4765.693869</td>\n",
       "      <td>352.968520</td>\n",
       "      <td>0</td>\n",
       "      <td>Poor</td>\n",
       "      <td>0.454597</td>\n",
       "    </tr>\n",
       "    <tr>\n",
       "      <th>6</th>\n",
       "      <td>Company_1</td>\n",
       "      <td>2021</td>\n",
       "      <td>274.659308</td>\n",
       "      <td>44.037756</td>\n",
       "      <td>824.177528</td>\n",
       "      <td>1142.874592</td>\n",
       "      <td>1957.313497</td>\n",
       "      <td>1961.375173</td>\n",
       "      <td>29.056474</td>\n",
       "      <td>0</td>\n",
       "      <td>Poor</td>\n",
       "      <td>0.570073</td>\n",
       "    </tr>\n",
       "    <tr>\n",
       "      <th>7</th>\n",
       "      <td>Company_1</td>\n",
       "      <td>2022</td>\n",
       "      <td>172.528547</td>\n",
       "      <td>75.903863</td>\n",
       "      <td>224.105448</td>\n",
       "      <td>472.537858</td>\n",
       "      <td>1741.142296</td>\n",
       "      <td>3945.294124</td>\n",
       "      <td>826.962796</td>\n",
       "      <td>2</td>\n",
       "      <td>Good</td>\n",
       "      <td>1.860201</td>\n",
       "    </tr>\n",
       "    <tr>\n",
       "      <th>8</th>\n",
       "      <td>Company_1</td>\n",
       "      <td>2023</td>\n",
       "      <td>126.228425</td>\n",
       "      <td>130.830690</td>\n",
       "      <td>798.379165</td>\n",
       "      <td>1055.438279</td>\n",
       "      <td>1024.310952</td>\n",
       "      <td>3118.494861</td>\n",
       "      <td>151.294635</td>\n",
       "      <td>2</td>\n",
       "      <td>Good</td>\n",
       "      <td>1.331554</td>\n",
       "    </tr>\n",
       "  </tbody>\n",
       "</table>\n",
       "</div>"
      ],
      "text/plain": [
       "  Company Name  Year  GHG Emissions (Scope 1)  GHG Emissions (Scope 2)  \\\n",
       "0    Company_1  2015               170.104680                25.818188   \n",
       "1    Company_1  2016               468.277567               113.632928   \n",
       "2    Company_1  2017               127.600875               122.083167   \n",
       "3    Company_1  2018               310.834606               121.007206   \n",
       "4    Company_1  2019               299.986281               105.553473   \n",
       "5    Company_1  2020               382.829758               162.308534   \n",
       "6    Company_1  2021               274.659308                44.037756   \n",
       "7    Company_1  2022               172.528547                75.903863   \n",
       "8    Company_1  2023               126.228425               130.830690   \n",
       "\n",
       "   GHG Emissions (Scope 3)  GHG Emissions (Total)  Total Energy Consumption  \\\n",
       "0               364.565239             560.488106               4362.711869   \n",
       "1               294.223826             876.134322               7198.907644   \n",
       "2               242.773468             492.457510               7038.959150   \n",
       "3               381.414399             813.256211               2441.767719   \n",
       "4               195.324121             600.863875               1070.055732   \n",
       "5               116.781928             661.920220               7776.834556   \n",
       "6               824.177528            1142.874592               1957.313497   \n",
       "7               224.105448             472.537858               1741.142296   \n",
       "8               798.379165            1055.438279               1024.310952   \n",
       "\n",
       "   Total Water Consumption  Total Waste Generated  Cluster  \\\n",
       "0              3893.196444             797.507302        2   \n",
       "1              1591.129253              59.128381        0   \n",
       "2              2860.495934             856.537777        2   \n",
       "3              4908.816197             661.580852        1   \n",
       "4              4495.813645             440.079027        1   \n",
       "5              4765.693869             352.968520        0   \n",
       "6              1961.375173              29.056474        0   \n",
       "7              3945.294124             826.962796        2   \n",
       "8              3118.494861             151.294635        2   \n",
       "\n",
       "  Performance Category  Calculated Score  \n",
       "0                 Good          1.907366  \n",
       "1                 Poor         -0.509667  \n",
       "2                 Good          1.724461  \n",
       "3              Average          0.988428  \n",
       "4              Average          1.092987  \n",
       "5                 Poor          0.454597  \n",
       "6                 Poor          0.570073  \n",
       "7                 Good          1.860201  \n",
       "8                 Good          1.331554  "
      ]
     },
     "execution_count": 27,
     "metadata": {},
     "output_type": "execute_result"
    }
   ],
   "source": [
    "# Step 3: 重新使用 KMeans 聚类来分配 Performance Category\n",
    "# 使用之前训练好的 KMeans 模型对Company 1的数据重新进行预测\n",
    "company_e_scaled_data = e_company_scaled.values  # 标准化后的数据作为特征输入\n",
    "\n",
    "# 使用 KMeans 模型进行聚类预测\n",
    "company_e_clusters = kmeans.predict(company_e_scaled_data)\n",
    "company_e_data['Cluster'] = company_e_clusters\n",
    "\n",
    "# 根据 KMeans 预测的 Cluster 给出 Performance Category\n",
    "def categorize_performance_by_cluster(cluster):\n",
    "    if cluster == e_cluster_centers['Cluster'].idxmax():\n",
    "        return 'Good'\n",
    "    elif cluster == e_cluster_centers['Cluster'].idxmin():\n",
    "        return 'Poor'\n",
    "    else:\n",
    "        return 'Average'\n",
    "\n",
    "# 使用新的聚类结果为 Company 1 分配 Performance Category\n",
    "company_e_data['Performance Category'] = company_e_data['Cluster'].apply(categorize_performance_by_cluster)\n",
    "\n",
    "\n",
    "# Step 2: 使用线性回归公式计算每年的 ESG 得分\n",
    "# 假设 reg.coef_ 已经存储了模型的权重 (weights)，并且 intercept_b 已经存储了截距 (b)\n",
    "e_weights = reg.coef_\n",
    "e_intercept_b = reg.intercept_\n",
    "\n",
    "# 将权重转换为NumPy数组，以便于矩阵运算\n",
    "e_weights = np.array(e_weights)\n",
    "\n",
    "# 定义计算得分的函数\n",
    "def calculate_score(features, weights, intercept):\n",
    "    return np.dot(features, weights) + intercept\n",
    "\n",
    "# 计算每年 ESG 得分并保存到新的 DataFrame 中\n",
    "company_e_scores = e_company_scaled.apply(lambda row: calculate_score(row, e_weights, e_intercept_b), axis=1)\n",
    "company_e_data['Calculated Score'] = company_e_scores\n",
    "\n",
    "# Add back company name and year columns\n",
    "# company_e = pd.concat([e_company_info.reset_index(drop=True), company_e_data], axis=1)\n",
    "\n",
    "company_e_data\n"
   ]
  },
  {
   "cell_type": "code",
   "execution_count": 28,
   "metadata": {},
   "outputs": [],
   "source": [
    "E_score_trend = e_data.groupby('Year')['predicted_score'].mean().reset_index()\n",
    "E_score_trend.rename(columns = {'predicted_score' : 'mean'}, inplace = True)\n"
   ]
  },
  {
   "cell_type": "code",
   "execution_count": 29,
   "metadata": {},
   "outputs": [
    {
     "name": "stderr",
     "output_type": "stream",
     "text": [
      "C:\\Users\\LJM\\AppData\\Local\\Temp\\ipykernel_6840\\2423363323.py:2: SettingWithCopyWarning:\n",
      "\n",
      "\n",
      "A value is trying to be set on a copy of a slice from a DataFrame\n",
      "\n",
      "See the caveats in the documentation: https://pandas.pydata.org/pandas-docs/stable/user_guide/indexing.html#returning-a-view-versus-a-copy\n",
      "\n"
     ]
    }
   ],
   "source": [
    "company_e_score = company_e_data[['Year', 'Calculated Score']]\n",
    "company_e_score.rename(columns = {'Calculated Score': company_name}, inplace = True)"
   ]
  },
  {
   "cell_type": "code",
   "execution_count": 30,
   "metadata": {},
   "outputs": [],
   "source": [
    "e_plot_data = E_score_trend.merge(company_e_score, how = 'outer', on = 'Year')"
   ]
  },
  {
   "cell_type": "code",
   "execution_count": 31,
   "metadata": {},
   "outputs": [],
   "source": [
    "e_plot_data = e_plot_data.melt(id_vars = [\"Year\"],\n",
    "                           var_name = \"Type\", value_name = \"predicted_score\")"
   ]
  },
  {
   "cell_type": "code",
   "execution_count": 32,
   "metadata": {},
   "outputs": [
    {
     "data": {
      "application/vnd.plotly.v1+json": {
       "config": {
        "plotlyServerURL": "https://plot.ly"
       },
       "data": [
        {
         "hovertemplate": "Year: %{x} <br> Environment Score: %{y} <extra></extra>",
         "legendgroup": "mean",
         "line": {
          "color": "#636efa",
          "dash": "solid"
         },
         "marker": {
          "size": 8,
          "symbol": "circle"
         },
         "mode": "lines+markers",
         "name": "mean",
         "orientation": "v",
         "showlegend": true,
         "type": "scatter",
         "x": [
          2015,
          2016,
          2017,
          2018,
          2019,
          2020,
          2021,
          2022,
          2023
         ],
         "xaxis": "x",
         "y": [
          1.0690345432757242,
          1.0899199320537818,
          0.9753831563141421,
          1.0938906170697291,
          1.0606084835462692,
          1.0857114499938967,
          0.9879978749865873,
          1.0482526215676233,
          1.009201321192246
         ],
         "yaxis": "y"
        },
        {
         "hovertemplate": "Year: %{x} <br> Environment Score: %{y} <extra></extra>",
         "legendgroup": "Company_1",
         "line": {
          "color": "#EF553B",
          "dash": "solid"
         },
         "marker": {
          "size": 8,
          "symbol": "circle"
         },
         "mode": "lines+markers",
         "name": "Company_1",
         "orientation": "v",
         "showlegend": true,
         "type": "scatter",
         "x": [
          2015,
          2016,
          2017,
          2018,
          2019,
          2020,
          2021,
          2022,
          2023
         ],
         "xaxis": "x",
         "y": [
          1.9073662084026262,
          -0.509667063753571,
          1.7244611818699405,
          0.9884278508543993,
          1.0929874159825137,
          0.45459748561645696,
          0.5700726806150354,
          1.8602005509937607,
          1.331553689418834
         ],
         "yaxis": "y"
        }
       ],
       "layout": {
        "legend": {
         "title": {
          "text": "Type"
         },
         "tracegroupgap": 0
        },
        "template": {
         "data": {
          "bar": [
           {
            "error_x": {
             "color": "#2a3f5f"
            },
            "error_y": {
             "color": "#2a3f5f"
            },
            "marker": {
             "line": {
              "color": "#E5ECF6",
              "width": 0.5
             },
             "pattern": {
              "fillmode": "overlay",
              "size": 10,
              "solidity": 0.2
             }
            },
            "type": "bar"
           }
          ],
          "barpolar": [
           {
            "marker": {
             "line": {
              "color": "#E5ECF6",
              "width": 0.5
             },
             "pattern": {
              "fillmode": "overlay",
              "size": 10,
              "solidity": 0.2
             }
            },
            "type": "barpolar"
           }
          ],
          "carpet": [
           {
            "aaxis": {
             "endlinecolor": "#2a3f5f",
             "gridcolor": "white",
             "linecolor": "white",
             "minorgridcolor": "white",
             "startlinecolor": "#2a3f5f"
            },
            "baxis": {
             "endlinecolor": "#2a3f5f",
             "gridcolor": "white",
             "linecolor": "white",
             "minorgridcolor": "white",
             "startlinecolor": "#2a3f5f"
            },
            "type": "carpet"
           }
          ],
          "choropleth": [
           {
            "colorbar": {
             "outlinewidth": 0,
             "ticks": ""
            },
            "type": "choropleth"
           }
          ],
          "contour": [
           {
            "colorbar": {
             "outlinewidth": 0,
             "ticks": ""
            },
            "colorscale": [
             [
              0,
              "#0d0887"
             ],
             [
              0.1111111111111111,
              "#46039f"
             ],
             [
              0.2222222222222222,
              "#7201a8"
             ],
             [
              0.3333333333333333,
              "#9c179e"
             ],
             [
              0.4444444444444444,
              "#bd3786"
             ],
             [
              0.5555555555555556,
              "#d8576b"
             ],
             [
              0.6666666666666666,
              "#ed7953"
             ],
             [
              0.7777777777777778,
              "#fb9f3a"
             ],
             [
              0.8888888888888888,
              "#fdca26"
             ],
             [
              1,
              "#f0f921"
             ]
            ],
            "type": "contour"
           }
          ],
          "contourcarpet": [
           {
            "colorbar": {
             "outlinewidth": 0,
             "ticks": ""
            },
            "type": "contourcarpet"
           }
          ],
          "heatmap": [
           {
            "colorbar": {
             "outlinewidth": 0,
             "ticks": ""
            },
            "colorscale": [
             [
              0,
              "#0d0887"
             ],
             [
              0.1111111111111111,
              "#46039f"
             ],
             [
              0.2222222222222222,
              "#7201a8"
             ],
             [
              0.3333333333333333,
              "#9c179e"
             ],
             [
              0.4444444444444444,
              "#bd3786"
             ],
             [
              0.5555555555555556,
              "#d8576b"
             ],
             [
              0.6666666666666666,
              "#ed7953"
             ],
             [
              0.7777777777777778,
              "#fb9f3a"
             ],
             [
              0.8888888888888888,
              "#fdca26"
             ],
             [
              1,
              "#f0f921"
             ]
            ],
            "type": "heatmap"
           }
          ],
          "heatmapgl": [
           {
            "colorbar": {
             "outlinewidth": 0,
             "ticks": ""
            },
            "colorscale": [
             [
              0,
              "#0d0887"
             ],
             [
              0.1111111111111111,
              "#46039f"
             ],
             [
              0.2222222222222222,
              "#7201a8"
             ],
             [
              0.3333333333333333,
              "#9c179e"
             ],
             [
              0.4444444444444444,
              "#bd3786"
             ],
             [
              0.5555555555555556,
              "#d8576b"
             ],
             [
              0.6666666666666666,
              "#ed7953"
             ],
             [
              0.7777777777777778,
              "#fb9f3a"
             ],
             [
              0.8888888888888888,
              "#fdca26"
             ],
             [
              1,
              "#f0f921"
             ]
            ],
            "type": "heatmapgl"
           }
          ],
          "histogram": [
           {
            "marker": {
             "pattern": {
              "fillmode": "overlay",
              "size": 10,
              "solidity": 0.2
             }
            },
            "type": "histogram"
           }
          ],
          "histogram2d": [
           {
            "colorbar": {
             "outlinewidth": 0,
             "ticks": ""
            },
            "colorscale": [
             [
              0,
              "#0d0887"
             ],
             [
              0.1111111111111111,
              "#46039f"
             ],
             [
              0.2222222222222222,
              "#7201a8"
             ],
             [
              0.3333333333333333,
              "#9c179e"
             ],
             [
              0.4444444444444444,
              "#bd3786"
             ],
             [
              0.5555555555555556,
              "#d8576b"
             ],
             [
              0.6666666666666666,
              "#ed7953"
             ],
             [
              0.7777777777777778,
              "#fb9f3a"
             ],
             [
              0.8888888888888888,
              "#fdca26"
             ],
             [
              1,
              "#f0f921"
             ]
            ],
            "type": "histogram2d"
           }
          ],
          "histogram2dcontour": [
           {
            "colorbar": {
             "outlinewidth": 0,
             "ticks": ""
            },
            "colorscale": [
             [
              0,
              "#0d0887"
             ],
             [
              0.1111111111111111,
              "#46039f"
             ],
             [
              0.2222222222222222,
              "#7201a8"
             ],
             [
              0.3333333333333333,
              "#9c179e"
             ],
             [
              0.4444444444444444,
              "#bd3786"
             ],
             [
              0.5555555555555556,
              "#d8576b"
             ],
             [
              0.6666666666666666,
              "#ed7953"
             ],
             [
              0.7777777777777778,
              "#fb9f3a"
             ],
             [
              0.8888888888888888,
              "#fdca26"
             ],
             [
              1,
              "#f0f921"
             ]
            ],
            "type": "histogram2dcontour"
           }
          ],
          "mesh3d": [
           {
            "colorbar": {
             "outlinewidth": 0,
             "ticks": ""
            },
            "type": "mesh3d"
           }
          ],
          "parcoords": [
           {
            "line": {
             "colorbar": {
              "outlinewidth": 0,
              "ticks": ""
             }
            },
            "type": "parcoords"
           }
          ],
          "pie": [
           {
            "automargin": true,
            "type": "pie"
           }
          ],
          "scatter": [
           {
            "fillpattern": {
             "fillmode": "overlay",
             "size": 10,
             "solidity": 0.2
            },
            "type": "scatter"
           }
          ],
          "scatter3d": [
           {
            "line": {
             "colorbar": {
              "outlinewidth": 0,
              "ticks": ""
             }
            },
            "marker": {
             "colorbar": {
              "outlinewidth": 0,
              "ticks": ""
             }
            },
            "type": "scatter3d"
           }
          ],
          "scattercarpet": [
           {
            "marker": {
             "colorbar": {
              "outlinewidth": 0,
              "ticks": ""
             }
            },
            "type": "scattercarpet"
           }
          ],
          "scattergeo": [
           {
            "marker": {
             "colorbar": {
              "outlinewidth": 0,
              "ticks": ""
             }
            },
            "type": "scattergeo"
           }
          ],
          "scattergl": [
           {
            "marker": {
             "colorbar": {
              "outlinewidth": 0,
              "ticks": ""
             }
            },
            "type": "scattergl"
           }
          ],
          "scattermapbox": [
           {
            "marker": {
             "colorbar": {
              "outlinewidth": 0,
              "ticks": ""
             }
            },
            "type": "scattermapbox"
           }
          ],
          "scatterpolar": [
           {
            "marker": {
             "colorbar": {
              "outlinewidth": 0,
              "ticks": ""
             }
            },
            "type": "scatterpolar"
           }
          ],
          "scatterpolargl": [
           {
            "marker": {
             "colorbar": {
              "outlinewidth": 0,
              "ticks": ""
             }
            },
            "type": "scatterpolargl"
           }
          ],
          "scatterternary": [
           {
            "marker": {
             "colorbar": {
              "outlinewidth": 0,
              "ticks": ""
             }
            },
            "type": "scatterternary"
           }
          ],
          "surface": [
           {
            "colorbar": {
             "outlinewidth": 0,
             "ticks": ""
            },
            "colorscale": [
             [
              0,
              "#0d0887"
             ],
             [
              0.1111111111111111,
              "#46039f"
             ],
             [
              0.2222222222222222,
              "#7201a8"
             ],
             [
              0.3333333333333333,
              "#9c179e"
             ],
             [
              0.4444444444444444,
              "#bd3786"
             ],
             [
              0.5555555555555556,
              "#d8576b"
             ],
             [
              0.6666666666666666,
              "#ed7953"
             ],
             [
              0.7777777777777778,
              "#fb9f3a"
             ],
             [
              0.8888888888888888,
              "#fdca26"
             ],
             [
              1,
              "#f0f921"
             ]
            ],
            "type": "surface"
           }
          ],
          "table": [
           {
            "cells": {
             "fill": {
              "color": "#EBF0F8"
             },
             "line": {
              "color": "white"
             }
            },
            "header": {
             "fill": {
              "color": "#C8D4E3"
             },
             "line": {
              "color": "white"
             }
            },
            "type": "table"
           }
          ]
         },
         "layout": {
          "annotationdefaults": {
           "arrowcolor": "#2a3f5f",
           "arrowhead": 0,
           "arrowwidth": 1
          },
          "autotypenumbers": "strict",
          "coloraxis": {
           "colorbar": {
            "outlinewidth": 0,
            "ticks": ""
           }
          },
          "colorscale": {
           "diverging": [
            [
             0,
             "#8e0152"
            ],
            [
             0.1,
             "#c51b7d"
            ],
            [
             0.2,
             "#de77ae"
            ],
            [
             0.3,
             "#f1b6da"
            ],
            [
             0.4,
             "#fde0ef"
            ],
            [
             0.5,
             "#f7f7f7"
            ],
            [
             0.6,
             "#e6f5d0"
            ],
            [
             0.7,
             "#b8e186"
            ],
            [
             0.8,
             "#7fbc41"
            ],
            [
             0.9,
             "#4d9221"
            ],
            [
             1,
             "#276419"
            ]
           ],
           "sequential": [
            [
             0,
             "#0d0887"
            ],
            [
             0.1111111111111111,
             "#46039f"
            ],
            [
             0.2222222222222222,
             "#7201a8"
            ],
            [
             0.3333333333333333,
             "#9c179e"
            ],
            [
             0.4444444444444444,
             "#bd3786"
            ],
            [
             0.5555555555555556,
             "#d8576b"
            ],
            [
             0.6666666666666666,
             "#ed7953"
            ],
            [
             0.7777777777777778,
             "#fb9f3a"
            ],
            [
             0.8888888888888888,
             "#fdca26"
            ],
            [
             1,
             "#f0f921"
            ]
           ],
           "sequentialminus": [
            [
             0,
             "#0d0887"
            ],
            [
             0.1111111111111111,
             "#46039f"
            ],
            [
             0.2222222222222222,
             "#7201a8"
            ],
            [
             0.3333333333333333,
             "#9c179e"
            ],
            [
             0.4444444444444444,
             "#bd3786"
            ],
            [
             0.5555555555555556,
             "#d8576b"
            ],
            [
             0.6666666666666666,
             "#ed7953"
            ],
            [
             0.7777777777777778,
             "#fb9f3a"
            ],
            [
             0.8888888888888888,
             "#fdca26"
            ],
            [
             1,
             "#f0f921"
            ]
           ]
          },
          "colorway": [
           "#636efa",
           "#EF553B",
           "#00cc96",
           "#ab63fa",
           "#FFA15A",
           "#19d3f3",
           "#FF6692",
           "#B6E880",
           "#FF97FF",
           "#FECB52"
          ],
          "font": {
           "color": "#2a3f5f"
          },
          "geo": {
           "bgcolor": "white",
           "lakecolor": "white",
           "landcolor": "#E5ECF6",
           "showlakes": true,
           "showland": true,
           "subunitcolor": "white"
          },
          "hoverlabel": {
           "align": "left"
          },
          "hovermode": "closest",
          "mapbox": {
           "style": "light"
          },
          "paper_bgcolor": "white",
          "plot_bgcolor": "#E5ECF6",
          "polar": {
           "angularaxis": {
            "gridcolor": "white",
            "linecolor": "white",
            "ticks": ""
           },
           "bgcolor": "#E5ECF6",
           "radialaxis": {
            "gridcolor": "white",
            "linecolor": "white",
            "ticks": ""
           }
          },
          "scene": {
           "xaxis": {
            "backgroundcolor": "#E5ECF6",
            "gridcolor": "white",
            "gridwidth": 2,
            "linecolor": "white",
            "showbackground": true,
            "ticks": "",
            "zerolinecolor": "white"
           },
           "yaxis": {
            "backgroundcolor": "#E5ECF6",
            "gridcolor": "white",
            "gridwidth": 2,
            "linecolor": "white",
            "showbackground": true,
            "ticks": "",
            "zerolinecolor": "white"
           },
           "zaxis": {
            "backgroundcolor": "#E5ECF6",
            "gridcolor": "white",
            "gridwidth": 2,
            "linecolor": "white",
            "showbackground": true,
            "ticks": "",
            "zerolinecolor": "white"
           }
          },
          "shapedefaults": {
           "line": {
            "color": "#2a3f5f"
           }
          },
          "ternary": {
           "aaxis": {
            "gridcolor": "white",
            "linecolor": "white",
            "ticks": ""
           },
           "baxis": {
            "gridcolor": "white",
            "linecolor": "white",
            "ticks": ""
           },
           "bgcolor": "#E5ECF6",
           "caxis": {
            "gridcolor": "white",
            "linecolor": "white",
            "ticks": ""
           }
          },
          "title": {
           "x": 0.05
          },
          "xaxis": {
           "automargin": true,
           "gridcolor": "white",
           "linecolor": "white",
           "ticks": "",
           "title": {
            "standoff": 15
           },
           "zerolinecolor": "white",
           "zerolinewidth": 2
          },
          "yaxis": {
           "automargin": true,
           "gridcolor": "white",
           "linecolor": "white",
           "ticks": "",
           "title": {
            "standoff": 15
           },
           "zerolinecolor": "white",
           "zerolinewidth": 2
          }
         }
        },
        "title": {
         "text": "Environment score trend of the technology industry"
        },
        "xaxis": {
         "anchor": "y",
         "domain": [
          0,
          1
         ],
         "title": {
          "text": "Year"
         }
        },
        "yaxis": {
         "anchor": "x",
         "domain": [
          0,
          1
         ],
         "title": {
          "text": "predicted_score"
         }
        }
       }
      }
     },
     "metadata": {},
     "output_type": "display_data"
    }
   ],
   "source": [
    "fig_e_trend = px.line(e_plot_data, x = \"Year\", y = \"predicted_score\", color = \"Type\",\n",
    "                      markers = True, \n",
    "                      title = \"Environment score trend of the technology industry\")\n",
    "\n",
    "fig_e_trend.update_traces(\n",
    "    hovertemplate = 'Year: %{x} <br> Environment Score: %{y} <extra></extra>', \n",
    "    marker = dict(size = 8)\n",
    ")\n",
    "\n",
    "fig_e_trend.show()"
   ]
  }
 ],
 "metadata": {
  "kernelspec": {
   "display_name": "Python 3",
   "language": "python",
   "name": "python3"
  },
  "language_info": {
   "codemirror_mode": {
    "name": "ipython",
    "version": 3
   },
   "file_extension": ".py",
   "mimetype": "text/x-python",
   "name": "python",
   "nbconvert_exporter": "python",
   "pygments_lexer": "ipython3",
   "version": "3.12.6"
  }
 },
 "nbformat": 4,
 "nbformat_minor": 2
}
