{
 "cells": [
  {
   "cell_type": "code",
   "execution_count": null,
   "metadata": {},
   "outputs": [],
   "source": [
    "import pandas as pd\n",
    "import sys\n",
    "import os\n",
    "\n",
    "# Set dir\n",
    "thisfile_dir = os.path.dirname(os.path.abspath(__file__))\n",
    "dir_cur = os.path.join(thisfile_dir, '..','outputs','extracted_data')\n",
    "print(\"Target Directory:\", dir_cur)\n",
    "\n",
    "xlsx_file = \"test.pdf.xlsx\"\n",
    "input_file = os.path.join(f\"{dir_cur}\", xlsx_file)\n",
    "data = pd.read_excel(input_file)\n",
    "\n",
    "# Load summary.xlsx\n",
    "summary_writer = pd.ExcelWriter('summary.xlsx', engine='openpyxl', mode='a', if_sheet_exists='overlay')\n",
    "summary = pd.ExcelFile('summary.xlsx')"
   ]
  },
  {
   "cell_type": "code",
   "execution_count": null,
   "metadata": {},
   "outputs": [],
   "source": [
    "# Create a new column as desired\n",
    "data['column_name'] = data.apply(lambda x: f\"{x['label']} ({x['metric']}) ({x['unit']})\", axis=1)\n",
    "\n",
    "# Pivot the table\n",
    "summary_data = data.pivot(index='year', columns='column_name', values='value')\n",
    "\n",
    "# The summary_data DataFrame now contains the restructured information\n",
    "print(summary_data)\n"
   ]
  },
  {
   "cell_type": "code",
   "execution_count": null,
   "metadata": {},
   "outputs": [],
   "source": [
    "def append_to_sheet(sheet_name, filter_label):\n",
    "    sheet_data = pd.read_excel(summary, sheet_name=sheet_name)\n",
    "    filtered_data = data[data['label'].str.contains(filter_label, case=False)]\n",
    "    \n",
    "    # Convert units as needed (e.g., GJ to MWhs)\n",
    "    for i, row in filtered_data.iterrows():\n",
    "        if row['unit'] == 'GJ':\n",
    "            filtered_data.at[i, 'value'] = row['value'] / 3.6\n",
    "            filtered_data.at[i, 'unit'] = 'MWhs'\n",
    "    \n",
    "    # Further processing to align the data with the sheet's existing data structure might be needed here...\n",
    "\n",
    "    new_rows = filtered_data.drop(columns=['label', 'metric', 'unit']).copy()\n",
    "    new_rows['Company Name'] = 'input name'  # Add company name\n",
    "    new_rows = new_rows[['Company Name'] + list(new_rows.columns[:-1])]  # Reorder columns if needed\n",
    "\n",
    "    # Append to the sheet\n",
    "    sheet_data = pd.concat([sheet_data, new_rows], ignore_index=True)\n",
    "    sheet_data.to_excel(summary_writer, sheet_name=sheet_name, index=False)\n",
    "\n",
    "# Append data to 'E' sheet\n",
    "append_to_sheet('E', 'Energy Consumption')\n",
    "\n",
    "# Append data to 'S' sheet\n",
    "# Use appropriate filter_label like 'Gender Diversity', 'Age-Based Diversity', etc.\n",
    "\n",
    "# Append data to 'G' sheet\n",
    "# Use appropriate filter_label like 'Board Composition', 'Ethical Behaviour', etc.\n",
    "\n",
    "# Save the updated summary\n",
    "summary_writer.save()\n",
    "summary_writer.close()\n",
    "\n",
    "print(\"Data successfully appended to summary.xlsx\")"
   ]
  }
 ],
 "metadata": {
  "language_info": {
   "name": "python"
  }
 },
 "nbformat": 4,
 "nbformat_minor": 2
}
