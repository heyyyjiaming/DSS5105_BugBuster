{
 "cells": [
  {
   "cell_type": "markdown",
   "metadata": {},
   "source": [
    "# History Stock Price"
   ]
  },
  {
   "cell_type": "code",
   "execution_count": 2,
   "metadata": {},
   "outputs": [
    {
     "name": "stderr",
     "output_type": "stream",
     "text": [
      "[*********************100%***********************]  1 of 1 completed"
     ]
    },
    {
     "name": "stdout",
     "output_type": "stream",
     "text": [
      "Price                     Adj Close  Close   High    Low   Open    Volume\n",
      "Ticker                       Z74.SI Z74.SI Z74.SI Z74.SI Z74.SI    Z74.SI\n",
      "Date                                                                     \n",
      "2023-11-09 00:00:00+00:00  2.347563   2.40   2.41   2.38   2.38  24847100\n",
      "2023-11-10 00:00:00+00:00  2.308437   2.36   2.39   2.33   2.38  36265300\n",
      "2023-11-14 00:00:00+00:00  2.298655   2.35   2.37   2.33   2.36  33115700\n",
      "2023-11-15 00:00:00+00:00  2.328000   2.38   2.39   2.35   2.39  22847400\n",
      "2023-11-16 00:00:00+00:00  2.328000   2.38   2.39   2.35   2.37  21253200\n"
     ]
    },
    {
     "name": "stderr",
     "output_type": "stream",
     "text": [
      "\n"
     ]
    }
   ],
   "source": [
    "import yfinance as yf\n",
    "import pandas as pd\n",
    "from datetime import datetime, timedelta\n",
    "\n",
    "# 设置股票代码（Singtel 在雅虎财经的代码）\n",
    "stock_symbol = \"Z74.SI\"  # \"Z74.SI\" 是 Singtel 在雅虎财经上的代码\n",
    "\n",
    "# 设置时间范围：过去一年\n",
    "end_date = datetime.today()\n",
    "start_date = end_date - timedelta(days=365)\n",
    "\n",
    "# 获取股价数据\n",
    "singtel_data = yf.download(stock_symbol, start=start_date, end=end_date)\n",
    "\n",
    "# 展示获取的数据\n",
    "print(singtel_data.head())\n",
    "singtel_data.to_csv('singtel_data.csv')？"
   ]
  },
  {
   "cell_type": "markdown",
   "metadata": {},
   "source": [
    "#"
   ]
  },
  {
   "cell_type": "code",
   "execution_count": 9,
   "metadata": {},
   "outputs": [],
   "source": [
    "from selenium import webdriver\n",
    "from webdriver_manager.chrome import ChromeDriverManager\n",
    "\n",
    "driver = webdriver.Chrome(ChromeDriverManager().install())"
   ]
  },
  {
   "cell_type": "code",
   "execution_count": 7,
   "metadata": {},
   "outputs": [
    {
     "ename": "NoSuchWindowException",
     "evalue": "Message: no such window: target window already closed\nfrom unknown error: web view not found\n  (Session info: chrome=130.0.6723.117)\nStacktrace:\n0   chromedriver                        0x0000000102b495dc cxxbridge1$str$ptr + 3653648\n1   chromedriver                        0x0000000102b41e3c cxxbridge1$str$ptr + 3623024\n2   chromedriver                        0x00000001025ac100 cxxbridge1$string$len + 88404\n3   chromedriver                        0x0000000102587b78 core::str::slice_error_fail::h1cab30ac4b13c655 + 3792\n4   chromedriver                        0x0000000102614664 cxxbridge1$string$len + 515768\n5   chromedriver                        0x0000000102627630 cxxbridge1$string$len + 593540\n6   chromedriver                        0x00000001025e30fc cxxbridge1$string$len + 313680\n7   chromedriver                        0x00000001025e3d4c cxxbridge1$string$len + 316832\n8   chromedriver                        0x0000000102b1464c cxxbridge1$str$ptr + 3436672\n9   chromedriver                        0x0000000102b17988 cxxbridge1$str$ptr + 3449788\n10  chromedriver                        0x0000000102afba5c cxxbridge1$str$ptr + 3335312\n11  chromedriver                        0x0000000102b1824c cxxbridge1$str$ptr + 3452032\n12  chromedriver                        0x0000000102aecce8 cxxbridge1$str$ptr + 3274524\n13  chromedriver                        0x0000000102b329dc cxxbridge1$str$ptr + 3560464\n14  chromedriver                        0x0000000102b32b58 cxxbridge1$str$ptr + 3560844\n15  chromedriver                        0x0000000102b41ad4 cxxbridge1$str$ptr + 3622152\n16  libsystem_pthread.dylib             0x000000018c5d1f94 _pthread_start + 136\n17  libsystem_pthread.dylib             0x000000018c5ccd34 thread_start + 8\n",
     "output_type": "error",
     "traceback": [
      "\u001b[0;31m---------------------------------------------------------------------------\u001b[0m",
      "\u001b[0;31mNoSuchWindowException\u001b[0m                     Traceback (most recent call last)",
      "Cell \u001b[0;32mIn[7], line 17\u001b[0m\n\u001b[1;32m     14\u001b[0m time\u001b[38;5;241m.\u001b[39msleep(\u001b[38;5;241m5\u001b[39m)  \u001b[38;5;66;03m# 根据需要调整时间\u001b[39;00m\n\u001b[1;32m     16\u001b[0m \u001b[38;5;66;03m# 获取页面HTML并解析\u001b[39;00m\n\u001b[0;32m---> 17\u001b[0m soup \u001b[38;5;241m=\u001b[39m BeautifulSoup(\u001b[43mdriver\u001b[49m\u001b[38;5;241;43m.\u001b[39;49m\u001b[43mpage_source\u001b[49m, \u001b[38;5;124m'\u001b[39m\u001b[38;5;124mhtml.parser\u001b[39m\u001b[38;5;124m'\u001b[39m)\n\u001b[1;32m     19\u001b[0m \u001b[38;5;66;03m# 找到包含Ratios的表格\u001b[39;00m\n\u001b[1;32m     20\u001b[0m ratios_table \u001b[38;5;241m=\u001b[39m soup\u001b[38;5;241m.\u001b[39mfind(\u001b[38;5;124m'\u001b[39m\u001b[38;5;124mtable\u001b[39m\u001b[38;5;124m'\u001b[39m, class_\u001b[38;5;241m=\u001b[39m\u001b[38;5;124m'\u001b[39m\u001b[38;5;124mfinancial-ratios\u001b[39m\u001b[38;5;124m'\u001b[39m)  \u001b[38;5;66;03m# 修改为实际的class名称\u001b[39;00m\n",
      "File \u001b[0;32m/opt/anaconda3/envs/virtualenvironment5105/lib/python3.12/site-packages/selenium/webdriver/remote/webdriver.py:481\u001b[0m, in \u001b[0;36mWebDriver.page_source\u001b[0;34m(self)\u001b[0m\n\u001b[1;32m    472\u001b[0m \u001b[38;5;129m@property\u001b[39m\n\u001b[1;32m    473\u001b[0m \u001b[38;5;28;01mdef\u001b[39;00m \u001b[38;5;21mpage_source\u001b[39m(\u001b[38;5;28mself\u001b[39m) \u001b[38;5;241m-\u001b[39m\u001b[38;5;241m>\u001b[39m \u001b[38;5;28mstr\u001b[39m:\n\u001b[1;32m    474\u001b[0m \u001b[38;5;250m    \u001b[39m\u001b[38;5;124;03m\"\"\"Gets the source of the current page.\u001b[39;00m\n\u001b[1;32m    475\u001b[0m \n\u001b[1;32m    476\u001b[0m \u001b[38;5;124;03m    :Usage:\u001b[39;00m\n\u001b[0;32m   (...)\u001b[0m\n\u001b[1;32m    479\u001b[0m \u001b[38;5;124;03m            driver.page_source\u001b[39;00m\n\u001b[1;32m    480\u001b[0m \u001b[38;5;124;03m    \"\"\"\u001b[39;00m\n\u001b[0;32m--> 481\u001b[0m     \u001b[38;5;28;01mreturn\u001b[39;00m \u001b[38;5;28;43mself\u001b[39;49m\u001b[38;5;241;43m.\u001b[39;49m\u001b[43mexecute\u001b[49m\u001b[43m(\u001b[49m\u001b[43mCommand\u001b[49m\u001b[38;5;241;43m.\u001b[39;49m\u001b[43mGET_PAGE_SOURCE\u001b[49m\u001b[43m)\u001b[49m[\u001b[38;5;124m\"\u001b[39m\u001b[38;5;124mvalue\u001b[39m\u001b[38;5;124m\"\u001b[39m]\n",
      "File \u001b[0;32m/opt/anaconda3/envs/virtualenvironment5105/lib/python3.12/site-packages/selenium/webdriver/remote/webdriver.py:380\u001b[0m, in \u001b[0;36mWebDriver.execute\u001b[0;34m(self, driver_command, params)\u001b[0m\n\u001b[1;32m    378\u001b[0m response \u001b[38;5;241m=\u001b[39m \u001b[38;5;28mself\u001b[39m\u001b[38;5;241m.\u001b[39mcommand_executor\u001b[38;5;241m.\u001b[39mexecute(driver_command, params)\n\u001b[1;32m    379\u001b[0m \u001b[38;5;28;01mif\u001b[39;00m response:\n\u001b[0;32m--> 380\u001b[0m     \u001b[38;5;28;43mself\u001b[39;49m\u001b[38;5;241;43m.\u001b[39;49m\u001b[43merror_handler\u001b[49m\u001b[38;5;241;43m.\u001b[39;49m\u001b[43mcheck_response\u001b[49m\u001b[43m(\u001b[49m\u001b[43mresponse\u001b[49m\u001b[43m)\u001b[49m\n\u001b[1;32m    381\u001b[0m     response[\u001b[38;5;124m\"\u001b[39m\u001b[38;5;124mvalue\u001b[39m\u001b[38;5;124m\"\u001b[39m] \u001b[38;5;241m=\u001b[39m \u001b[38;5;28mself\u001b[39m\u001b[38;5;241m.\u001b[39m_unwrap_value(response\u001b[38;5;241m.\u001b[39mget(\u001b[38;5;124m\"\u001b[39m\u001b[38;5;124mvalue\u001b[39m\u001b[38;5;124m\"\u001b[39m, \u001b[38;5;28;01mNone\u001b[39;00m))\n\u001b[1;32m    382\u001b[0m     \u001b[38;5;28;01mreturn\u001b[39;00m response\n",
      "File \u001b[0;32m/opt/anaconda3/envs/virtualenvironment5105/lib/python3.12/site-packages/selenium/webdriver/remote/errorhandler.py:229\u001b[0m, in \u001b[0;36mErrorHandler.check_response\u001b[0;34m(self, response)\u001b[0m\n\u001b[1;32m    227\u001b[0m         alert_text \u001b[38;5;241m=\u001b[39m value[\u001b[38;5;124m\"\u001b[39m\u001b[38;5;124malert\u001b[39m\u001b[38;5;124m\"\u001b[39m]\u001b[38;5;241m.\u001b[39mget(\u001b[38;5;124m\"\u001b[39m\u001b[38;5;124mtext\u001b[39m\u001b[38;5;124m\"\u001b[39m)\n\u001b[1;32m    228\u001b[0m     \u001b[38;5;28;01mraise\u001b[39;00m exception_class(message, screen, stacktrace, alert_text)  \u001b[38;5;66;03m# type: ignore[call-arg]  # mypy is not smart enough here\u001b[39;00m\n\u001b[0;32m--> 229\u001b[0m \u001b[38;5;28;01mraise\u001b[39;00m exception_class(message, screen, stacktrace)\n",
      "\u001b[0;31mNoSuchWindowException\u001b[0m: Message: no such window: target window already closed\nfrom unknown error: web view not found\n  (Session info: chrome=130.0.6723.117)\nStacktrace:\n0   chromedriver                        0x0000000102b495dc cxxbridge1$str$ptr + 3653648\n1   chromedriver                        0x0000000102b41e3c cxxbridge1$str$ptr + 3623024\n2   chromedriver                        0x00000001025ac100 cxxbridge1$string$len + 88404\n3   chromedriver                        0x0000000102587b78 core::str::slice_error_fail::h1cab30ac4b13c655 + 3792\n4   chromedriver                        0x0000000102614664 cxxbridge1$string$len + 515768\n5   chromedriver                        0x0000000102627630 cxxbridge1$string$len + 593540\n6   chromedriver                        0x00000001025e30fc cxxbridge1$string$len + 313680\n7   chromedriver                        0x00000001025e3d4c cxxbridge1$string$len + 316832\n8   chromedriver                        0x0000000102b1464c cxxbridge1$str$ptr + 3436672\n9   chromedriver                        0x0000000102b17988 cxxbridge1$str$ptr + 3449788\n10  chromedriver                        0x0000000102afba5c cxxbridge1$str$ptr + 3335312\n11  chromedriver                        0x0000000102b1824c cxxbridge1$str$ptr + 3452032\n12  chromedriver                        0x0000000102aecce8 cxxbridge1$str$ptr + 3274524\n13  chromedriver                        0x0000000102b329dc cxxbridge1$str$ptr + 3560464\n14  chromedriver                        0x0000000102b32b58 cxxbridge1$str$ptr + 3560844\n15  chromedriver                        0x0000000102b41ad4 cxxbridge1$str$ptr + 3622152\n16  libsystem_pthread.dylib             0x000000018c5d1f94 _pthread_start + 136\n17  libsystem_pthread.dylib             0x000000018c5ccd34 thread_start + 8\n"
     ]
    }
   ],
   "source": [
    "from selenium import webdriver\n",
    "from bs4 import BeautifulSoup\n",
    "import pandas as pd\n",
    "import time\n",
    "\n",
    "# 启动WebDriver\n",
    "driver = webdriver.Chrome()  # 请确保您已经安装了ChromeDriver\n",
    "\n",
    "# 打开网页\n",
    "url = \"https://investors.sgx.com/stock-screener\"\n",
    "driver.get(url)\n",
    "\n",
    "# 等待页面加载\n",
    "time.sleep(5)  # 根据需要调整时间\n",
    "\n",
    "# 获取页面HTML并解析\n",
    "soup = BeautifulSoup(driver.page_source, 'html.parser')\n",
    "\n",
    "# 找到包含Ratios的表格\n",
    "ratios_table = soup.find('table', class_='financial-ratios')  # 修改为实际的class名称\n",
    "\n",
    "# 检查是否找到表格\n",
    "if ratios_table:\n",
    "    # 解析表格内容\n",
    "    data = []\n",
    "    headers = [th.text.strip() for th in ratios_table.find_all('th')]\n",
    "    for row in ratios_table.find_all('tr')[1:]:  # 跳过标题行\n",
    "        cols = [td.text.strip() for td in row.find_all('td')]\n",
    "        data.append(cols)\n",
    "\n",
    "    # 将数据转换为DataFrame\n",
    "    ratios_df = pd.DataFrame(data, columns=headers)\n",
    "    print(ratios_df)\n",
    "else:\n",
    "    print(\"未找到Ratios表格，请检查class名称或页面加载方式。\")\n",
    "\n",
    "# 关闭浏览器\n",
    "driver.quit()\n"
   ]
  },
  {
   "cell_type": "code",
   "execution_count": null,
   "metadata": {},
   "outputs": [],
   "source": []
  }
 ],
 "metadata": {
  "kernelspec": {
   "display_name": "virtualenvironment5105",
   "language": "python",
   "name": "python3"
  },
  "language_info": {
   "codemirror_mode": {
    "name": "ipython",
    "version": 3
   },
   "file_extension": ".py",
   "mimetype": "text/x-python",
   "name": "python",
   "nbconvert_exporter": "python",
   "pygments_lexer": "ipython3",
   "version": "3.12.4"
  }
 },
 "nbformat": 4,
 "nbformat_minor": 2
}
