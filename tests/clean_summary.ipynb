{
 "cells": [
  {
   "cell_type": "code",
   "execution_count": 13,
   "metadata": {},
   "outputs": [
    {
     "name": "stdout",
     "output_type": "stream",
     "text": [
      "summary_path: d:\\GitHub\\DSS5105_BugBuster\\tests\\..\\outputs\\Summary_table.xlsx\n"
     ]
    }
   ],
   "source": [
    "import pandas as pd\n",
    "import os\n",
    "\n",
    "thisfile_dir = os.getcwd()\n",
    "dir_cur = os.path.join(thisfile_dir, '..')\n",
    "\n",
    "summary_path = os.path.join(dir_cur, 'outputs', 'Summary_table.xlsx')\n",
    "output_file_path = os.path.join(dir_cur, 'outputs', 'Merged_Summary_table.xlsx')\n",
    "\n",
    "print(\"summary_path:\", summary_path)"
   ]
  },
  {
   "cell_type": "code",
   "execution_count": 14,
   "metadata": {},
   "outputs": [
    {
     "name": "stdout",
     "output_type": "stream",
     "text": [
      "PDF 文件名映射格式:\n",
      "    '07_Synagie-Sustainability-Report-Final.pdf': '07_Synagie-Sustainability-Report-Final.pdf',\n",
      "    '13_Synagie_Annual_Report_2018.pdf': '13_Synagie_Annual_Report_2018.pdf',\n",
      "    '179-press-release.pdf': '179-press-release.pdf',\n",
      "    '194-press-release.pdf': '194-press-release.pdf',\n",
      "    '2018-sustainability-report.pdf': '2018-sustainability-report.pdf',\n",
      "    '20180410_170551_AWV_G500CE82YSO99ZOS.1.pdf': '20180410_170551_AWV_G500CE82YSO99ZOS.1.pdf',\n",
      "    '2019-sustainability-report-english-uk (1).pdf': '2019-sustainability-report-english-uk (1).pdf',\n",
      "    '2019-sustainability-report-english-uk.pdf': '2019-sustainability-report-english-uk.pdf',\n",
      "    '20190409_170827_AWV_5Q7MFZWZQW3MQ202.1.pdf': '20190409_170827_AWV_5Q7MFZWZQW3MQ202.1.pdf',\n",
      "    '2020-sustainability-report.pdf': '2020-sustainability-report.pdf',\n",
      "    '20200408_181618_AWV_W37KHRDWWYJX699G.1.pdf': '20200408_181618_AWV_W37KHRDWWYJX699G.1.pdf',\n",
      "    '2021 Environmental Sustainability_Report.pdf': '2021 Environmental Sustainability_Report.pdf',\n",
      "    '2021-sustainability-report.pdf': '2021-sustainability-report.pdf',\n",
      "    '20210407_171749_AWV_IYU7ATYEKIIK12YT.1.pdf': '20210407_171749_AWV_IYU7ATYEKIIK12YT.1.pdf',\n",
      "    '2022-sustainability-report.pdf': '2022-sustainability-report.pdf',\n",
      "    '20220407_171716_AWV_L5ACWYFIBNOQACYN.1.pdf': '20220407_171716_AWV_L5ACWYFIBNOQACYN.1.pdf',\n",
      "    '20230405_171924_AWV_BAGK8JPLKGMK2SQI.1.pdf': '20230405_171924_AWV_BAGK8JPLKGMK2SQI.1.pdf',\n",
      "    '20230410_Audience_AR_2022.pdf': '20230410_Audience_AR_2022.pdf',\n",
      "    'AAL AR FY2023_Final.pdf': 'AAL AR FY2023_Final.pdf',\n",
      "    'Addvalue-Sustainability_Report_2021.pdf': 'Addvalue-Sustainability_Report_2021.pdf',\n",
      "    'Addvalue-Sustainability_Report_2022.pdf': 'Addvalue-Sustainability_Report_2022.pdf',\n",
      "    'Addvalue_AR2023.pdf': 'Addvalue_AR2023.pdf',\n",
      "    'Addvalue_AR2024.pdf': 'Addvalue_AR2024.pdf',\n",
      "    'Addvalue_SR_FY2018.pdf': 'Addvalue_SR_FY2018.pdf',\n",
      "    'Addvalue_SR_FY2019.pdf': 'Addvalue_SR_FY2019.pdf',\n",
      "    'Addvalue_Sustainability_Report_2020.pdf': 'Addvalue_Sustainability_Report_2020.pdf',\n",
      "    'AEM-Annual-Report-2020.pdf': 'AEM-Annual-Report-2020.pdf',\n",
      "    'AEM-SR2022-1.pdf': 'AEM-SR2022-1.pdf',\n",
      "    'AEM-Sustainability-Report-2021.pdf': 'AEM-Sustainability-Report-2021.pdf',\n",
      "    'Apple_Environmental_Progress_Report_2020.pdf': 'Apple_Environmental_Progress_Report_2020.pdf',\n",
      "    'Apple_Environmental_Progress_Report_2021.pdf': 'Apple_Environmental_Progress_Report_2021.pdf',\n",
      "    'Singtel-Group-Sustainability-Report-2022.pdf': 'Singtel-Group-Sustainability-Report-2022.pdf',\n",
      "    'Singtel-Group-Sustainability-Report-2023.pdf': 'Singtel-Group-Sustainability-Report-2023.pdf',\n",
      "    'Singtel-Group-Sustainability-Report-2024.pdf': 'Singtel-Group-Sustainability-Report-2024.pdf',\n",
      "    'singtel-sustainability-report-2019.pdf': 'singtel-sustainability-report-2019.pdf',\n",
      "    'singtel-sustainability-report-2020.pdf': 'singtel-sustainability-report-2020.pdf',\n",
      "    'singtel-sustainability-report-2021.pdf': 'singtel-sustainability-report-2021.pdf',\n"
     ]
    }
   ],
   "source": [
    "# 读取 Excel 文件\n",
    "df = pd.read_excel(summary_path, sheet_name='E')\n",
    "\n",
    "\n",
    "# 打印出按指定格式输出的PDF文件名\n",
    "print(\"PDF 文件名映射格式:\")\n",
    "pdf_mapping = {filename: filename for filename in pdf_file_names}\n",
    "for key, value in pdf_mapping.items():\n",
    "    print(f\"    '{key}': '{value}',\")"
   ]
  },
  {
   "cell_type": "code",
   "execution_count": 15,
   "metadata": {},
   "outputs": [],
   "source": [
    "# 提供的文件名到公司名的映射字典\n",
    "file_to_company_dict = {\n",
    "    '07_Synagie-Sustainability-Report-Final.pdf': 'Synagie',\n",
    "    '13_Synagie_Annual_Report_2018.pdf': 'Synagie',\n",
    "    '179-press-release.pdf': 'Lazada',\n",
    "    '194-press-release.pdf': 'Lazada',\n",
    "    '2018-sustainability-report.pdf': 'Amazon',\n",
    "    '20180410_170551_AWV_G500CE82YSO99ZOS.1.pdf': 'Captii',\n",
    "    '2019-sustainability-report-english-uk (1).pdf': 'Amazon',\n",
    "    '2019-sustainability-report-english-uk.pdf': 'Amazon',\n",
    "    '20190409_170827_AWV_5Q7MFZWZQW3MQ202.1.pdf': 'Captii',\n",
    "    '2020-sustainability-report.pdf': 'Amazon',\n",
    "    '20200408_181618_AWV_W37KHRDWWYJX699G.1.pdf': 'Captii',\n",
    "    '2021 Environmental Sustainability_Report.pdf': 'Microsoft',\n",
    "    '2021-sustainability-report.pdf': 'Amazon',\n",
    "    '20210407_171749_AWV_IYU7ATYEKIIK12YT.1.pdf': 'Captii',\n",
    "    '2022-sustainability-report.pdf': 'Amazon',\n",
    "    '20220407_171716_AWV_L5ACWYFIBNOQACYN.1.pdf': 'Captii',\n",
    "    '20230405_171924_AWV_BAGK8JPLKGMK2SQI.1.pdf': 'Captii',\n",
    "    '20230410_Audience_AR_2022.pdf': 'AUDIENCE',\n",
    "    'AAL AR FY2023_Final.pdf': 'AAL',\n",
    "    'Addvalue-Sustainability_Report_2021.pdf': 'Addvalue',\n",
    "    'Addvalue-Sustainability_Report_2022.pdf': 'Addvalue',\n",
    "    'Addvalue_AR2023.pdf': 'Addvalue',\n",
    "    'Addvalue_AR2024.pdf': 'Addvalue',\n",
    "    'Addvalue_SR_FY2018.pdf': 'Addvalue',\n",
    "    'Addvalue_SR_FY2019.pdf': 'Addvalue',\n",
    "    'Addvalue_Sustainability_Report_2020.pdf': 'Addvalue',\n",
    "    'AEM-Annual-Report-2020.pdf': 'AEM',\n",
    "    'AEM-SR2022-1.pdf': 'AEM',\n",
    "    'AEM-Sustainability-Report-2021.pdf': 'AEM',\n",
    "    'Apple_Environmental_Progress_Report_2020.pdf': 'Apple',\n",
    "    'Apple_Environmental_Progress_Report_2021.pdf': 'Apple',\n",
    "    'Singtel-Group-Sustainability-Report-2022.pdf': 'Singtel',\n",
    "    'Singtel-Group-Sustainability-Report-2023.pdf': 'Singtel',\n",
    "    'Singtel-Group-Sustainability-Report-2024.pdf': 'Singtel',\n",
    "    'singtel-sustainability-report-2019.pdf': 'Singtel',\n",
    "    'singtel-sustainability-report-2020.pdf': 'Singtel',\n",
    "    'singtel-sustainability-report-2021.pdf': 'Singtel',\n",
    "}\n",
    "\n",
    "# 使用映射字典替换PDF文件名为公司名\n",
    "def replace_file_with_company(filename):\n",
    "    return file_to_company_dict.get(filename, filename)\n",
    "\n",
    "# 应用替换函数\n",
    "df['Company Name'] = df['Company Name'].apply(replace_file_with_company)\n",
    "\n"
   ]
  },
  {
   "cell_type": "code",
   "execution_count": 18,
   "metadata": {},
   "outputs": [
    {
     "name": "stdout",
     "output_type": "stream",
     "text": [
      "合并后的数据已保存到 d:\\GitHub\\DSS5105_BugBuster\\tests\\..\\outputs\\Merged_Summary_table.xlsx\n"
     ]
    }
   ],
   "source": [
    "# 定义一个自定义的聚合函数\n",
    "def custom_aggregate(series):\n",
    "    # 筛选数值型数据\n",
    "    numeric_data = series[pd.to_numeric(series, errors='coerce').notna()]\n",
    "    # 如果有数值型数据，返回其最大值\n",
    "    if not numeric_data.empty:\n",
    "        return numeric_data.max()\n",
    "    else:\n",
    "        # 否则返回第一个非数值型数据\n",
    "        return series.iloc[0]\n",
    "\n",
    "# 使用groupby进行分组并应用自定义聚合函数\n",
    "agg_df = df.groupby(['Company Name', 'Year'], as_index=False).agg(custom_aggregate)\n",
    "\n",
    "# 删除除 'Company Name' 和 'Year' 外，其他列的所有数据为 0 或空的行\n",
    "agg_df = agg_df.loc[\n",
    "    (agg_df.drop(columns=['Company Name', 'Year']).replace(0, pd.NA).notna().any(axis=1))\n",
    "]\n",
    "\n",
    "agg_df.to_excel(output_file_path, index=False)\n",
    "\n",
    "print(f\"合并后的数据已保存到 {output_file_path}\")"
   ]
  }
 ],
 "metadata": {
  "kernelspec": {
   "display_name": "uniflow",
   "language": "python",
   "name": "python3"
  },
  "language_info": {
   "codemirror_mode": {
    "name": "ipython",
    "version": 3
   },
   "file_extension": ".py",
   "mimetype": "text/x-python",
   "name": "python",
   "nbconvert_exporter": "python",
   "pygments_lexer": "ipython3",
   "version": "3.10.15"
  }
 },
 "nbformat": 4,
 "nbformat_minor": 2
}
