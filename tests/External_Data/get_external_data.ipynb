{
 "cells": [
  {
   "cell_type": "code",
   "execution_count": null,
   "metadata": {},
   "outputs": [],
   "source": [
    "# %pip install transformers\n",
    "# %pipi install tensorflow\n",
    "# %pip install tf-keras\n",
    "# %pip install python-dotenv"
   ]
  },
  {
   "cell_type": "code",
   "execution_count": 2,
   "metadata": {},
   "outputs": [
    {
     "data": {
      "text/plain": [
       "True"
      ]
     },
     "execution_count": 2,
     "metadata": {},
     "output_type": "execute_result"
    }
   ],
   "source": [
    "import pandas as pd\n",
    "import requests\n",
    "from bs4 import BeautifulSoup\n",
    "import json\n",
    "from dotenv import load_dotenv\n",
    "import os\n",
    "load_dotenv()  # Load environment variables from .env file"
   ]
  },
  {
   "cell_type": "markdown",
   "metadata": {},
   "source": [
    "## Get External Data"
   ]
  },
  {
   "cell_type": "markdown",
   "metadata": {},
   "source": [
    "### NewsAPI"
   ]
  },
  {
   "cell_type": "markdown",
   "metadata": {},
   "source": [
    "API Key: a7e63b27c13f4d488ed9f1002e15d581"
   ]
  },
  {
   "cell_type": "code",
   "execution_count": null,
   "metadata": {},
   "outputs": [
    {
     "name": "stdout",
     "output_type": "stream",
     "text": [
      "200\n"
     ]
    }
   ],
   "source": [
    "api_key = os.getenv('NEWS_API_KEY')\n",
    "url = ('https://newsapi.org/v2/everything?'\n",
    "       'q=Lazada AND (waste OR greenhouse emission OR gender OR revenue)&'\n",
    "       'language=en&'\n",
    "       'from=2024-10-15&'\n",
    "       'sortBy=popularity&'\n",
    "       f'apiKey={api_key}')\n",
    "\n",
    "\n",
    "\n",
    "response = requests.get(url)\n",
    "\n",
    "print(response.status_code)"
   ]
  },
  {
   "cell_type": "code",
   "execution_count": 119,
   "metadata": {},
   "outputs": [
    {
     "data": {
      "text/plain": [
       "{'status': 'ok',\n",
       " 'totalResults': 5,\n",
       " 'articles': [{'source': {'id': None, 'name': 'ETF Daily News'},\n",
       "   'author': 'MarketBeat News',\n",
       "   'title': 'Head-To-Head Analysis: Augmedix (NASDAQ:AUGX) and Alibaba Group (NYSE:BABA)',\n",
       "   'description': 'Augmedix (NASDAQ:AUGX – Get Free Report) and Alibaba Group (NYSE:BABA – Get Free Report) are both medical companies, but which is the better stock? We will contrast the two businesses based on the strength of their analyst recommendations, institutional owner…',\n",
       "   'url': 'https://www.etfdailynews.com/2024/10/30/head-to-head-analysis-augmedix-nasdaqaugx-and-alibaba-group-nysebaba/',\n",
       "   'urlToImage': 'https://www.americanbankingnews.com/wp-content/timthumb/timthumb.php?src=https://www.marketbeat.com/logos/alibaba-group-holding-limited-logo-1200x675.png?v=20221020143329&w=240&h=240&zc=2',\n",
       "   'publishedAt': '2024-10-30T12:12:49Z',\n",
       "   'content': 'Augmedix (NASDAQ:AUGX – Get Free Report) and Alibaba Group (NYSE:BABA – Get Free Report) are both medical companies, but which is the better stock? We will contrast the two businesses based on the st… [+6030 chars]'},\n",
       "  {'source': {'id': None, 'name': 'GlobeNewswire'},\n",
       "   'author': 'Research and Markets',\n",
       "   'title': 'Philippines Loyalty Programs Intelligence Report 2024: A $1.08 Billion Market in 2028, Driven by Sustainability Initiatives, Personalization and Data Utilization, Mobile Integration, Diverse Programs',\n",
       "   'description': 'Dublin, Oct. 25, 2024 (GLOBE NEWSWIRE) -- The \"Philippines Loyalty Programs Market Intelligence and Future Growth Dynamics Databook - 50+ KPIs on Loyalty Programs Trends by End-Use Sectors, Operational KPIs, Retail Product Dynamics, and Consumer Demographics …',\n",
       "   'url': 'https://www.globenewswire.com/news-release/2024/10/25/2969276/28124/en/Philippines-Loyalty-Programs-Intelligence-Report-2024-A-1-08-Billion-Market-in-2028-Driven-by-Sustainability-Initiatives-Personalization-and-Data-Utilization-Mobile-Integration-Div.html',\n",
       "   'urlToImage': 'https://ml.globenewswire.com/Resource/Download/908fb457-7f8e-4a08-9081-5565e3dfb3d7',\n",
       "   'publishedAt': '2024-10-25T08:02:00Z',\n",
       "   'content': 'Dublin, Oct. 25, 2024 (GLOBE NEWSWIRE) -- The \"Philippines Loyalty Programs Market Intelligence and Future Growth Dynamics Databook - 50+ KPIs on Loyalty Programs Trends by End-Use Sectors, Operation… [+12406 chars]'},\n",
       "  {'source': {'id': None, 'name': 'GlobeNewswire'},\n",
       "   'author': 'Research and Markets',\n",
       "   'title': 'Singapore Cashback Programs Market Report 2024-2029: Preference for Immediate Rewards, Economic Pressures Influence Consumer Behaviour, Integration with E-Commerce and Digital Payments',\n",
       "   'description': 'Dublin, Oct. 18, 2024 (GLOBE NEWSWIRE) -- The \"Singapore Cashback Programs Market Opportunities Databook - 50+ KPIs on Cashback Market Size, By Business Model, By Channel, By Cashback Program Type, By End Use Sector - Q3 2024 Update\" report has been added to …',\n",
       "   'url': 'https://www.globenewswire.com/news-release/2024/10/18/2965402/28124/en/Singapore-Cashback-Programs-Market-Report-2024-2029-Preference-for-Immediate-Rewards-Economic-Pressures-Influence-Consumer-Behaviour-Integration-with-E-Commerce-and-Digital-Payment.html',\n",
       "   'urlToImage': 'https://ml.globenewswire.com/Resource/Download/908fb457-7f8e-4a08-9081-5565e3dfb3d7',\n",
       "   'publishedAt': '2024-10-18T09:26:00Z',\n",
       "   'content': 'Dublin, Oct. 18, 2024 (GLOBE NEWSWIRE) -- The \"Singapore Cashback Programs Market Opportunities Databook - 50+ KPIs on Cashback Market Size, By Business Model, By Channel, By Cashback Program Type, B… [+11067 chars]'},\n",
       "  {'source': {'id': None, 'name': 'GlobeNewswire'},\n",
       "   'author': 'Research and Markets',\n",
       "   'title': 'Philippines Cashback Programs Market Opportunities Report 2024-2029: Embrace the Rise of Digital Payments, Addressing Consumer Price Sensitivity, Leverage Personalization Through Data Analytics',\n",
       "   'description': 'Dublin, Oct. 18, 2024 (GLOBE NEWSWIRE) -- The \"Philippines Cashback Programs Market Opportunities Databook - 50+ KPIs on Cashback Market Size, By Business Model, By Channel, By Cashback Program Type, By End Use Sector - Q3 2024 Update\" report has been added t…',\n",
       "   'url': 'https://www.globenewswire.com/news-release/2024/10/18/2965405/28124/en/Philippines-Cashback-Programs-Market-Opportunities-Report-2024-2029-Embrace-the-Rise-of-Digital-Payments-Addressing-Consumer-Price-Sensitivity-Leverage-Personalization-Through-Data.html',\n",
       "   'urlToImage': 'https://ml.globenewswire.com/Resource/Download/908fb457-7f8e-4a08-9081-5565e3dfb3d7',\n",
       "   'publishedAt': '2024-10-18T09:29:00Z',\n",
       "   'content': 'Dublin, Oct. 18, 2024 (GLOBE NEWSWIRE) -- The \"Philippines Cashback Programs Market Opportunities Databook - 50+ KPIs on Cashback Market Size, By Business Model, By Channel, By Cashback Program Type,… [+11079 chars]'},\n",
       "  {'source': {'id': None, 'name': 'CNBC'},\n",
       "   'author': None,\n",
       "   'title': \"Alibaba's international arm says its new AI translation tool beats Google and ChatGPT\",\n",
       "   'description': \"Chinese e-commerce giant Alibaba's international arm on Wednesday launched an updated AI translation tool aimed at merchants that want to sell globally.\",\n",
       "   'url': 'https://www.cnbc.com/2024/10/16/chinas-alibaba-claims-ai-translation-tool-beats-google-chatgpt.html',\n",
       "   'urlToImage': 'https://image.cnbcfm.com/api/v1/image/108047641-1728974859747-gettyimages-2151568825-cfoto-alibabag240509_npFiN.jpeg?v=1728974918&w=1920&h=1080',\n",
       "   'publishedAt': '2024-10-16T01:46:55Z',\n",
       "   'content': \"BEIJING Chinese e-commerce giant Alibaba's international arm on Wednesday launched an updated version of its artificial intelligence-powered translation tool that, it says, is better than products of… [+3823 chars]\"}]}"
      ]
     },
     "execution_count": 119,
     "metadata": {},
     "output_type": "execute_result"
    }
   ],
   "source": [
    "response.json()"
   ]
  },
  {
   "cell_type": "code",
   "execution_count": 36,
   "metadata": {},
   "outputs": [
    {
     "data": {
      "text/html": [
       "<div>\n",
       "<style scoped>\n",
       "    .dataframe tbody tr th:only-of-type {\n",
       "        vertical-align: middle;\n",
       "    }\n",
       "\n",
       "    .dataframe tbody tr th {\n",
       "        vertical-align: top;\n",
       "    }\n",
       "\n",
       "    .dataframe thead th {\n",
       "        text-align: right;\n",
       "    }\n",
       "</style>\n",
       "<table border=\"1\" class=\"dataframe\">\n",
       "  <thead>\n",
       "    <tr style=\"text-align: right;\">\n",
       "      <th></th>\n",
       "      <th>author</th>\n",
       "      <th>title</th>\n",
       "      <th>description</th>\n",
       "      <th>url</th>\n",
       "      <th>urlToImage</th>\n",
       "      <th>publishedAt</th>\n",
       "      <th>content</th>\n",
       "      <th>source.id</th>\n",
       "      <th>source.name</th>\n",
       "    </tr>\n",
       "  </thead>\n",
       "  <tbody>\n",
       "    <tr>\n",
       "      <th>0</th>\n",
       "      <td>MarketBeat News</td>\n",
       "      <td>Head-To-Head Analysis: Augmedix (NASDAQ:AUGX) ...</td>\n",
       "      <td>Augmedix (NASDAQ:AUGX – Get Free Report) and A...</td>\n",
       "      <td>https://www.etfdailynews.com/2024/10/30/head-t...</td>\n",
       "      <td>https://www.americanbankingnews.com/wp-content...</td>\n",
       "      <td>2024-10-30T12:12:49Z</td>\n",
       "      <td>Augmedix (NASDAQ:AUGX – Get Free Report) and A...</td>\n",
       "      <td>None</td>\n",
       "      <td>ETF Daily News</td>\n",
       "    </tr>\n",
       "    <tr>\n",
       "      <th>1</th>\n",
       "      <td>Research and Markets</td>\n",
       "      <td>Philippines Loyalty Programs Intelligence Repo...</td>\n",
       "      <td>Dublin, Oct. 25, 2024 (GLOBE NEWSWIRE) -- The ...</td>\n",
       "      <td>https://www.globenewswire.com/news-release/202...</td>\n",
       "      <td>https://ml.globenewswire.com/Resource/Download...</td>\n",
       "      <td>2024-10-25T08:02:00Z</td>\n",
       "      <td>Dublin, Oct. 25, 2024 (GLOBE NEWSWIRE) -- The ...</td>\n",
       "      <td>None</td>\n",
       "      <td>GlobeNewswire</td>\n",
       "    </tr>\n",
       "    <tr>\n",
       "      <th>2</th>\n",
       "      <td>Research and Markets</td>\n",
       "      <td>Singapore Cashback Programs Market Report 2024...</td>\n",
       "      <td>Dublin, Oct. 18, 2024 (GLOBE NEWSWIRE) -- The ...</td>\n",
       "      <td>https://www.globenewswire.com/news-release/202...</td>\n",
       "      <td>https://ml.globenewswire.com/Resource/Download...</td>\n",
       "      <td>2024-10-18T09:26:00Z</td>\n",
       "      <td>Dublin, Oct. 18, 2024 (GLOBE NEWSWIRE) -- The ...</td>\n",
       "      <td>None</td>\n",
       "      <td>GlobeNewswire</td>\n",
       "    </tr>\n",
       "    <tr>\n",
       "      <th>3</th>\n",
       "      <td>Research and Markets</td>\n",
       "      <td>Philippines Cashback Programs Market Opportuni...</td>\n",
       "      <td>Dublin, Oct. 18, 2024 (GLOBE NEWSWIRE) -- The ...</td>\n",
       "      <td>https://www.globenewswire.com/news-release/202...</td>\n",
       "      <td>https://ml.globenewswire.com/Resource/Download...</td>\n",
       "      <td>2024-10-18T09:29:00Z</td>\n",
       "      <td>Dublin, Oct. 18, 2024 (GLOBE NEWSWIRE) -- The ...</td>\n",
       "      <td>None</td>\n",
       "      <td>GlobeNewswire</td>\n",
       "    </tr>\n",
       "    <tr>\n",
       "      <th>4</th>\n",
       "      <td>None</td>\n",
       "      <td>Alibaba's international arm says its new AI tr...</td>\n",
       "      <td>Chinese e-commerce giant Alibaba's internation...</td>\n",
       "      <td>https://www.cnbc.com/2024/10/16/chinas-alibaba...</td>\n",
       "      <td>https://image.cnbcfm.com/api/v1/image/10804764...</td>\n",
       "      <td>2024-10-16T01:46:55Z</td>\n",
       "      <td>BEIJING Chinese e-commerce giant Alibaba's int...</td>\n",
       "      <td>None</td>\n",
       "      <td>CNBC</td>\n",
       "    </tr>\n",
       "  </tbody>\n",
       "</table>\n",
       "</div>"
      ],
      "text/plain": [
       "                 author                                              title  \\\n",
       "0       MarketBeat News  Head-To-Head Analysis: Augmedix (NASDAQ:AUGX) ...   \n",
       "1  Research and Markets  Philippines Loyalty Programs Intelligence Repo...   \n",
       "2  Research and Markets  Singapore Cashback Programs Market Report 2024...   \n",
       "3  Research and Markets  Philippines Cashback Programs Market Opportuni...   \n",
       "4                  None  Alibaba's international arm says its new AI tr...   \n",
       "\n",
       "                                         description  \\\n",
       "0  Augmedix (NASDAQ:AUGX – Get Free Report) and A...   \n",
       "1  Dublin, Oct. 25, 2024 (GLOBE NEWSWIRE) -- The ...   \n",
       "2  Dublin, Oct. 18, 2024 (GLOBE NEWSWIRE) -- The ...   \n",
       "3  Dublin, Oct. 18, 2024 (GLOBE NEWSWIRE) -- The ...   \n",
       "4  Chinese e-commerce giant Alibaba's internation...   \n",
       "\n",
       "                                                 url  \\\n",
       "0  https://www.etfdailynews.com/2024/10/30/head-t...   \n",
       "1  https://www.globenewswire.com/news-release/202...   \n",
       "2  https://www.globenewswire.com/news-release/202...   \n",
       "3  https://www.globenewswire.com/news-release/202...   \n",
       "4  https://www.cnbc.com/2024/10/16/chinas-alibaba...   \n",
       "\n",
       "                                          urlToImage           publishedAt  \\\n",
       "0  https://www.americanbankingnews.com/wp-content...  2024-10-30T12:12:49Z   \n",
       "1  https://ml.globenewswire.com/Resource/Download...  2024-10-25T08:02:00Z   \n",
       "2  https://ml.globenewswire.com/Resource/Download...  2024-10-18T09:26:00Z   \n",
       "3  https://ml.globenewswire.com/Resource/Download...  2024-10-18T09:29:00Z   \n",
       "4  https://image.cnbcfm.com/api/v1/image/10804764...  2024-10-16T01:46:55Z   \n",
       "\n",
       "                                             content source.id     source.name  \n",
       "0  Augmedix (NASDAQ:AUGX – Get Free Report) and A...      None  ETF Daily News  \n",
       "1  Dublin, Oct. 25, 2024 (GLOBE NEWSWIRE) -- The ...      None   GlobeNewswire  \n",
       "2  Dublin, Oct. 18, 2024 (GLOBE NEWSWIRE) -- The ...      None   GlobeNewswire  \n",
       "3  Dublin, Oct. 18, 2024 (GLOBE NEWSWIRE) -- The ...      None   GlobeNewswire  \n",
       "4  BEIJING Chinese e-commerce giant Alibaba's int...      None            CNBC  "
      ]
     },
     "execution_count": 36,
     "metadata": {},
     "output_type": "execute_result"
    }
   ],
   "source": [
    "res = pd.json_normalize(response.json()['articles'])\n",
    "res"
   ]
  },
  {
   "cell_type": "markdown",
   "metadata": {},
   "source": [
    "### SerpAPI"
   ]
  },
  {
   "cell_type": "markdown",
   "metadata": {},
   "source": [
    "API key: 1da168a42893341598113c8338851f1aa1deb472<br>\n",
    "https://serper.dev/playground"
   ]
  },
  {
   "cell_type": "code",
   "execution_count": 3,
   "metadata": {},
   "outputs": [
    {
     "name": "stdout",
     "output_type": "stream",
     "text": [
      "{\"searchParameters\":{\"q\":\"lazada inc, esg\",\"type\":\"search\",\"tbs\":\"qdr:m\",\"engine\":\"google\"},\"organic\":[{\"title\":\"Lazada Announces Suite of GenAI Features to Transform Shopping ...\",\"link\":\"https://www.prnewswire.com/apac/news-releases/lazada-announces-suite-of-genai-features-to-transform-shopping-and-seller-experiences-in-southeast-asia-302290849.html\",\"snippet\":\"LAZADA GROUP RELEASES ANNUAL ENVIRONMENTAL, SOCIAL AND GOVERNANCE (ESG) IMPACT REPORT FOR FINANCIAL YEAR 2024 ... Lazada, a leading eCommerce platform in ...\",\"date\":\"Oct 29, 2024\",\"position\":1},{\"title\":\"Lazada Partners With Alibaba's Taobao to Launch Dedicated ...\",\"link\":\"https://www.prnewswire.com/apac/news-releases/lazada-partners-with-alibabas-taobao-to-launch-dedicated-fashion-channel-in-singapore-and-malaysia-302281595.html\",\"snippet\":\"Lazada, a leading eCommerce platform in Southeast Asia, today released its annual Environment, Social, and Governance (ESG) Impact report:... More Releases From ...\",\"date\":\"Oct 22, 2024\",\"position\":2},{\"title\":\"ESG & Sustainability - Verdantix\",\"link\":\"https://www.verdantix.com/research/esg-sustainability\",\"snippet\":\"Our ESG and sustainability research focuses on commercial opportunities in the financial ESG and corporate sustainability markets.\",\"date\":\"2 days ago\",\"position\":3},{\"title\":\"Lazada - Overview, News & Similar companies | ZoomInfo.com\",\"link\":\"https://www.zoominfo.com/c/lazada-group/368833648\",\"snippet\":\"LAZADA GROUP RELEASES ANNUAL ENVIRONMENTAL, SOCIAL AND GOVERNANCE (ESG) IMPACT REPORT FOR FINANCIAL YEAR 2024. Lazada's third ESG Impact Report underscores ...\",\"date\":\"Oct 29, 2024\",\"position\":4},{\"title\":\"Lazard Asset Management\",\"link\":\"https://www.lazardassetmanagement.com/\",\"snippet\":\"Annual Sustainable Investment Report. Annual Sustainable Investment Report. Our 2023 report details new and enhanced ESG integration processes and frameworks ...\",\"date\":\"Oct 15, 2024\",\"attributes\":{\"Missing\":\"lazada | Show results with:lazada\"},\"position\":5},{\"title\":\"KnowESG - LinkedIn\",\"link\":\"https://nl.linkedin.com/company/know-esg\",\"snippet\":\"We are a pioneer ESGtech company democratising access to sustainability data and information. We have consolidated ESG data, resources and ratings and serve ...\",\"date\":\"3 days ago\",\"attributes\":{\"Missing\":\"inc, | Show results with:inc,\"},\"position\":6},{\"title\":\"I recently posted about our... - Ganesh Kumar Bangah - Facebook\",\"link\":\"https://m.facebook.com/story.php?story_fbid=1081417987279634&id=100062343287968\",\"snippet\":\"I recently posted about our involvement at the ESG & Brands Forum 2024, highlighting the need for everyone to play a meaningful role in advancing sustainability ...\",\"date\":\"4 days ago\",\"position\":7},{\"title\":\"SEC Filings - Alibaba Investor Relations\",\"link\":\"https://www.alibabagroup.com/ir-filings-sec\",\"snippet\":\"Alibaba Investor Relations site contains information about Alibaba Corporation Inc ... ESG · Investor Relations · News and Resources · Careers · Contact Us · FAQs.\",\"date\":\"Oct 15, 2024\",\"position\":8},{\"title\":\"responsible business by reducing inequalities at Digi Malaysia\",\"link\":\"https://www.researchgate.net/publication/358280433_Sustaining_the_Yellow_Heart_responsible_business_by_reducing_inequalities_at_Digi_Malaysia\",\"snippet\":\"... ESG in corporate business planning. In current environment, ESG has become one of the criteria for investor evaluating stocks and for firms it is one of ...\",\"date\":\"Oct 22, 2024\",\"position\":9},{\"title\":\"GRC Summit London 2024 | MetricStream\",\"link\":\"https://www.metricstream.com/grc-summit/london-2024.html\",\"snippet\":\"A leading annual event that brings together top experts from government and business to explore the latest strategies in Governance, Risk, and Compliance (GRC).\",\"date\":\"3 days ago\",\"position\":10}],\"relatedSearches\":[{\"query\":\"Goldman Sachs\"},{\"query\":\"Lazada inc esg address\"},{\"query\":\"Lazada inc esg philippines\"},{\"query\":\"Verdantix ESG software\"},{\"query\":\"Lazard Inc\"},{\"query\":\"Is Lazard an investment bank\"},{\"query\":\"Who owns Lazard asset management\"},{\"query\":\"Lazard Asset Management CEO\"},{\"query\":\"ESG data market size\"}],\"credits\":1}\n"
     ]
    }
   ],
   "source": [
    "api_key = os.getenv('SERP_API_KEY')  # Get the API key\n",
    "url = \"https://google.serper.dev/search\"\n",
    "\n",
    "payload = json.dumps({\n",
    "  \"q\": \"lazada inc, esg\",\n",
    "  \"tbs\": \"qdr:m\"\n",
    "})\n",
    "headers = {\n",
    "  'X-API-KEY': api_key,\n",
    "  'Content-Type': 'application/json'\n",
    "}\n",
    "\n",
    "response = requests.request(\"POST\", url, headers=headers, data=payload)\n",
    "\n",
    "print(response.text)"
   ]
  },
  {
   "cell_type": "code",
   "execution_count": 4,
   "metadata": {},
   "outputs": [
    {
     "data": {
      "text/html": [
       "<div>\n",
       "<style scoped>\n",
       "    .dataframe tbody tr th:only-of-type {\n",
       "        vertical-align: middle;\n",
       "    }\n",
       "\n",
       "    .dataframe tbody tr th {\n",
       "        vertical-align: top;\n",
       "    }\n",
       "\n",
       "    .dataframe thead th {\n",
       "        text-align: right;\n",
       "    }\n",
       "</style>\n",
       "<table border=\"1\" class=\"dataframe\">\n",
       "  <thead>\n",
       "    <tr style=\"text-align: right;\">\n",
       "      <th></th>\n",
       "      <th>title</th>\n",
       "      <th>link</th>\n",
       "      <th>snippet</th>\n",
       "      <th>date</th>\n",
       "      <th>position</th>\n",
       "      <th>attributes.Missing</th>\n",
       "    </tr>\n",
       "  </thead>\n",
       "  <tbody>\n",
       "    <tr>\n",
       "      <th>0</th>\n",
       "      <td>Lazada Announces Suite of GenAI Features to Tr...</td>\n",
       "      <td>https://www.prnewswire.com/apac/news-releases/...</td>\n",
       "      <td>LAZADA GROUP RELEASES ANNUAL ENVIRONMENTAL, SO...</td>\n",
       "      <td>Oct 29, 2024</td>\n",
       "      <td>1</td>\n",
       "      <td>NaN</td>\n",
       "    </tr>\n",
       "    <tr>\n",
       "      <th>1</th>\n",
       "      <td>Lazada Partners With Alibaba's Taobao to Launc...</td>\n",
       "      <td>https://www.prnewswire.com/apac/news-releases/...</td>\n",
       "      <td>Lazada, a leading eCommerce platform in Southe...</td>\n",
       "      <td>Oct 22, 2024</td>\n",
       "      <td>2</td>\n",
       "      <td>NaN</td>\n",
       "    </tr>\n",
       "    <tr>\n",
       "      <th>2</th>\n",
       "      <td>ESG &amp; Sustainability - Verdantix</td>\n",
       "      <td>https://www.verdantix.com/research/esg-sustain...</td>\n",
       "      <td>Our ESG and sustainability research focuses on...</td>\n",
       "      <td>2 days ago</td>\n",
       "      <td>3</td>\n",
       "      <td>NaN</td>\n",
       "    </tr>\n",
       "    <tr>\n",
       "      <th>3</th>\n",
       "      <td>Lazada - Overview, News &amp; Similar companies | ...</td>\n",
       "      <td>https://www.zoominfo.com/c/lazada-group/368833648</td>\n",
       "      <td>LAZADA GROUP RELEASES ANNUAL ENVIRONMENTAL, SO...</td>\n",
       "      <td>Oct 29, 2024</td>\n",
       "      <td>4</td>\n",
       "      <td>NaN</td>\n",
       "    </tr>\n",
       "    <tr>\n",
       "      <th>4</th>\n",
       "      <td>Lazard Asset Management</td>\n",
       "      <td>https://www.lazardassetmanagement.com/</td>\n",
       "      <td>Annual Sustainable Investment Report. Annual S...</td>\n",
       "      <td>Oct 15, 2024</td>\n",
       "      <td>5</td>\n",
       "      <td>lazada | Show results with:lazada</td>\n",
       "    </tr>\n",
       "    <tr>\n",
       "      <th>5</th>\n",
       "      <td>KnowESG - LinkedIn</td>\n",
       "      <td>https://nl.linkedin.com/company/know-esg</td>\n",
       "      <td>We are a pioneer ESGtech company democratising...</td>\n",
       "      <td>3 days ago</td>\n",
       "      <td>6</td>\n",
       "      <td>inc, | Show results with:inc,</td>\n",
       "    </tr>\n",
       "    <tr>\n",
       "      <th>6</th>\n",
       "      <td>I recently posted about our... - Ganesh Kumar ...</td>\n",
       "      <td>https://m.facebook.com/story.php?story_fbid=10...</td>\n",
       "      <td>I recently posted about our involvement at the...</td>\n",
       "      <td>4 days ago</td>\n",
       "      <td>7</td>\n",
       "      <td>NaN</td>\n",
       "    </tr>\n",
       "    <tr>\n",
       "      <th>7</th>\n",
       "      <td>SEC Filings - Alibaba Investor Relations</td>\n",
       "      <td>https://www.alibabagroup.com/ir-filings-sec</td>\n",
       "      <td>Alibaba Investor Relations site contains infor...</td>\n",
       "      <td>Oct 15, 2024</td>\n",
       "      <td>8</td>\n",
       "      <td>NaN</td>\n",
       "    </tr>\n",
       "    <tr>\n",
       "      <th>8</th>\n",
       "      <td>responsible business by reducing inequalities ...</td>\n",
       "      <td>https://www.researchgate.net/publication/35828...</td>\n",
       "      <td>... ESG in corporate business planning. In cur...</td>\n",
       "      <td>Oct 22, 2024</td>\n",
       "      <td>9</td>\n",
       "      <td>NaN</td>\n",
       "    </tr>\n",
       "    <tr>\n",
       "      <th>9</th>\n",
       "      <td>GRC Summit London 2024 | MetricStream</td>\n",
       "      <td>https://www.metricstream.com/grc-summit/london...</td>\n",
       "      <td>A leading annual event that brings together to...</td>\n",
       "      <td>3 days ago</td>\n",
       "      <td>10</td>\n",
       "      <td>NaN</td>\n",
       "    </tr>\n",
       "  </tbody>\n",
       "</table>\n",
       "</div>"
      ],
      "text/plain": [
       "                                               title  \\\n",
       "0  Lazada Announces Suite of GenAI Features to Tr...   \n",
       "1  Lazada Partners With Alibaba's Taobao to Launc...   \n",
       "2                   ESG & Sustainability - Verdantix   \n",
       "3  Lazada - Overview, News & Similar companies | ...   \n",
       "4                            Lazard Asset Management   \n",
       "5                                 KnowESG - LinkedIn   \n",
       "6  I recently posted about our... - Ganesh Kumar ...   \n",
       "7           SEC Filings - Alibaba Investor Relations   \n",
       "8  responsible business by reducing inequalities ...   \n",
       "9              GRC Summit London 2024 | MetricStream   \n",
       "\n",
       "                                                link  \\\n",
       "0  https://www.prnewswire.com/apac/news-releases/...   \n",
       "1  https://www.prnewswire.com/apac/news-releases/...   \n",
       "2  https://www.verdantix.com/research/esg-sustain...   \n",
       "3  https://www.zoominfo.com/c/lazada-group/368833648   \n",
       "4             https://www.lazardassetmanagement.com/   \n",
       "5           https://nl.linkedin.com/company/know-esg   \n",
       "6  https://m.facebook.com/story.php?story_fbid=10...   \n",
       "7        https://www.alibabagroup.com/ir-filings-sec   \n",
       "8  https://www.researchgate.net/publication/35828...   \n",
       "9  https://www.metricstream.com/grc-summit/london...   \n",
       "\n",
       "                                             snippet          date  position  \\\n",
       "0  LAZADA GROUP RELEASES ANNUAL ENVIRONMENTAL, SO...  Oct 29, 2024         1   \n",
       "1  Lazada, a leading eCommerce platform in Southe...  Oct 22, 2024         2   \n",
       "2  Our ESG and sustainability research focuses on...    2 days ago         3   \n",
       "3  LAZADA GROUP RELEASES ANNUAL ENVIRONMENTAL, SO...  Oct 29, 2024         4   \n",
       "4  Annual Sustainable Investment Report. Annual S...  Oct 15, 2024         5   \n",
       "5  We are a pioneer ESGtech company democratising...    3 days ago         6   \n",
       "6  I recently posted about our involvement at the...    4 days ago         7   \n",
       "7  Alibaba Investor Relations site contains infor...  Oct 15, 2024         8   \n",
       "8  ... ESG in corporate business planning. In cur...  Oct 22, 2024         9   \n",
       "9  A leading annual event that brings together to...    3 days ago        10   \n",
       "\n",
       "                  attributes.Missing  \n",
       "0                                NaN  \n",
       "1                                NaN  \n",
       "2                                NaN  \n",
       "3                                NaN  \n",
       "4  lazada | Show results with:lazada  \n",
       "5      inc, | Show results with:inc,  \n",
       "6                                NaN  \n",
       "7                                NaN  \n",
       "8                                NaN  \n",
       "9                                NaN  "
      ]
     },
     "execution_count": 4,
     "metadata": {},
     "output_type": "execute_result"
    }
   ],
   "source": [
    "res = pd.json_normalize(response.json()['organic'])\n",
    "res"
   ]
  },
  {
   "cell_type": "code",
   "execution_count": 5,
   "metadata": {},
   "outputs": [],
   "source": [
    "def read_web_page(link):\n",
    "    web_response = requests.get(link).text\n",
    "    contents = BeautifulSoup(web_response, 'html.parser')\n",
    "    paras = contents.find_all('p')\n",
    "    passage = []\n",
    "    \n",
    "    for para in paras:\n",
    "        cur_para = para.get_text()\n",
    "        if cur_para != '':\n",
    "            cur_para = cur_para.replace('\\n', '')\n",
    "            cur_para = cur_para.replace('\\xa0', '')\n",
    "            passage.append(cur_para)\n",
    "    passage = '\\n'.join(passage)\n",
    "    \n",
    "    return passage\n",
    "\n",
    "\n",
    "# import re\n",
    "\n",
    "# link = res['link'][5]\n",
    "# response1 = requests.get(link).text\n",
    "# contents = BeautifulSoup(response1, 'html.parser')\n",
    "# paras = contents.find_all('p')\n",
    "# # contents\n",
    "\n",
    "# passage = []\n",
    "# for para in paras:\n",
    "#     cur_para = para.get_text()\n",
    "#     if cur_para != '':\n",
    "#         cur_para = cur_para.replace('\\n', '')\n",
    "#         cur_para = cur_para.replace('\\xa0', '')\n",
    "#         passage.append(cur_para)\n",
    "    \n",
    "# passage = '\\n'.join(passage)\n",
    "# print(passage)"
   ]
  },
  {
   "cell_type": "code",
   "execution_count": 8,
   "metadata": {},
   "outputs": [],
   "source": [
    "passages = []\n",
    "for link in res['link']:\n",
    "    p = read_web_page(link)\n",
    "    if p != '':\n",
    "        passages.append(p)\n",
    "        \n",
    "p_num = len(passages)"
   ]
  },
  {
   "cell_type": "code",
   "execution_count": null,
   "metadata": {},
   "outputs": [
    {
     "name": "stderr",
     "output_type": "stream",
     "text": [
      "No model was supplied, defaulted to distilbert/distilbert-base-uncased-finetuned-sst-2-english and revision 714eb0f (https://huggingface.co/distilbert/distilbert-base-uncased-finetuned-sst-2-english).\n",
      "Using a pipeline without specifying a model name and revision in production is not recommended.\n",
      "All PyTorch model weights were used when initializing TFDistilBertForSequenceClassification.\n",
      "\n",
      "All the weights of TFDistilBertForSequenceClassification were initialized from the PyTorch model.\n",
      "If your task is similar to the task the model of the checkpoint was trained on, you can already use TFDistilBertForSequenceClassification for predictions without further training.\n",
      "Token indices sequence length is longer than the specified maximum sequence length for this model (1766 > 512). Running this sequence through the model will result in indexing errors\n"
     ]
    },
    {
     "name": "stdout",
     "output_type": "stream",
     "text": [
      "['searching', 'for', 'your', 'content', '.', '.', '.', 'chat', 'contact', 'us', '30', 'oct', ',', '202', '##4', ',', '10', ':', '00', 'cs', '##t', 'share', 'this', 'article', 'singapore', ',', 'oct', '.', '30', ',', '202', '##4', '/', 'pr', '##ne', '##ws', '##wire', '/', '-', '-', 'la', '##za', '##da', ',', 'southeast', 'asia', \"'\", 's', 'pioneer', 'eco', '##mmer', '##ce', 'platform', ',', 'today', 'announced', 'a', 'major', 'leap', 'in', 'online', 'shopping', 'with', 'the', 'launch', 'of', 'all', '-', 'new', 'gen', '##ai', '-', 'powered', 'in', '-', 'app', 'features', '.', 'these', 'enhancement', '##s', 'promise', 'to', 'revolution', '##ise', 'the', 'shopping', 'journey', 'by', 'offering', 'shop', '##pers', 'a', 'more', 'personal', '##ised', ',', 'engaging', ',', 'and', 'dynamic', 'experience', '.', 'alongside', 'this', ',', 'la', '##za', '##da', 'also', 'launched', 'its', 'artificial', 'intelligence', 'adoption', 'in', 'eco', '##mmer', '##ce', 'in', 'southeast', 'asia', 'white', '##paper', ',', 'jointly', 'developed', 'with', 'kant', '##ar', ',', 'to', 'better', 'understand', 'ai', 'awareness', ',', 'trust', 'and', 'preferences', ',', 'shopping', 'behaviour', ',', 'and', 'consumer', 'pain', 'points', 'in', 'the', 'region', '.', 'la', '##za', '##da', \"'\", 's', 'gen', '##ai', 'features', 'include', 'an', 'ai', '-', 'powered', 'personal', 'shopping', 'assistant', '–', 'ai', 'la', '##zzi', '##e', ',', 'smart', 'recommendations', ',', 'ai', '-', 'generated', 'product', 'information', ',', 'and', 'even', 'ai', '-', 'generated', 'models', ',', 'which', 'position', 'the', 'platform', 'at', 'the', 'forefront', 'of', 'a', 'rapidly', 'evolving', 'eco', '##mmer', '##ce', 'landscape', 'in', 'southeast', 'asia', '.', 'la', '##za', '##da', 'is', 'also', 'lever', '##aging', 'ali', '##ba', '##ba', \"'\", 's', 'newly', '-', 'launched', 'improved', 'iteration', 'of', 'its', 'ai', 'translation', 'tool', ',', 'marco', 'mt', ',', 'to', 'support', 'language', 'local', '##isation', 'needs', 'in', 'the', 'diverse', 'region', 'of', 'southeast', 'asia', '.', 'the', 'ai', 'translation', 'tool', 'is', 'based', 'on', 'ali', '##ba', '##ba', \"'\", 's', 'proprietary', 'model', 'q', '##wen', ',', 'and', 'is', 'designed', 'to', 'help', 'sellers', 'create', 'product', 'pages', 'in', 'the', 'language', 'of', 'their', 'target', 'market', '.', 'the', 'improved', 'version', '–', 'marco', 'mt', ',', 'is', 'powered', 'by', 'large', 'language', 'models', ',', 'with', 'the', 'ability', 'to', 'interpret', 'context', '##ual', 'clues', 'such', 'as', 'cultural', 'and', 'industry', '-', 'specific', 'terms', '.', 'la', '##za', '##da', \"'\", 's', 'gen', '##ai', 'features', 'include', 'an', 'ai', '-', 'powered', 'personal', 'shopping', 'assistant', '–', 'ai', 'la', '##zzi', '##e', ',', 'smart', 'recommendations', ',', 'ai', '-', 'generated', 'product', 'information', ',', 'and', 'even', 'ai', '-', 'generated', 'models', ',', 'which', 'position', 'the', 'platform', 'at', 'the', 'forefront', 'of', 'a', 'rapidly', 'evolving', 'eco', '##mmer', '##ce', 'landscape', 'in', 'southeast', 'asia', '.', 'la', '##za', '##da', 'is', 'also', 'lever', '##aging', 'ali', '##ba', '##ba', \"'\", 's', 'newly', '-', 'launched', 'improved', 'iteration', 'of', 'its', 'ai', 'translation', 'tool', ',', 'marco', 'mt', ',', 'to', 'support', 'language', 'local', '##isation', 'needs', 'in', 'the', 'diverse', 'region', 'of', 'southeast', 'asia', '.', 'the', 'ai', 'translation', 'tool', 'is', 'based', 'on', 'ali', '##ba', '##ba', \"'\", 's', 'proprietary', 'model', 'q', '##wen', ',', 'and', 'is', 'designed', 'to', 'help', 'sellers', 'create', 'product', 'pages', 'in', 'the', 'language', 'of', 'their', 'target', 'market', '.', 'the', 'improved', 'version', '–', 'marco', 'mt', ',', 'is', 'powered', 'by', 'large', 'language', 'models', ',', 'with', 'the', 'ability', 'to', 'interpret', 'context', '##ual', 'clues', 'such', 'as', 'cultural', 'and', 'industry', '-', 'specific', 'terms', '.', 'as', 'ai', 'and', 'gen', '##ai', 'continue', 'to', 'serve', 'as', 'major', 'growth', 'catalyst', '##s', ',', 'la', '##za', '##da', 'is', 'addressing', 'the', 'four', 'critical', 'dimensions', '(', '4', '##ds', ')', 'that', 'are', 'transforming', 'online', 'shopping', ':', '1']\n",
      "Sentiment: POSITIVE, Score: 1.00\n",
      "[':', 'enhancing', 'product', 'search', 'and', 'shopping', 'inspiration', 'ai', 'is', 'res', '##ha', '##ping', 'how', 'shop', '##pers', 'discover', 'products', 'by', 'providing', 'personal', '##ised', 'recommendations', 'and', 'improving', 'search', 'efficiency', '.', 'the', 'white', '##paper', 'reveals', 'that', 'nine', 'out', 'of', 'ten', 'respondents', 'in', 'southeast', 'asia', 'believe', 'that', 'ai', 'enhance', '##s', 'their', 'search', 'efficiency', 'when', 'shopping', 'online', '.', 'la', '##za', '##da', \"'\", 's', 'ai', 'tools', ',', 'such', 'as', 'the', 'personal', 'shopping', 'assistant', ',', 'ai', 'la', '##zzi', '##e', ',', 'are', 'designed', 'to', 'help', 'shop', '##pers', 'not', 'only', 'find', 'products', ',', 'but', 'also', 'discover', 'new', 'ideas', 'and', 'lifestyle', 'additions', ',', 'offering', '24', '/', '7', 'tailored', 'assistance', 'to', 'en', '##rich', 'and', 'el', '##eva', '##te', 'the', 'shopping', 'experience', '.', '2', '.', 'depend', '##ability', ':', 'building', 'trust', 'and', 'loyalty', 'through', 'tailored', 'experiences', 'with', 'the', 'new', 'gen', '##ai', 'updates', ',', 'la', '##za', '##da', 'will', 'now', 'be', 'able', 'to', 'offer', 'more', 'dynamic', 'and', 'engaging', 'content', 'on', 'its', 'platform', '.', 'for', 'instance', ',', 'ai', '-', 'generated', 'product', 'descriptions', 'and', 'images', 'can', 'be', 'tailored', 'to', 'different', 'regions', ',', 'languages', ',', 'and', 'cultural', 'nu', '##ances', ',', 'ensuring', 'that', 'shop', '##pers', 'feel', 'a', 'deeper', 'connection', 'with', 'the', 'products', 'they', 'are', 'brows', '##ing', '.', 'this', 'capability', 'is', 'particularly', 'valuable', 'in', 'southeast', 'asia', ',', 'where', 'linguistic', 'and', 'cultural', 'diversity', 'are', 'both', 'varied', 'and', 'vast', '.', 'insights', 'from', 'our', 'white', '##paper', 'also', 'revealed', 'an', 'exceeding', '##ly', 'high', 'level', 'of', 'trust', 'towards', 'ai', '-', 'powered', 'platforms', ',', 'where', 'a', 'majority', 'of', 'shop', '##pers', 'trust', 'and', 'rely', 'on', 'ai', 'for', 'personal', '##ised', 'recommendations', '(', '92', '%', ')', 'and', 'product', 'sum', '##mar', '##ies', '(', '90', '%', ')', '.', 'here', ',', 'la', '##za', '##da', \"'\", 's', 'gen', '##ai', 'features', 'such', 'as', 'its', 'ai', '-', 'powered', 'smart', 'reviews', 'and', 'personal', '##ised', 'product', 'recommendations', 'based', 'on', 'shopping', 'habits', 'and', 'past', 'purchases', 'can', 'enhance', 'shopping', 'experience', 'by', 'offering', 'shop', '##pers', 'quick', ',', 'comprehensive', ',', 'and', 'reliable', 'product', 'insights', '.', 'these', 'tools', 'foster', 'customer', 'loyalty', 'by', 'enabling', 'depend', '##able', 'and', 'seam', '##less', 'interactions', 'that', 'build', 'trust', ',', 'while', 'helping', 'shop', '##pers', 'make', 'more', 'informed', 'decisions', '.', 'given', 'the', 'impact', 'that', 'ai', 'delivers', ',', 'we', 'are', 'witnessing', 'a', 'huge', 'majority', 'of', 'shop', '##pers', 'using', 'ai', 'features', 'on', 'eco', '##mmer', '##ce', 'platforms', 'at', 'least', 'once', 'a', 'week', '(', '80', '%', ')', ',', 'with', 'a', 'high', 'willingness', 'to', 'pay', 'more', 'for', 'ai', '-', 'powered', 'shopping', 'experiences', '(', '83', '%', ')', '.', '3', '.', 'deals', ':', 'helping', 'shop', '##pers', 'find', 'the', 'best', 'value', 'the', 'white', '##paper', 'highlights', 'that', 'approximately', 'a', 'third', 'of', 'southeast', 'asian', 'shop', '##pers', 'are', 'price', '-', 'conscious', 'and', 'actively', 'seek', 'out', 'deals', '(', '41', '%', ')', '.', 'in', 'fact', ',', 'more', 'than', 'half', 'of', 'the', 'respondents', 'identify', 'competitive', 'pricing', '(', '54', '%', ')', 'and', 'the', 'availability', 'of', 'vo', '##ucher', '##s', 'and', 'discount', '##s', '(', '51', '%', ')', 'as', 'key', 'factors', 'that', 'influence', 'repeat', 'purchases', '.', 'la', '##za', '##da', \"'\", 's', 'ai', '-', 'curated', 'offers', ',', 'exclusive', 'vo', '##ucher', '##s', ',', 'and', 'the', 'integration', 'of', 'la', '##z', '##co', '##ins', 'as', 'a', 'rewards', 'mechanic', 'further', 'ensure', 'that', 'shop', '##pers', 'can', 'access', 'the', 'best', 'value', 'for', 'every', 'purchase', '.', 'by', 'lever', '##aging', 'ai', ',', 'la', '##za', '##da', 'helps', 'shop', '##pers', 'discover', 'deals']\n",
      "Sentiment: POSITIVE, Score: 1.00\n",
      "['their', 'personal', 'preferences', ',', 'habits', ',', 'and', 'interests', 'to', 'ensure', 'that', 'the', 'best', 'deal', 'is', 'secured', '.', 'going', 'above', 'and', 'beyond', ',', 'the', 'human', '##ised', 'aspect', 'of', 'gen', '##ai', 'means', 'that', 'la', '##za', '##da', 'is', 'also', 'able', 'to', 'ga', '##mi', '##fy', 'the', 'shopping', 'experience', ',', 'by', 'reward', '##ing', 'positive', 'behaviour', 'such', 'as', 'high', 'user', 'engagement', 'rate', 'with', 'additional', 'surprise', 'discount', 'vo', '##ucher', 'codes', 'and', 'bundle', 'deals', '.', '4', '.', 'decision', '-', 'making', ':', 'smarter', 'shopping', 'choices', 'la', '##za', '##da', \"'\", 's', 'findings', 'reveal', 'that', 'an', 'overwhelming', '88', '%', 'of', 'respondents', 'in', 'southeast', 'asia', 'make', 'purchase', 'decisions', 'using', 'ai', '-', 'generated', 'content', 'and', 'product', 'recommendations', ',', 'and', 'over', 'half', '(', '51', '%', ')', 'indicate', 'that', 'product', 'and', 'seller', 'reviews', 'are', 'key', 'features', 'they', 'prior', '##itis', '##e', 'when', 'shopping', 'online', '.', 'harness', '##ing', 'this', 'insight', ',', 'la', '##za', '##da', \"'\", 's', 'gen', '##ai', 'update', 'is', 'designed', 'to', 'create', 'unique', 'content', 'by', 'harness', '##ing', 'product', 'reviews', ',', 'product', 'key', 'selling', 'points', ',', 'as', 'well', 'as', 'tailored', 'product', 'recommendations', 'to', 'opt', '##imi', '##se', 'the', 'shop', '##per', 'research', 'process', 'and', 'support', 'their', 'purchasing', 'decisions', 'with', 'facts', 'and', 'data', '.', 'to', 'further', 'ex', '##ped', '##ite', 'the', 'decision', '-', 'making', 'process', ',', 'ai', 'la', '##zzi', '##e', 'can', 'answer', 'shop', '##per', 'que', '##ries', 'promptly', 'to', 'address', 'concerns', ',', 'which', 'can', 'result', 'in', 'increased', 'order', 'conversion', 'rates', ',', 'as', 'well', 'as', 'enhanced', 'customer', 'satisfaction', 'and', 'loyalty', '.', 'james', 'dong', ',', 'chief', 'executive', 'officer', 'of', 'la', '##za', '##da', 'group', ',', 'commented', ',', '\"', 'at', 'la', '##za', '##da', ',', 'we', 'have', 'embraced', 'gen', '##ai', 'as', 'part', 'of', 'our', 'customer', '-', 'cent', '##ric', ',', 'long', '-', 'term', 'growth', 'strategy', 'to', 'enhance', 'customer', 'experiences', ',', 'as', 'we', 'st', '##ri', '##be', 'to', 'stay', 'ahead', 'and', 'steer', 'into', 'a', 'new', 'era', 'of', 'online', 'shopping', '.', 'we', 'fore', '##see', 'that', 'gen', '##ai', 'will', 'accelerate', 'an', 'eco', '##mmer', '##ce', 'revolution', 'and', 'res', '##ha', '##pe', 'the', 'way', 'we', 'currently', 'shop', ',', 'sell', ',', 'and', 'engage', '.', 'our', 'goal', 'is', 'to', 'make', 'every', 'experience', 'sharpe', '##r', ',', 'more', 'individual', ',', 'efficient', ',', 'and', 'enjoyable', '.', 'through', 'these', 'innovations', ',', 'we', \"'\", 're', 'not', 'only', 'supporting', 'our', 'shop', '##pers', ',', 'but', 'also', 'em', '##powering', 'our', 'sellers', 'to', 'make', 'smarter', ',', 'data', '-', 'driven', 'decisions', ',', 'from', 'product', 'positioning', 'to', 'customer', 'engagement', '.', '\"', 'dong', 'added', ':', '\"', 'as', 'la', '##za', '##da', 'implements', 'ai', 'at', 'scale', ',', 'we', 'strive', 'to', 'create', 'win', '-', 'win', 'scenarios', 'for', 'all', 'eco', '##mmer', '##ce', 'players', ',', 'while', 'maintaining', 'the', 'human', 'touch', 'that', 'remains', 'essential', 'in', 'foster', '##ing', 'authentic', ',', 'lasting', 'relationships', 'with', 'our', 'shop', '##pers', ',', 'sellers', ',', 'and', 'partners', 'in', 'the', 'ecosystem', '.', 'by', 'embracing', 'gen', '##ai', ',', 'we', 'aim', 'to', 'create', 'a', 'more', 'accessible', ',', 'inclusive', ',', 'and', 'personal', '##ised', 'shopping', 'experience', 'for', 'all', '.', '\"', 'about', 'the', 'white', '##paper', 'the', 'artificial', 'intelligence', 'adoption', 'in', 'eco', '##mmer', '##ce', 'in', 'southeast', 'asia', 'white', '##paper', 'is', 'derived', 'from', 'the', 'research', 'conducted', 'in', 'partnership', 'with', 'kant', '##ar', 'in', 'six', 'southeast', 'asian', 'markets', '–', 'singapore', ',', 'malaysia', ',', 'indonesia', ',', 'thailand', ',', 'vietnam', ',', 'and', 'the', 'philippines', '–', 'which', 'surveyed', 'more', 'than', '6', ',', '000', 'eco', '##mmer']\n",
      "Sentiment: POSITIVE, Score: 1.00\n",
      "['between', 'the', 'ages', 'of', '18', 'and', '60', 'in', 'september', '202', '##4', '.', 'download', 'the', 'la', '##za', '##da', 'app', ':', 'apple', 'app', 'store', '|', 'google', 'play', 'store', 'about', 'la', '##za', '##da', 'group', 'la', '##za', '##da', 'group', 'is', 'southeast', 'asia', \"'\", 's', 'pioneer', 'eco', '##mmer', '##ce', 'platform', '.', 'for', 'the', 'last', '12', 'years', ',', 'la', '##za', '##da', 'has', 'been', 'accelerating', 'progress', 'in', 'indonesia', ',', 'malaysia', ',', 'the', 'philippines', ',', 'singapore', ',', 'thailand', 'and', 'vietnam', 'through', 'commerce', 'and', 'technology', '.', 'today', ',', 'a', 'thriving', 'local', 'ecosystem', 'links', 'about', '160', 'million', 'active', 'users', 'to', 'more', 'than', 'one', 'million', 'actively', '-', 'selling', 'sellers', 'every', 'month', ',', 'who', 'are', 'trans', '##act', '##ing', 'safely', 'and', 'securely', 'via', 'trusted', 'payments', 'channels', 'and', 'la', '##za', '##da', 'wallet', ',', 'receiving', 'parcels', 'through', 'a', 'home', '##gr', '##own', 'logistics', 'network', 'that', 'has', 'become', 'the', 'largest', 'in', 'the', 'region', '.', 'source', 'la', '##za', '##da', 'group', 'la', '##za', '##da', ',', 'a', 'leading', 'eco', '##mmer', '##ce', 'platform', 'in', 'southeast', 'asia', ',', 'today', 'announced', 'its', 'partnership', 'with', 'ali', '##ba', '##ba', \"'\", 's', 'eco', '##mmer', '##ce', 'platform', 'tao', '##ba', '##o', 'to', 'launch', 'a', '.', '.', '.', 'la', '##za', '##da', ',', 'a', 'leading', 'eco', '##mmer', '##ce', 'platform', 'in', 'southeast', 'asia', ',', 'today', 'released', 'its', 'annual', 'environment', ',', 'social', ',', 'and', 'governance', '(', 'es', '##g', ')', 'impact', 'report', ':', '.', '.', '.', 'computer', '&', 'electronics', 'retail', 'electronic', 'commerce', 'electronic', 'commerce', 'do', 'not', 'sell', 'or', 'share', 'my', 'personal', 'information', ':']\n",
      "Sentiment: POSITIVE, Score: 1.00\n"
     ]
    }
   ],
   "source": [
    "# Test for Sentiment Analysis\n",
    "from transformers import AutoTokenizer, pipeline\n",
    "tokenizer = AutoTokenizer.from_pretrained(\"distilbert-base-uncased\")\n",
    "sentiment_analyzer = pipeline(\"sentiment-analysis\")\n",
    "\n",
    "tokens = tokenizer.tokenize(passages[0])\n",
    "token_chunks = [tokens[i:i + 510] for i in range(0, len(tokens), 512)]\n",
    "\n",
    "for chunk in token_chunks:\n",
    "    print(chunk)\n",
    "    tokenized_text = tokenizer.convert_tokens_to_string(chunk)\n",
    "    sentiment_result = sentiment_analyzer(tokenized_text)\n",
    "    print(f\"Sentiment: {sentiment_result[0]['label']}, Score: {sentiment_result[0]['score']:.2f}\")"
   ]
  },
  {
   "cell_type": "markdown",
   "metadata": {},
   "source": [
    "### Stock"
   ]
  },
  {
   "cell_type": "markdown",
   "metadata": {},
   "source": [
    "api key: E7589774IOEXRB95"
   ]
  },
  {
   "cell_type": "markdown",
   "metadata": {},
   "source": [
    "* Hard to find companies in SG."
   ]
  },
  {
   "cell_type": "code",
   "execution_count": 33,
   "metadata": {},
   "outputs": [
    {
     "name": "stdout",
     "output_type": "stream",
     "text": [
      "{'Meta Data': {'1. Information': 'Monthly Prices (open, high, low, close) and Volumes', '2. Symbol': 'IBM', '3. Last Refreshed': '2024-11-04', '4. Time Zone': 'US/Eastern'}, 'Monthly Time Series': {'2024-11-04': {'1. open': '207.7700', '2. high': '209.8400', '3. low': '205.8000', '4. close': '206.3200', '5. volume': '5928427'}, '2024-10-31': {'1. open': '220.6300', '2. high': '237.3700', '3. low': '203.5100', '4. close': '206.7200', '5. volume': '105624376'}, '2024-09-30': {'1. open': '201.9100', '2. high': '224.1500', '3. low': '199.3350', '4. close': '221.0800', '5. volume': '83415811'}, '2024-08-30': {'1. open': '192.8100', '2. high': '202.1700', '3. low': '181.8100', '4. close': '202.1300', '5. volume': '65453729'}, '2024-07-31': {'1. open': '173.4500', '2. high': '196.2600', '3. low': '173.3800', '4. close': '192.1400', '5. volume': '81258646'}, '2024-06-28': {'1. open': '166.5400', '2. high': '178.4599', '3. low': '163.5300', '4. close': '172.9500', '5. volume': '70706301'}, '2024-05-31': {'1. open': '165.6900', '2. high': '175.4600', '3. low': '162.6200', '4. close': '166.8500', '5. volume': '78620355'}, '2024-04-30': {'1. open': '190.0000', '2. high': '193.2800', '3. low': '165.2605', '4. close': '166.2000', '5. volume': '98297181'}, '2024-03-28': {'1. open': '185.4900', '2. high': '199.1800', '3. low': '185.1800', '4. close': '190.9600', '5. volume': '99921776'}, '2024-02-29': {'1. open': '183.6300', '2. high': '188.9500', '3. low': '178.7500', '4. close': '185.0300', '5. volume': '88679550'}, '2024-01-31': {'1. open': '162.8300', '2. high': '196.9000', '3. low': '157.8850', '4. close': '183.6600', '5. volume': '128121557'}, '2023-12-29': {'1. open': '158.4100', '2. high': '166.3400', '3. low': '158.0000', '4. close': '163.5500', '5. volume': '87358302'}, '2023-11-30': {'1. open': '145.0000', '2. high': '158.6000', '3. low': '144.4500', '4. close': '158.5600', '5. volume': '78460252'}, '2023-10-31': {'1. open': '140.0400', '2. high': '144.7600', '3. low': '135.8700', '4. close': '144.6400', '5. volume': '94386980'}, '2023-09-29': {'1. open': '147.2600', '2. high': '151.9299', '3. low': '139.6100', '4. close': '140.3000', '5. volume': '82806487'}, '2023-08-31': {'1. open': '144.2500', '2. high': '147.7275', '3. low': '139.7600', '4. close': '146.8300', '5. volume': '84274205'}, '2023-07-31': {'1. open': '133.4200', '2. high': '144.6050', '3. low': '131.5500', '4. close': '144.1800', '5. volume': '85778938'}, '2023-06-30': {'1. open': '128.4400', '2. high': '139.4690', '3. low': '127.7800', '4. close': '133.8100', '5. volume': '100722016'}, '2023-05-31': {'1. open': '126.3500', '2. high': '130.0699', '3. low': '120.5500', '4. close': '128.5900', '5. volume': '95710890'}, '2023-04-28': {'1. open': '130.9700', '2. high': '132.6100', '3. low': '124.5600', '4. close': '126.4100', '5. volume': '83664114'}, '2023-03-31': {'1. open': '128.9000', '2. high': '131.4800', '3. low': '121.7100', '4. close': '131.0900', '5. volume': '138093084'}, '2023-02-28': {'1. open': '134.4900', '2. high': '137.3900', '3. low': '128.8600', '4. close': '129.3000', '5. volume': '76080679'}, '2023-01-31': {'1. open': '141.1000', '2. high': '147.1800', '3. low': '132.9800', '4. close': '134.7300', '5. volume': '105576019'}, '2022-12-30': {'1. open': '149.9800', '2. high': '153.2100', '3. low': '137.1950', '4. close': '140.8900', '5. volume': '86426226'}, '2022-11-30': {'1. open': '138.2500', '2. high': '150.4600', '3. low': '133.9700', '4. close': '148.9000', '5. volume': '93620235'}, '2022-10-31': {'1. open': '120.1600', '2. high': '138.8615', '3. low': '115.5450', '4. close': '138.2900', '5. volume': '113480787'}, '2022-09-30': {'1. open': '128.4000', '2. high': '130.9900', '3. low': '118.6100', '4. close': '118.8100', '5. volume': '87256958'}, '2022-08-31': {'1. open': '130.7500', '2. high': '139.3400', '3. low': '128.4000', '4. close': '128.4500', '5. volume': '77392342'}, '2022-07-29': {'1. open': '141.0000', '2. high': '141.8700', '3. low': '125.1300', '4. close': '130.7900', '5. volume': '129801061'}, '2022-06-30': {'1. open': '139.6700', '2. high': '144.7300', '3. low': '132.8500', '4. close': '141.1900', '5. volume': '105815743'}, '2022-05-31': {'1. open': '133.0000', '2. high': '139.8300', '3. low': '125.8000', '4. close': '138.8400', '5. volume': '113207659'}, '2022-04-29': {'1. open': '129.6600', '2. high': '141.8800', '3. low': '124.9100', '4. close': '132.2100', '5. volume': '107525264'}, '2022-03-31': {'1. open': '122.6700', '2. high': '133.0800', '3. low': '120.7000', '4. close': '130.0200', '5. volume': '96447210'}, '2022-02-28': {'1. open': '133.7600', '2. high': '138.8200', '3. low': '118.8100', '4. close': '122.5100', '5. volume': '98492968'}, '2022-01-31': {'1. open': '134.0700', '2. high': '142.2000', '3. low': '124.1930', '4. close': '133.5700', '5. volume': '147238382'}, '2021-12-31': {'1. open': '118.2500', '2. high': '134.9900', '3. low': '116.5600', '4. close': '133.6600', '5. volume': '113930079'}, '2021-11-30': {'1. open': '125.0500', '2. high': '127.2900', '3. low': '114.5600', '4. close': '117.1000', '5. volume': '119252012'}, '2021-10-29': {'1. open': '141.0000', '2. high': '146.0000', '3. low': '124.6200', '4. close': '125.1000', '5. volume': '144097758'}, '2021-09-30': {'1. open': '139.9800', '2. high': '140.5700', '3. low': '132.7800', '4. close': '138.9300', '5. volume': '76644238'}, '2021-08-31': {'1. open': '141.4500', '2. high': '144.7000', '3. low': '137.2100', '4. close': '140.3400', '5. volume': '69687056'}, '2021-07-30': {'1. open': '146.9600', '2. high': '147.5000', '3. low': '136.2089', '4. close': '140.9600', '5. volume': '110625907'}, '2021-06-30': {'1. open': '145.0000', '2. high': '152.8400', '3. low': '143.0400', '4. close': '146.5900', '5. volume': '84365220'}, '2021-05-28': {'1. open': '143.8100', '2. high': '148.5150', '3. low': '140.9200', '4. close': '143.7400', '5. volume': '98036425'}, '2021-04-30': {'1. open': '133.7600', '2. high': '148.7400', '3. low': '130.3800', '4. close': '141.8800', '5. volume': '122920494'}, '2021-03-31': {'1. open': '120.3500', '2. high': '137.0700', '3. low': '118.7550', '4. close': '133.2600', '5. volume': '127967821'}, '2021-02-26': {'1. open': '119.9000', '2. high': '124.3500', '3. low': '118.1200', '4. close': '118.9300', '5. volume': '106339228'}, '2021-01-29': {'1. open': '125.8500', '2. high': '132.2400', '3. low': '117.3600', '4. close': '119.1100', '5. volume': '176168962'}, '2020-12-31': {'1. open': '123.9000', '2. high': '127.6900', '3. low': '121.7200', '4. close': '125.8800', '5. volume': '102587006'}, '2020-11-30': {'1. open': '112.6500', '2. high': '125.3130', '3. low': '111.1600', '4. close': '123.5200', '5. volume': '103461100'}, '2020-10-30': {'1. open': '122.3600', '2. high': '135.5000', '3. low': '105.9200', '4. close': '111.6600', '5. volume': '159130911'}, '2020-09-30': {'1. open': '122.8500', '2. high': '129.9500', '3. low': '116.4800', '4. close': '121.6700', '5. volume': '84510174'}, '2020-08-31': {'1. open': '123.5000', '2. high': '130.4700', '3. low': '122.1500', '4. close': '123.3100', '5. volume': '74033007'}, '2020-07-31': {'1. open': '120.2700', '2. high': '132.1700', '3. low': '115.2000', '4. close': '122.9400', '5. volume': '113972765'}, '2020-06-30': {'1. open': '124.6400', '2. high': '135.8800', '3. low': '115.8800', '4. close': '120.7700', '5. volume': '120931250'}, '2020-05-29': {'1. open': '123.1900', '2. high': '126.9700', '3. low': '111.8100', '4. close': '124.9000', '5. volume': '92864791'}, '2020-04-30': {'1. open': '106.3600', '2. high': '129.3100', '3. low': '104.5200', '4. close': '125.5600', '5. volume': '130400316'}, '2020-03-31': {'1. open': '130.7500', '2. high': '136.1000', '3. low': '90.5600', '4. close': '110.9300', '5. volume': '189585053'}, '2020-02-28': {'1. open': '144.2500', '2. high': '158.7500', '3. low': '126.3600', '4. close': '130.1500', '5. volume': '118092333'}, '2020-01-31': {'1. open': '135.0000', '2. high': '145.7900', '3. low': '133.2000', '4. close': '143.7300', '5. volume': '112864967'}, '2019-12-31': {'1. open': '134.4500', '2. high': '136.4200', '3. low': '130.6900', '4. close': '134.0400', '5. volume': '71661951'}, '2019-11-29': {'1. open': '134.5000', '2. high': '139.1400', '3. low': '132.7500', '4. close': '134.4500', '5. volume': '64898948'}, '2019-10-31': {'1. open': '145.5900', '2. high': '147.3500', '3. low': '130.9000', '4. close': '133.7300', '5. volume': '92647927'}, '2019-09-30': {'1. open': '134.8500', '2. high': '146.5700', '3. low': '133.3300', '4. close': '145.4200', '5. volume': '62083780'}, '2019-08-30': {'1. open': '148.9000', '2. high': '152.9500', '3. low': '128.8300', '4. close': '135.5300', '5. volume': '96719129'}, '2019-07-31': {'1. open': '139.6000', '2. high': '151.9400', '3. low': '139.1300', '4. close': '148.2400', '5. volume': '80175943'}, '2019-06-28': {'1. open': '127.1000', '2. high': '140.1500', '3. low': '127.0600', '4. close': '137.9000', '5. volume': '61342985'}, '2019-05-31': {'1. open': '140.5500', '2. high': '141.8100', '3. low': '126.8500', '4. close': '126.9900', '5. volume': '75537897'}, '2019-04-30': {'1. open': '141.5100', '2. high': '145.3900', '3. low': '136.2600', '4. close': '140.2700', '5. volume': '80199229'}, '2019-03-29': {'1. open': '139.3100', '2. high': '142.1200', '3. low': '133.5800', '4. close': '141.1000', '5. volume': '74688899'}, '2019-02-28': {'1. open': '134.9700', '2. high': '140.4900', '3. low': '132.1200', '4. close': '138.1300', '5. volume': '68462024'}, '2019-01-31': {'1. open': '112.0100', '2. high': '135.4100', '3. low': '111.6900', '4. close': '134.4200', '5. volume': '120388583'}, '2018-12-31': {'1. open': '125.6700', '2. high': '126.5900', '3. low': '105.9400', '4. close': '113.6700', '5. volume': '115600988'}, '2018-11-30': {'1. open': '115.5000', '2. high': '125.0600', '3. low': '114.5400', '4. close': '124.2700', '5. volume': '141719180'}, '2018-10-31': {'1. open': '151.7100', '2. high': '154.3600', '3. low': '114.0900', '4. close': '115.4300', '5. volume': '198093801'}, '2018-09-28': {'1. open': '145.9800', '2. high': '153.3500', '3. low': '144.8100', '4. close': '151.2100', '5. volume': '95868702'}, '2018-08-31': {'1. open': '144.7600', '2. high': '147.9300', '3. low': '142.0000', '4. close': '146.4800', '5. volume': '79196876'}, '2018-07-31': {'1. open': '138.2800', '2. high': '150.5400', '3. low': '138.2000', '4. close': '144.9300', '5. volume': '95015127'}, '2018-06-29': {'1. open': '142.4300', '2. high': '147.5200', '3. low': '137.4500', '4. close': '139.7000', '5. volume': '90243111'}, '2018-05-31': {'1. open': '144.6500', '2. high': '146.2000', '3. low': '139.9000', '4. close': '141.3100', '5. volume': '88812832'}, '2018-04-30': {'1. open': '153.3400', '2. high': '162.0000', '3. low': '144.1100', '4. close': '144.9600', '5. volume': '122893135'}, '2018-03-29': {'1. open': '155.5300', '2. high': '162.1100', '3. low': '148.5400', '4. close': '153.4300', '5. volume': '92113147'}, '2018-02-28': {'1. open': '163.1900', '2. high': '164.1300', '3. low': '144.4000', '4. close': '155.8300', '5. volume': '100673819'}, '2018-01-31': {'1. open': '154.5000', '2. high': '171.1300', '3. low': '153.5400', '4. close': '163.7000', '5. volume': '140197975'}, '2017-12-29': {'1. open': '154.4000', '2. high': '157.8500', '3. low': '151.4900', '4. close': '153.4200', '5. volume': '87525752'}, '2017-11-30': {'1. open': '154.1000', '2. high': '154.9000', '3. low': '146.2110', '4. close': '153.9700', '5. volume': '89208545'}, '2017-10-31': {'1. open': '145.3500', '2. high': '162.5100', '3. low': '145.2100', '4. close': '154.0600', '5. volume': '121490046'}, '2017-09-29': {'1. open': '142.9800', '2. high': '147.4200', '3. low': '141.6400', '4. close': '145.0800', '5. volume': '77056229'}, '2017-08-31': {'1. open': '145.0000', '2. high': '145.6700', '3. low': '139.1300', '4. close': '143.0300', '5. volume': '79260314'}, '2017-07-31': {'1. open': '153.5800', '2. high': '156.0250', '3. low': '143.6400', '4. close': '144.6700', '5. volume': '91242021'}, '2017-06-30': {'1. open': '152.8000', '2. high': '157.2000', '3. low': '150.8000', '4. close': '153.8300', '5. volume': '82652760'}, '2017-05-31': {'1. open': '160.0500', '2. high': '160.4200', '3. low': '149.7900', '4. close': '152.6300', '5. volume': '102455942'}, '2017-04-28': {'1. open': '173.8200', '2. high': '176.3300', '3. low': '159.6000', '4. close': '160.2900', '5. volume': '80758989'}, '2017-03-31': {'1. open': '180.4800', '2. high': '182.5500', '3. low': '172.0937', '4. close': '174.1400', '5. volume': '79476385'}, '2017-02-28': {'1. open': '175.0000', '2. high': '182.7900', '3. low': '172.8900', '4. close': '179.8200', '5. volume': '59817600'}, '2017-01-31': {'1. open': '167.0000', '2. high': '179.2500', '3. low': '165.3400', '4. close': '174.5200', '5. volume': '88671370'}, '2016-12-30': {'1. open': '161.9500', '2. high': '169.9520', '3. low': '158.3000', '4. close': '165.9900', '5. volume': '69463793'}, '2016-11-30': {'1. open': '153.5000', '2. high': '164.6600', '3. low': '151.0000', '4. close': '162.2200', '5. volume': '76340912'}, '2016-10-31': {'1. open': '158.0600', '2. high': '158.5300', '3. low': '147.7900', '4. close': '153.6900', '5. volume': '78325840'}, '2016-09-30': {'1. open': '158.3200', '2. high': '165.0000', '3. low': '153.2100', '4. close': '158.8500', '5. volume': '69951563'}, '2016-08-31': {'1. open': '160.6500', '2. high': '164.9500', '3. low': '157.8500', '4. close': '158.8800', '5. volume': '69680582'}, '2016-07-29': {'1. open': '152.1900', '2. high': '163.6000', '3. low': '149.9200', '4. close': '160.6200', '5. volume': '69930927'}, '2016-06-30': {'1. open': '153.0000', '2. high': '155.4800', '3. low': '142.5000', '4. close': '151.7800', '5. volume': '77115961'}, '2016-05-31': {'1. open': '146.5600', '2. high': '153.8100', '3. low': '142.9000', '4. close': '153.7400', '5. volume': '75248178'}, '2016-04-29': {'1. open': '150.5100', '2. high': '153.5200', '3. low': '142.6100', '4. close': '145.9400', '5. volume': '94431134'}, '2016-03-31': {'1. open': '132.2400', '2. high': '153.1000', '3. low': '132.0300', '4. close': '151.4500', '5. volume': '105698603'}, '2016-02-29': {'1. open': '124.4000', '2. high': '134.9200', '3. low': '116.9010', '4. close': '131.0300', '5. volume': '106703104'}, '2016-01-29': {'1. open': '135.6000', '2. high': '136.8900', '3. low': '118.0000', '4. close': '124.7900', '5. volume': '126204196'}, '2015-12-31': {'1. open': '139.5800', '2. high': '141.4000', '3. low': '133.9100', '4. close': '137.6200', '5. volume': '97650594'}, '2015-11-30': {'1. open': '140.5000', '2. high': '142.8000', '3. low': '131.6500', '4. close': '139.4200', '5. volume': '85421426'}, '2015-10-30': {'1. open': '145.3100', '2. high': '153.1470', '3. low': '137.3300', '4. close': '140.0800', '5. volume': '120622363'}, '2015-09-30': {'1. open': '144.8400', '2. high': '149.6800', '3. low': '141.1501', '4. close': '144.9700', '5. volume': '81761648'}, '2015-08-31': {'1. open': '161.7000', '2. high': '161.8500', '3. low': '140.6200', '4. close': '147.8900', '5. volume': '93750967'}, '2015-07-31': {'1. open': '163.9700', '2. high': '173.7800', '3. low': '158.5000', '4. close': '161.9900', '5. volume': '93805392'}, '2015-06-30': {'1. open': '170.2100', '2. high': '171.5601', '3. low': '162.1200', '4. close': '162.6600', '5. volume': '80845501'}, '2015-05-29': {'1. open': '173.2000', '2. high': '176.3000', '3. low': '168.8400', '4. close': '169.6500', '5. volume': '57916093'}, '2015-04-30': {'1. open': '160.2300', '2. high': '175.1303', '3. low': '158.3900', '4. close': '171.2900', '5. volume': '93821213'}, '2015-03-31': {'1. open': '161.6800', '2. high': '165.3500', '3. low': '153.4000', '4. close': '160.5000', '5. volume': '104899758'}, '2015-02-27': {'1. open': '154.0000', '2. high': '164.9900', '3. low': '151.5100', '4. close': '161.9400', '5. volume': '77654705'}, '2015-01-30': {'1. open': '161.3100', '2. high': '163.3100', '3. low': '149.5200', '4. close': '153.3100', '5. volume': '117395861'}, '2014-12-31': {'1. open': '161.6400', '2. high': '164.5200', '3. low': '150.5000', '4. close': '160.4400', '5. volume': '101614529'}, '2014-11-28': {'1. open': '164.2500', '2. high': '164.9700', '3. low': '159.8000', '4. close': '162.1700', '5. volume': '80018581'}, '2014-10-31': {'1. open': '189.9100', '2. high': '190.8900', '3. low': '161.1000', '4. close': '164.4000', '5. volume': '146272610'}, '2014-09-30': {'1. open': '192.6800', '2. high': '195.0000', '3. low': '188.1200', '4. close': '189.8300', '5. volume': '64033759'}, '2014-08-29': {'1. open': '190.5000', '2. high': '194.1330', '3. low': '183.5800', '4. close': '192.3000', '5. volume': '53441600'}, '2014-07-31': {'1. open': '181.7000', '2. high': '196.4000', '3. low': '181.7000', '4. close': '191.6700', '5. volume': '97597800'}, '2014-06-30': {'1. open': '184.7600', '2. high': '187.6500', '3. low': '179.2700', '4. close': '181.2700', '5. volume': '78501700'}, '2014-05-30': {'1. open': '196.3100', '2. high': '196.7400', '3. low': '182.3300', '4. close': '184.3600', '5. volume': '70018300'}, '2014-04-30': {'1. open': '193.1200', '2. high': '199.2100', '3. low': '187.0100', '4. close': '196.4700', '5. volume': '118447100'}, '2014-03-31': {'1. open': '183.3300', '2. high': '195.6300', '3. low': '182.2100', '4. close': '192.4900', '5. volume': '118984000'}, '2014-02-28': {'1. open': '176.0200', '2. high': '186.1200', '3. low': '172.1900', '4. close': '185.1700', '5. volume': '87054800'}, '2014-01-31': {'1. open': '187.2100', '2. high': '190.8100', '3. low': '175.3400', '4. close': '176.6800', '5. volume': '123489300'}, '2013-12-31': {'1. open': '179.4600', '2. high': '187.7900', '3. low': '172.7300', '4. close': '187.5700', '5. volume': '97993100'}, '2013-11-29': {'1. open': '179.8100', '2. high': '186.2400', '3. low': '177.3100', '4. close': '179.6800', '5. volume': '100984900'}, '2013-10-31': {'1. open': '185.3400', '2. high': '186.9900', '3. low': '172.5700', '4. close': '179.2100', '5. volume': '130967100'}, '2013-09-30': {'1. open': '183.6300', '2. high': '194.8900', '3. low': '182.3100', '4. close': '185.1800', '5. volume': '71488100'}, '2013-08-30': {'1. open': '196.6500', '2. high': '197.1700', '3. low': '181.1000', '4. close': '182.2700', '5. volume': '73077400'}, '2013-07-31': {'1. open': '192.1500', '2. high': '200.9400', '3. low': '190.2600', '4. close': '195.0400', '5. volume': '88079400'}, '2013-06-28': {'1. open': '208.2500', '2. high': '210.0500', '3. low': '188.4100', '4. close': '191.1100', '5. volume': '80215000'}, '2013-05-31': {'1. open': '201.8700', '2. high': '211.9800', '3. low': '199.2000', '4. close': '208.0200', '5. volume': '90683600'}, '2013-04-30': {'1. open': '212.8000', '2. high': '214.8900', '3. low': '187.6800', '4. close': '202.5400', '5. volume': '108666600'}, '2013-03-28': {'1. open': '200.6500', '2. high': '215.9000', '3. low': '199.3600', '4. close': '213.3000', '5. volume': '76023800'}, '2013-02-28': {'1. open': '204.6500', '2. high': '205.3500', '3. low': '197.5100', '4. close': '200.8300', '5. volume': '64144100'}, '2013-01-31': {'1. open': '194.0900', '2. high': '208.5800', '3. low': '190.3900', '4. close': '203.0700', '5. volume': '87636600'}, '2012-12-31': {'1. open': '190.7600', '2. high': '196.4500', '3. low': '186.9400', '4. close': '191.5500', '5. volume': '79320200'}, '2012-11-30': {'1. open': '194.9600', '2. high': '198.0000', '3. low': '184.7800', '4. close': '190.0700', '5. volume': '81892500'}, '2012-10-31': {'1. open': '208.0100', '2. high': '211.7900', '3. low': '190.5600', '4. close': '194.5300', '5. volume': '96155000'}, '2012-09-28': {'1. open': '196.6100', '2. high': '208.3200', '3. low': '193.2500', '4. close': '207.4500', '5. volume': '77341400'}, '2012-08-31': {'1. open': '196.9600', '2. high': '202.0000', '3. low': '193.0200', '4. close': '194.8500', '5. volume': '60653700'}, '2012-07-31': {'1. open': '196.3600', '2. high': '197.8400', '3. low': '181.8500', '4. close': '195.9800', '5. volume': '91516500'}, '2012-06-29': {'1. open': '190.1200', '2. high': '199.9900', '3. low': '187.0000', '4. close': '195.5800', '5. volume': '84559100'}, '2012-05-31': {'1. open': '207.1800', '2. high': '208.9290', '3. low': '192.0000', '4. close': '192.9000', '5. volume': '86005300'}, '2012-04-30': {'1. open': '208.9600', '2. high': '210.6900', '3. low': '196.7910', '4. close': '207.0800', '5. volume': '86603000'}, '2012-03-30': {'1. open': '197.2300', '2. high': '209.1200', '3. low': '196.8120', '4. close': '208.6500', '5. volume': '88096900'}, '2012-02-29': {'1. open': '193.2100', '2. high': '199.2300', '3. low': '190.8310', '4. close': '196.7300', '5. volume': '78809900'}, '2012-01-31': {'1. open': '186.7300', '2. high': '193.1000', '3. low': '177.3472', '4. close': '192.6000', '5. volume': '110015000'}, '2011-12-30': {'1. open': '187.0100', '2. high': '194.9000', '3. low': '179.0400', '4. close': '183.8800', '5. volume': '103436500'}, '2011-11-30': {'1. open': '181.5500', '2. high': '189.9700', '3. low': '177.0600', '4. close': '188.0000', '5. volume': '97014100'}, '2011-10-31': {'1. open': '174.3600', '2. high': '190.5300', '3. low': '168.8800', '4. close': '184.6300', '5. volume': '144563700'}, '2011-09-30': {'1. open': '172.7100', '2. high': '180.9100', '3. low': '158.7600', '4. close': '174.8700', '5. volume': '137895000'}, '2011-08-31': {'1. open': '182.6000', '2. high': '183.6900', '3. low': '157.1300', '4. close': '171.9100', '5. volume': '195054100'}, '2011-07-29': {'1. open': '171.6100', '2. high': '185.6300', '3. low': '171.4900', '4. close': '181.8500', '5. volume': '113593200'}, '2011-06-30': {'1. open': '168.9000', '2. high': '172.4468', '3. low': '161.5200', '4. close': '171.5500', '5. volume': '105442400'}, '2011-05-31': {'1. open': '172.1100', '2. high': '173.5400', '3. low': '165.9000', '4. close': '168.9300', '5. volume': '110804200'}, '2011-04-29': {'1. open': '163.7000', '2. high': '173.0000', '3. low': '162.1900', '4. close': '170.5800', '5. volume': '100769500'}, '2011-03-31': {'1. open': '163.1500', '2. high': '167.7200', '3. low': '151.7100', '4. close': '163.0700', '5. volume': '129714300'}, '2011-02-28': {'1. open': '162.1100', '2. high': '166.2500', '3. low': '159.0300', '4. close': '161.8800', '5. volume': '89067500'}, '2011-01-31': {'1. open': '147.2100', '2. high': '164.3500', '3. low': '146.6400', '4. close': '162.0000', '5. volume': '118831600'}, '2010-12-31': {'1. open': '143.6100', '2. high': '147.5000', '3. low': '143.5100', '4. close': '146.7600', '5. volume': '93392800'}, '2010-11-30': {'1. open': '143.6400', '2. high': '147.5300', '3. low': '141.1800', '4. close': '141.4600', '5. volume': '104096700'}, '2010-10-29': {'1. open': '135.5100', '2. high': '144.0000', '3. low': '134.3900', '4. close': '143.6000', '5. volume': '137284700'}, '2010-09-30': {'1. open': '125.3100', '2. high': '136.1100', '3. low': '124.5200', '4. close': '134.1400', '5. volume': '116092900'}, '2010-08-31': {'1. open': '129.2500', '2. high': '132.4900', '3. low': '122.2800', '4. close': '123.1300', '5. volume': '117394000'}, '2010-07-30': {'1. open': '123.5500', '2. high': '131.6000', '3. low': '120.6100', '4. close': '128.4000', '5. volume': '144080000'}, '2010-06-30': {'1. open': '124.6900', '2. high': '131.9400', '3. low': '122.8200', '4. close': '123.4800', '5. volume': '162019100'}, '2010-05-28': {'1. open': '129.3900', '2. high': '133.1000', '3. low': '116.0000', '4. close': '125.2600', '5. volume': '188444200'}, '2010-04-30': {'1. open': '128.9500', '2. high': '132.2800', '3. low': '127.1200', '4. close': '129.0000', '5. volume': '146426400'}, '2010-03-31': {'1. open': '127.5000', '2. high': '130.7300', '3. low': '125.2000', '4. close': '128.2500', '5. volume': '139997300'}, '2010-02-26': {'1. open': '123.2300', '2. high': '128.2700', '3. low': '121.6100', '4. close': '127.1600', '5. volume': '113211200'}, '2010-01-29': {'1. open': '131.1800', '2. high': '134.2500', '3. low': '121.9000', '4. close': '122.3900', '5. volume': '156110600'}, '2009-12-31': {'1. open': '127.2900', '2. high': '132.8500', '3. low': '126.0000', '4. close': '130.9000', '5. volume': '124475900'}, '2009-11-30': {'1. open': '120.6100', '2. high': '128.9400', '3. low': '119.5000', '4. close': '126.3500', '5. volume': '110748200'}, '2009-10-30': {'1. open': '119.3900', '2. high': '128.6100', '3. low': '117.2600', '4. close': '120.6100', '5. volume': '183531100'}, '2009-09-30': {'1. open': '117.6700', '2. high': '122.8800', '3. low': '115.1500', '4. close': '119.6100', '5. volume': '131522200'}, '2009-08-31': {'1. open': '118.8800', '2. high': '120.8800', '3. low': '116.1200', '4. close': '118.0500', '5. volume': '112480200'}, '2009-07-31': {'1. open': '105.0000', '2. high': '119.3700', '3. low': '99.5000', '4. close': '117.9300', '5. volume': '176171400'}, '2009-06-30': {'1. open': '106.9400', '2. high': '110.6400', '3. low': '103.5100', '4. close': '104.4200', '5. volume': '160502100'}, '2009-05-29': {'1. open': '103.7800', '2. high': '106.8200', '3. low': '99.8300', '4. close': '106.2800', '5. volume': '153084700'}, '2009-04-30': {'1. open': '96.1300', '2. high': '106.0500', '3. low': '95.7000', '4. close': '103.2100', '5. volume': '213623100'}, '2009-03-31': {'1. open': '91.1700', '2. high': '99.8600', '3. low': '83.0200', '4. close': '96.8900', '5. volume': '286114500'}, '2009-02-27': {'1. open': '90.6000', '2. high': '97.1000', '3. low': '82.8500', '4. close': '92.0300', '5. volume': '223017600'}, '2009-01-30': {'1. open': '83.8900', '2. high': '94.9400', '3. low': '81.7600', '4. close': '91.6500', '5. volume': '208959400'}, '2008-12-31': {'1. open': '80.9500', '2. high': '87.2700', '3. low': '75.3100', '4. close': '84.1600', '5. volume': '188846100'}, '2008-11-28': {'1. open': '92.6400', '2. high': '94.7600', '3. low': '69.5000', '4. close': '81.6000', '5. volume': '218313000'}, '2008-10-31': {'1. open': '115.5100', '2. high': '116.8000', '3. low': '78.8200', '4. close': '92.9700', '5. volume': '314972000'}, '2008-09-30': {'1. open': '122.8700', '2. high': '124.0000', '3. low': '109.9500', '4. close': '116.9600', '5. volume': '218411700'}, '2008-08-29': {'1. open': '128.5200', '2. high': '129.9700', '3. low': '121.5000', '4. close': '121.7300', '5. volume': '137028800'}, '2008-07-31': {'1. open': '117.5000', '2. high': '130.9300', '3. low': '116.6000', '4. close': '127.9800', '5. volume': '200876500'}, '2008-06-30': {'1. open': '128.6700', '2. high': '129.3700', '3. low': '118.1500', '4. close': '118.5300', '5. volume': '152327500'}, '2008-05-30': {'1. open': '121.0600', '2. high': '129.9900', '3. low': '120.7800', '4. close': '129.4300', '5. volume': '159517500'}, '2008-04-30': {'1. open': '115.1400', '2. high': '125.0000', '3. low': '113.8600', '4. close': '120.7000', '5. volume': '192087200'}, '2008-03-31': {'1. open': '114.0900', '2. high': '119.7900', '3. low': '111.8000', '4. close': '115.1400', '5. volume': '179284200'}, '2008-02-29': {'1. open': '107.2100', '2. high': '116.6300', '3. low': '100.6000', '4. close': '113.8600', '5. volume': '168280800'}, '2008-01-31': {'1. open': '108.9900', '2. high': '108.9900', '3. low': '97.0400', '4. close': '107.1100', '5. volume': '247523900'}, '2007-12-31': {'1. open': '105.4500', '2. high': '112.1900', '3. low': '104.0000', '4. close': '108.1000', '5. volume': '134151600'}, '2007-11-30': {'1. open': '115.5000', '2. high': '116.0900', '3. low': '99.2700', '4. close': '105.1800', '5. volume': '200920600'}, '2007-10-31': {'1. open': '117.6100', '2. high': '121.4600', '3. low': '110.9600', '4. close': '116.1200', '5. volume': '171669000'}, '2007-09-28': {'1. open': '116.3400', '2. high': '118.8900', '3. low': '114.3000', '4. close': '117.8000', '5. volume': '132233800'}, '2007-08-31': {'1. open': '110.3900', '2. high': '117.3500', '3. low': '103.7000', '4. close': '116.6900', '5. volume': '202871500'}, '2007-07-31': {'1. open': '105.3900', '2. high': '118.8200', '3. low': '104.5800', '4. close': '110.6500', '5. volume': '212757600'}, '2007-06-29': {'1. open': '106.6200', '2. high': '107.2400', '3. low': '101.5600', '4. close': '105.2500', '5. volume': '169602000'}, '2007-05-31': {'1. open': '102.0600', '2. high': '108.0500', '3. low': '101.3500', '4. close': '106.6000', '5. volume': '146441400'}, '2007-04-30': {'1. open': '94.5100', '2. high': '103.0000', '3. low': '93.9110', '4. close': '102.2100', '5. volume': '166807200'}, '2007-03-30': {'1. open': '90.2500', '2. high': '95.8100', '3. low': '88.7700', '4. close': '94.2600', '5. volume': '163194500'}, '2007-02-28': {'1. open': '98.9700', '2. high': '100.4400', '3. low': '92.4700', '4. close': '92.9400', '5. volume': '125776200'}, '2007-01-31': {'1. open': '97.1700', '2. high': '100.9000', '3. low': '94.5500', '4. close': '99.1500', '5. volume': '192702000'}, '2006-12-29': {'1. open': '91.9000', '2. high': '97.8800', '3. low': '90.5500', '4. close': '97.1500', '5. volume': '104470200'}, '2006-11-30': {'1. open': '92.5000', '2. high': '94.0500', '3. low': '90.4300', '4. close': '91.9200', '5. volume': '104430000'}, '2006-10-31': {'1. open': '81.7600', '2. high': '92.6800', '3. low': '81.5600', '4. close': '92.3300', '5. volume': '170367300'}, '2006-09-29': {'1. open': '81.1300', '2. high': '83.7900', '3. low': '79.3100', '4. close': '81.9400', '5. volume': '102776100'}, '2006-08-31': {'1. open': '76.8600', '2. high': '81.6800', '3. low': '74.9000', '4. close': '80.9700', '5. volume': '100880300'}, '2006-07-31': {'1. open': '77.5400', '2. high': '78.5300', '3. low': '72.7300', '4. close': '77.4100', '5. volume': '137188300'}, '2006-06-30': {'1. open': '79.8900', '2. high': '80.8700', '3. low': '76.0600', '4. close': '76.8200', '5. volume': '139457800'}, '2006-05-31': {'1. open': '82.5900', '2. high': '83.6900', '3. low': '79.0000', '4. close': '79.9000', '5. volume': '113146500'}, '2006-04-28': {'1. open': '82.7200', '2. high': '84.4500', '3. low': '80.6300', '4. close': '82.3400', '5. volume': '114007000'}, '2006-03-31': {'1. open': '80.0100', '2. high': '84.9900', '3. low': '79.5100', '4. close': '82.4700', '5. volume': '111514900'}, '2006-02-28': {'1. open': '80.9000', '2. high': '82.2400', '3. low': '78.9300', '4. close': '80.2400', '5. volume': '111052200'}, '2006-01-31': {'1. open': '82.4500', '2. high': '85.0300', '3. low': '80.2100', '4. close': '81.3000', '5. volume': '146491600'}, '2005-12-30': {'1. open': '89.1500', '2. high': '89.9200', '3. low': '81.5600', '4. close': '82.2000', '5. volume': '120052400'}, '2005-11-30': {'1. open': '81.8500', '2. high': '89.9400', '3. low': '80.6400', '4. close': '88.9000', '5. volume': '110664500'}, '2005-10-31': {'1. open': '80.2200', '2. high': '84.6000', '3. low': '78.7000', '4. close': '81.8800', '5. volume': '139881800'}, '2005-09-30': {'1. open': '80.1600', '2. high': '82.1100', '3. low': '76.9300', '4. close': '80.2200', '5. volume': '115681400'}, '2005-08-31': {'1. open': '83.0000', '2. high': '84.2000', '3. low': '79.8700', '4. close': '80.6200', '5. volume': '105031100'}, '2005-07-29': {'1. open': '74.3000', '2. high': '85.1100', '3. low': '74.1600', '4. close': '83.4600', '5. volume': '156801500'}, '2005-06-30': {'1. open': '75.5700', '2. high': '77.7300', '3. low': '73.4500', '4. close': '74.2000', '5. volume': '135542800'}, '2005-05-31': {'1. open': '76.8800', '2. high': '78.1100', '3. low': '72.5000', '4. close': '75.5500', '5. volume': '138416000'}, '2005-04-29': {'1. open': '91.4900', '2. high': '91.7600', '3. low': '71.8500', '4. close': '76.3800', '5. volume': '216745500'}, '2005-03-31': {'1. open': '92.6400', '2. high': '93.7300', '3. low': '89.0900', '4. close': '91.3800', '5. volume': '106145200'}, '2005-02-28': {'1. open': '93.6700', '2. high': '94.9700', '3. low': '91.5500', '4. close': '92.5800', '5. volume': '79707700'}, '2005-01-31': {'1. open': '98.9700', '2. high': '99.1000', '3. low': '91.4400', '4. close': '93.4200', '5. volume': '114459000'}, '2004-12-31': {'1. open': '94.5000', '2. high': '99.0000', '3. low': '94.4700', '4. close': '98.5800', '5. volume': '108170400'}, '2004-11-30': {'1. open': '89.3300', '2. high': '96.6300', '3. low': '89.2300', '4. close': '94.2400', '5. volume': '114982100'}, '2004-10-29': {'1. open': '85.9500', '2. high': '90.2700', '3. low': '84.2900', '4. close': '89.7500', '5. volume': '118116100'}, '2004-09-30': {'1. open': '84.0500', '2. high': '87.2800', '3. low': '83.2400', '4. close': '85.7400', '5. volume': '93906300'}, '2004-08-31': {'1. open': '86.8700', '2. high': '87.3900', '3. low': '81.9000', '4. close': '84.6900', '5. volume': '91169700'}, '2004-07-30': {'1. open': '88.2800', '2. high': '88.4400', '3. low': '83.4200', '4. close': '87.0700', '5. volume': '121001000'}, '2004-06-30': {'1. open': '88.0900', '2. high': '91.2100', '3. low': '87.3000', '4. close': '88.1500', '5. volume': '91968600'}, '2004-05-28': {'1. open': '88.1300', '2. high': '89.7500', '3. low': '85.1200', '4. close': '88.5900', '5. volume': '104707300'}, '2004-04-30': {'1. open': '91.6700', '2. high': '94.5500', '3. low': '88.0100', '4. close': '88.1700', '5. volume': '110632000'}, '2004-03-31': {'1. open': '96.5000', '2. high': '97.6000', '3. low': '90.2800', '4. close': '91.8400', '5. volume': '124483700'}, '2004-02-27': {'1. open': '99.1500', '2. high': '100.4300', '3. low': '95.2000', '4. close': '96.5000', '5. volume': '97741900'}, '2004-01-30': {'1. open': '92.8600', '2. high': '99.8500', '3. low': '89.0100', '4. close': '99.2300', '5. volume': '139368500'}, '2003-12-31': {'1. open': '90.9000', '2. high': '94.1200', '3. low': '90.0300', '4. close': '92.6800', '5. volume': '116103600'}, '2003-11-28': {'1. open': '89.9000', '2. high': '91.4800', '3. low': '87.7200', '4. close': '90.5400', '5. volume': '97966100'}, '2003-10-31': {'1. open': '88.7500', '2. high': '94.5400', '3. low': '87.5300', '4. close': '89.4800', '5. volume': '156145400'}, '2003-09-30': {'1. open': '82.4000', '2. high': '93.4700', '3. low': '82.3000', '4. close': '88.3300', '5. volume': '171943100'}, '2003-08-29': {'1. open': '81.1500', '2. high': '84.7200', '3. low': '78.7300', '4. close': '82.0100', '5. volume': '113895200'}, '2003-07-31': {'1. open': '81.4000', '2. high': '87.0300', '3. low': '80.5800', '4. close': '81.2500', '5. volume': '153915600'}, '2003-06-30': {'1. open': '89.0000', '2. high': '89.0800', '3. low': '79.8100', '4. close': '82.5000', '5. volume': '184488300'}, '2003-05-30': {'1. open': '85.3000', '2. high': '90.4000', '3. low': '84.4500', '4. close': '88.0400', '5. volume': '149548000'}, '2003-04-30': {'1. open': '78.5000', '2. high': '86.4900', '3. low': '78.1200', '4. close': '84.9000', '5. volume': '177874300'}, '2003-03-31': {'1. open': '78.9000', '2. high': '84.9000', '3. low': '73.1700', '4. close': '78.4300', '5. volume': '191937200'}, '2003-02-28': {'1. open': '78.2000', '2. high': '80.0500', '3. low': '74.3100', '4. close': '77.9500', '5. volume': '145672700'}, '2003-01-31': {'1. open': '78.8000', '2. high': '88.9500', '3. low': '77.0200', '4. close': '78.2000', '5. volume': '193933500'}, '2002-12-31': {'1. open': '88.6000', '2. high': '89.4600', '3. low': '75.6000', '4. close': '77.5000', '5. volume': '151563500'}, '2002-11-29': {'1. open': '78.9000', '2. high': '88.1100', '3. low': '76.7000', '4. close': '86.9200', '5. volume': '184438100'}, '2002-10-31': {'1. open': '59.2000', '2. high': '79.7900', '3. low': '54.0100', '4. close': '78.9400', '5. volume': '285626300'}, '2002-09-30': {'1. open': '74.2000', '2. high': '77.5000', '3. low': '57.9900', '4. close': '58.3100', '5. volume': '185664400'}, '2002-08-30': {'1. open': '70.4000', '2. high': '82.8500', '3. low': '65.8500', '4. close': '75.3800', '5. volume': '166322300'}, '2002-07-31': {'1. open': '72.0100', '2. high': '74.2000', '3. low': '65.7000', '4. close': '70.4000', '5. volume': '246256900'}, '2002-06-28': {'1. open': '80.7500', '2. high': '80.9500', '3. low': '66.1000', '4. close': '72.0000', '5. volume': '190980700'}, '2002-05-31': {'1. open': '83.8500', '2. high': '86.4900', '3. low': '75.9200', '4. close': '80.4500', '5. volume': '172738400'}, '2002-04-30': {'1. open': '104.0000', '2. high': '104.0000', '3. low': '83.3400', '4. close': '83.7600', '5. volume': '246503300'}, '2002-03-28': {'1. open': '98.6000', '2. high': '108.8500', '3. low': '98.5000', '4. close': '104.0000', '5. volume': '151268500'}, '2002-02-28': {'1. open': '107.6400', '2. high': '109.3000', '3. low': '95.7600', '4. close': '98.1200', '5. volume': '172321000'}, '2002-01-31': {'1. open': '120.6000', '2. high': '126.3900', '3. low': '101.0000', '4. close': '107.8900', '5. volume': '193562900'}, '2001-12-31': {'1. open': '114.8000', '2. high': '124.7000', '3. low': '113.2100', '4. close': '120.9600', '5. volume': '133393800'}, '2001-11-30': {'1. open': '107.2500', '2. high': '117.0000', '3. low': '106.9000', '4. close': '115.5900', '5. volume': '135136300'}, '2001-10-31': {'1. open': '91.7200', '2. high': '112.1000', '3. low': '91.3400', '4. close': '108.0700', '5. volume': '224351500'}, '2001-09-28': {'1. open': '100.1500', '2. high': '103.1300', '3. low': '87.4900', '4. close': '91.7200', '5. volume': '189312500'}, '2001-08-31': {'1. open': '105.3500', '2. high': '110.0900', '3. low': '98.8600', '4. close': '99.9500', '5. volume': '143401500'}, '2001-07-31': {'1. open': '113.5000', '2. high': '115.4000', '3. low': '101.5600', '4. close': '105.2100', '5. volume': '161016400'}, '2001-06-29': {'1. open': '112.5000', '2. high': '119.0000', '3. low': '111.1000', '4. close': '113.5000', '5. volume': '142929700'}, '2001-05-31': {'1. open': '115.8500', '2. high': '119.9000', '3. low': '110.9600', '4. close': '111.8000', '5. volume': '159356200'}, '2001-04-30': {'1. open': '97.4500', '2. high': '118.0500', '3. low': '90.0500', '4. close': '115.1400', '5. volume': '226210900'}, '2001-03-30': {'1. open': '99.3000', '2. high': '108.4000', '3. low': '87.6500', '4. close': '96.1800', '5. volume': '254550000'}, '2001-02-28': {'1. open': '112.4000', '2. high': '118.6400', '3. low': '99.1000', '4. close': '99.9000', '5. volume': '156438900'}, '2001-01-31': {'1. open': '84.5000', '2. high': '116.7500', '3. low': '83.7500', '4. close': '112.0000', '5. volume': '198962600'}, '2000-12-29': {'1. open': '94.4400', '2. high': '104.7500', '3. low': '80.0600', '4. close': '85.0000', '5. volume': '167790700'}, '2000-11-30': {'1. open': '98.4400', '2. high': '104.3700', '3. low': '91.6200', '4. close': '93.5000', '5. volume': '130411900'}, '2000-10-31': {'1. open': '112.6200', '2. high': '119.6200', '3. low': '86.9400', '4. close': '98.5000', '5. volume': '223510000'}, '2000-09-29': {'1. open': '133.0600', '2. high': '134.9400', '3. low': '110.2500', '4. close': '112.6200', '5. volume': '107468400'}, '2000-08-31': {'1. open': '112.0000', '2. high': '134.2500', '3. low': '110.2500', '4. close': '132.0200', '5. volume': '121998000'}, '2000-07-31': {'1. open': '108.7500', '2. high': '117.8100', '3. low': '100.0000', '4. close': '112.2500', '5. volume': '150130400'}, '2000-06-30': {'1. open': '107.5600', '2. high': '122.3100', '3. low': '105.5000', '4. close': '109.5600', '5. volume': '136216300'}, '2000-05-31': {'1. open': '112.5000', '2. high': '113.6200', '3. low': '102.0000', '4. close': '107.3100', '5. volume': '123803200'}, '2000-04-28': {'1. open': '120.0000', '2. high': '128.0000', '3. low': '101.2500', '4. close': '111.5000', '5. volume': '168464800'}, '2000-03-31': {'1. open': '102.0000', '2. high': '128.2500', '3. low': '99.5000', '4. close': '118.3700', '5. volume': '194329000'}, '2000-02-29': {'1. open': '112.3700', '2. high': '119.7500', '3. low': '100.9400', '4. close': '102.7500', '5. volume': '133524400'}, '2000-01-31': {'1. open': '112.4400', '2. high': '124.7500', '3. low': '109.6200', '4. close': '112.2500', '5. volume': '175259600'}, '1999-12-31': {'1. open': '102.5600', '2. high': '122.1200', '3. low': '102.2500', '4. close': '107.8700', '5. volume': '158626300'}}}\n"
     ]
    }
   ],
   "source": [
    "import requests\n",
    "\n",
    "api_key = os.getenv('ALPHA_VANTAGE_API_KEY')\n",
    "url = f'https://www.alphavantage.co/query?function=TIME_SERIES_MONTHLY&symbol=IBM&apikey={api_key}'\n",
    "\n",
    "r = requests.get(url)\n",
    "data = r.json()\n",
    "\n",
    "print(data)"
   ]
  },
  {
   "cell_type": "markdown",
   "metadata": {},
   "source": [
    "## Connect to LLM"
   ]
  },
  {
   "cell_type": "markdown",
   "metadata": {},
   "source": [
    "### OLLAMA"
   ]
  },
  {
   "cell_type": "code",
   "execution_count": null,
   "metadata": {},
   "outputs": [],
   "source": [
    "content_start = (\n",
    "    \"Answer the question using only the context below.\\n\\n\"+\n",
    "    \"Context:\\n\"\n",
    ")\n",
    "\n",
    "content_end = (\n",
    "    f\"\\n\\nQuestion: {llm_query}\\nAnswer:\"\n",
    ")\n",
    "\n",
    "content = (\n",
    "    content_start + \"\\n\\n---\\n\\n\".join(search_results) + \n",
    "    content_end\n",
    ")\n",
    "\n",
    "prompt = [{'role': 'user', 'content': content }]"
   ]
  },
  {
   "cell_type": "markdown",
   "metadata": {},
   "source": [
    "### LangChain"
   ]
  },
  {
   "cell_type": "code",
   "execution_count": null,
   "metadata": {},
   "outputs": [],
   "source": [
    "import openai\n",
    "\n",
    "os.environ[\"OPENAI_API_KEY\"] = \"sk-mnopabcd1234efghmnopabcd1234efghmnopabcd\""
   ]
  },
  {
   "cell_type": "code",
   "execution_count": null,
   "metadata": {},
   "outputs": [],
   "source": [
    "from langchain_community.document_loaders import WebBaseLoader \n",
    "\n",
    "loader = WebBaseLoader(\"https://example.com/blog-post\") \n",
    "docs = loader.load()"
   ]
  },
  {
   "cell_type": "code",
   "execution_count": null,
   "metadata": {},
   "outputs": [],
   "source": [
    "from langchain.chains.summarize import load_summarize_chain\n",
    "from langchain_openai import ChatOpenAI\n",
    "\n",
    "llm = ChatOpenAI(temperature=0, model_name=\"gpt-3.5-turbo-1106\")\n",
    "chain = load_summarize_chain(llm, chain_type=\"refine\")\n",
    "result = chain.invoke(docs)\n",
    "print(result[\"output_text\"])"
   ]
  },
  {
   "cell_type": "code",
   "execution_count": null,
   "metadata": {},
   "outputs": [],
   "source": [
    "# Use a pipeline as a high-level helper\n",
    "from transformers import pipeline\n",
    "\n",
    "pipe = pipeline(\"text-generation\", model=\"meta-llama/Llama-2-7b-hf\")"
   ]
  },
  {
   "cell_type": "code",
   "execution_count": null,
   "metadata": {},
   "outputs": [],
   "source": [
    "# Load model directly\n",
    "from transformers import AutoTokenizer, AutoModelForCausalLM\n",
    "\n",
    "tokenizer = AutoTokenizer.from_pretrained(\"meta-llama/Llama-2-7b-hf\")\n",
    "model = AutoModelForCausalLM.from_pretrained(\"meta-llama/Llama-2-7b-hf\")"
   ]
  }
 ],
 "metadata": {
  "kernelspec": {
   "display_name": "DSS5105_env",
   "language": "python",
   "name": "python3"
  },
  "language_info": {
   "codemirror_mode": {
    "name": "ipython",
    "version": 3
   },
   "file_extension": ".py",
   "mimetype": "text/x-python",
   "name": "python",
   "nbconvert_exporter": "python",
   "pygments_lexer": "ipython3",
   "version": "3.12.4"
  }
 },
 "nbformat": 4,
 "nbformat_minor": 2
}
