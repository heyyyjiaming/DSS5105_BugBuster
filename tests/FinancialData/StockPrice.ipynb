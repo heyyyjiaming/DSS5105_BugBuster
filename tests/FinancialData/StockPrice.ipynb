{
 "cells": [
  {
   "cell_type": "code",
   "execution_count": 1,
   "metadata": {},
   "outputs": [],
   "source": [
    "import pandas as pd\n",
    "import yfinance as yf\n",
    "import datetime\n",
    "import os\n",
    "import re\n"
   ]
  },
  {
   "cell_type": "code",
   "execution_count": 2,
   "metadata": {},
   "outputs": [],
   "source": [
    "## First step :clean the dataset\n",
    "def clean_name(name):\n",
    "    # Remove all Chinese characters and special symbols, retaining only letters, numbers, and spaces\n",
    "    name = re.sub(r'[^\\x00-\\x7F]+', '', name)  # Remove non-ASCII characters\n",
    "    name = re.sub(r'[^\\w\\s]', '', name)  # Remove special symbols except alphanumeric and whitespace\n",
    "    name = re.sub(' ', '', name)  # Remove spaces \n",
    "    name = name.lower() # Convert all uppercase letters to lowercase\n",
    "    return name.strip()\n",
    "\n",
    "mydata = pd.read_csv('mydata.csv')\n",
    "# Step 1: Rename column titles to English\n",
    "mydata.columns = [\"Company_Name\", \"Transaction_Code\", \"RIC\", \"Market_Value_Million\", \n",
    "              \"Total_Revenue_Million\", \"P_E_Ratio\", \"Yield_Percent\", \"Sector\", \"GTI_Score\"]\n",
    "\n",
    "# Step 2: Clean the 'Company_Name' column by:\n",
    "mydata['cleaned_transaction_name'] = mydata['Company_Name'].apply(clean_name)\n",
    "new_data = mydata[['cleaned_transaction_name','Transaction_Code','RIC']\n",
    "                  ]\n",
    "# Extract the part of 'RIC' after the period and create the 'company_ticker' column\n",
    "mydata['company_ticker'] = mydata['Transaction_Code'] + '.' + mydata['RIC'].str.split('.').str[-1]\n",
    "\n",
    "# Display the updated dataframe\n",
    "new_data = mydata[['cleaned_transaction_name', 'Transaction_Code', 'RIC', 'company_ticker']]\n",
    "\n",
    "new_data.to_csv('company_ticker_mapping.csv')\n"
   ]
  },
  {
   "cell_type": "code",
   "execution_count": 3,
   "metadata": {},
   "outputs": [],
   "source": [
    "def get_stock_data(company_name):\n",
    "    # Map company name to ticker symbol\n",
    "    ticker_symbol = get_company_ticker(company_name)\n",
    "    if not ticker_symbol:\n",
    "        print(f\"Can't get ticker symbol for {company_name}\")\n",
    "        return\n",
    "\n",
    "    # Fetch data from 2020-01-01 to today\n",
    "    start_date = '2020-01-01'\n",
    "    # end_date = datetime.datetime.today().strftime('%Y-%m-%d')\n",
    "    end_date = datetime.date.today().strftime('%Y-%m-%d')\n",
    "    data = yf.download(ticker_symbol, start=start_date, end=end_date)\n",
    "    \n",
    "    # Check if data is available\n",
    "    if data.empty:\n",
    "        print(f\"No data available for {company_name} ({ticker_symbol})\")\n",
    "        return\n",
    "\n",
    "    # Check if 'Adj Close' column exists; if not, use 'Close' as a fallback\n",
    "    if 'Adj Close' in data.columns:\n",
    "        data = data[['Adj Close']]\n",
    "    elif 'Close' in data.columns:\n",
    "        data = data[['Close']]\n",
    "        data.rename(columns={'Close': 'Adj Close'}, inplace=True)\n",
    "    else:\n",
    "        print(f\"No 'Adj Close' or 'Close' data available for {company_name} ({ticker_symbol})\")\n",
    "        return\n",
    "    \n",
    "    # Format date and reset index\n",
    "    data.reset_index(inplace=True)\n",
    "    data['Date'] = data['Date'].dt.strftime('%Y-%m-%d')\n",
    "\n",
    "    # Create folder if it doesn't exist\n",
    "    folder_path = 'StockPrice'\n",
    "    os.makedirs(folder_path, exist_ok=True)\n",
    "\n",
    "    # Save data as CSV with company name in filename\n",
    "    csv_filename = f\"{folder_path}/{company_name}_stock_data.csv\"\n",
    "    data.to_csv(csv_filename, index=False)\n",
    "    print(f\"Data saved to {csv_filename}\")\n",
    "\n",
    "    # Retrieve the most recent adjusted close price if real-time data is unavailable\n",
    "    ticker = yf.Ticker(ticker_symbol)\n",
    "    history = ticker.history(period='1d')\n",
    "    if 'Adj Close' in history.columns:\n",
    "        current_price = history['Adj Close'].iloc[-1]\n",
    "    elif 'Close' in history.columns:\n",
    "        current_price = history['Close'].iloc[-1]\n",
    "    else:\n",
    "        current_price = None\n",
    "\n",
    "    if current_price is not None:\n",
    "        print(f\"{company_name} ({ticker_symbol}) most recent Adj Close: ${current_price}\")\n",
    "    else:\n",
    "        print(f\"No recent 'Adj Close' or 'Close' price available for {company_name} ({ticker_symbol})\")\n",
    "\n",
    "def get_company_ticker(company_name):\n",
    "    company_ticker_map = pd.read_csv('company_ticker_mapping.csv')\n",
    "    # Find the row in new_data that matches the company_name\n",
    "    cleaned_input_name= clean_name(company_name)\n",
    "    result = company_ticker_map[company_ticker_map['cleaned_transaction_name'] == cleaned_input_name]\n",
    "    \n",
    "    # If a matching row is found, return the 'company_ticker' value\n",
    "    if not result.empty:\n",
    "        ticker = result['company_ticker']\n",
    "        return result.iloc[0]['company_ticker']\n",
    "    else:\n",
    "        return None  # Return None if no match is found"
   ]
  },
  {
   "cell_type": "code",
   "execution_count": 4,
   "metadata": {},
   "outputs": [
    {
     "name": "stderr",
     "output_type": "stream",
     "text": [
      "[*********************100%***********************]  1 of 1 completed"
     ]
    },
    {
     "name": "stdout",
     "output_type": "stream",
     "text": [
      "Data saved to StockPrice/Singtel_stock_data.csv\n",
      "Singtel (Z74.SI) most recent Adj Close: $3.180000066757202\n"
     ]
    },
    {
     "name": "stderr",
     "output_type": "stream",
     "text": [
      "\n"
     ]
    }
   ],
   "source": [
    "\n",
    "# Example usage\n",
    "company_name = 'Singtel'\n",
    "get_stock_data(company_name)"
   ]
  }
 ],
 "metadata": {
  "kernelspec": {
   "display_name": "virtualenvironment5105",
   "language": "python",
   "name": "python3"
  },
  "language_info": {
   "codemirror_mode": {
    "name": "ipython",
    "version": 3
   },
   "file_extension": ".py",
   "mimetype": "text/x-python",
   "name": "python",
   "nbconvert_exporter": "python",
   "pygments_lexer": "ipython3",
   "version": "3.12.4"
  }
 },
 "nbformat": 4,
 "nbformat_minor": 2
}
